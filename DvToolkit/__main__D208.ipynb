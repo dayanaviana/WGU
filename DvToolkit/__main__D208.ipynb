{
 "cells": [
  {
   "cell_type": "markdown",
   "metadata": {},
   "source": [
    "## Import Data\n",
    "Importing churn dataset"
   ]
  },
  {
   "cell_type": "code",
   "execution_count": 2,
   "metadata": {},
   "outputs": [
    {
     "name": "stdout",
     "output_type": "stream",
     "text": [
      "Importing init\n",
      "Imported\n",
      "['Customer_id', 'Interaction', 'UID', 'City', 'State', 'County', 'Zip', 'Lat', 'Lng', 'Population', 'Area', 'TimeZone', 'Job', 'Children', 'Age', 'Income', 'Marital', 'Gender', 'Churn', 'Outage_sec_perweek', 'Email', 'Contacts', 'Yearly_equip_failure', 'Techie', 'Contract', 'Port_modem', 'Tablet', 'InternetService', 'Phone', 'Multiple', 'OnlineSecurity', 'OnlineBackup', 'DeviceProtection', 'TechSupport', 'StreamingTV', 'StreamingMovies', 'PaperlessBilling', 'PaymentMethod', 'Tenure', 'MonthlyCharge', 'Bandwidth_GB_Year', 'Item1', 'Item2', 'Item3', 'Item4', 'Item5', 'Item6', 'Item7', 'Item8']\n"
     ]
    }
   ],
   "source": [
    "import ImportModule \n",
    "import_obj = ImportModule.Importing()\n",
    "url = \"https://raw.githubusercontent.com/dayanaviana/WGU/main/datasources/churn_clean.csv\"\n",
    "df = import_obj.import_from_url(url)"
   ]
  },
  {
   "cell_type": "markdown",
   "metadata": {},
   "source": [
    "## Clean Data\n",
    "Removing columns not relevant for this analysis."
   ]
  },
  {
   "cell_type": "code",
   "execution_count": 3,
   "metadata": {},
   "outputs": [
    {
     "name": "stdout",
     "output_type": "stream",
     "text": [
      "\n",
      "Cleaning init\n",
      "Columns Removed.\n",
      "['Population', 'Area', 'Children', 'Age', 'Income', 'Marital', 'Gender', 'Churn', 'Outage_sec_perweek', 'Email', 'Contacts', 'Yearly_equip_failure', 'Techie', 'Contract', 'Port_modem', 'Tablet', 'InternetService', 'Phone', 'Multiple', 'OnlineSecurity', 'OnlineBackup', 'DeviceProtection', 'TechSupport', 'StreamingTV', 'StreamingMovies', 'PaperlessBilling', 'PaymentMethod', 'Tenure', 'MonthlyCharge', 'Bandwidth_GB_Year']\n",
      "\n",
      "Complete details in df_info.txt file\n"
     ]
    }
   ],
   "source": [
    "import CleanModule\n",
    "clean_obj = CleanModule.Cleaning(df)\n",
    "list_to_remove = [\"Customer_id\",\"Interaction\",\"UID\",\"State\",\"TimeZone\",\"City\",\"County\",\"Zip\"\n",
    "    ,\"Lat\",\"Lng\",\"Job\",\"Item1\",\"Item2\",\"Item3\",\"Item4\",\"Item5\",\"Item6\",\"Item7\",\"Item8\"]\n",
    "clean_obj.remove_columns(list_to_remove)\n",
    "df = clean_obj._df"
   ]
  },
  {
   "cell_type": "markdown",
   "metadata": {},
   "source": [
    "## Summary Statistics"
   ]
  },
  {
   "cell_type": "code",
   "execution_count": 4,
   "metadata": {},
   "outputs": [],
   "source": [
    "\n",
    "df_churn_yes = df.loc[df[\"Churn\"]==\"Yes\"]\n",
    "df_churn_no = df.loc[df[\"Churn\"]==\"No\"]"
   ]
  },
  {
   "cell_type": "code",
   "execution_count": 5,
   "metadata": {},
   "outputs": [
    {
     "name": "stdout",
     "output_type": "stream",
     "text": [
      "\n",
      "Summary Statistics init\n",
      "MonthlyCharge\n",
      "Max: 290.160419\n",
      "Min: 79.97886\n",
      "Mean: 172.62\n",
      "Median: 167.48\n",
      "Mode: [179.9476]\n",
      "Variance: 1843.92\n",
      "St. Dev: 42.94\n",
      "\n",
      "Churn YES\n",
      "MonthlyCharge\n",
      "Max: 290.160419\n",
      "Min: 92.45514\n",
      "Mean: 199.30\n",
      "Median: 200.12\n",
      "Mode: [240.1149]\n",
      "Variance: 1702.42\n",
      "St. Dev: 41.26\n",
      "\n",
      "Churn NO\n",
      "MonthlyCharge\n",
      "Max: 290.1604\n",
      "Min: 79.97886\n",
      "Mean: 163.01\n",
      "Median: 159.96\n",
      "Mode: [112.4551]\n",
      "Variance: 1546.02\n",
      "St. Dev: 39.32\n"
     ]
    }
   ],
   "source": [
    "\n",
    "import SummaryStatisticsModule as s\n",
    "summaryStatistics_obj = s.SummaryStatistics()\n",
    "\n",
    "summaryStatistics_obj.get_df_summary(df, \"MonthlyCharge\")\n",
    "\n",
    "print(\"\\nChurn YES\")\n",
    "summaryStatistics_obj.get_df_summary(df_churn_yes, \"MonthlyCharge\")\n",
    "\n",
    "print(\"\\nChurn NO\")\n",
    "summaryStatistics_obj.get_df_summary(df_churn_no, \"MonthlyCharge\")"
   ]
  },
  {
   "cell_type": "markdown",
   "metadata": {},
   "source": [
    "## Distribution Graphs"
   ]
  },
  {
   "cell_type": "code",
   "execution_count": 6,
   "metadata": {},
   "outputs": [
    {
     "name": "stdout",
     "output_type": "stream",
     "text": [
      "\n",
      "Distribution Graphs init\n",
      "\n",
      "\n"
     ]
    },
    {
     "data": {
      "image/png": "[encoded data removed]",
      "text/plain": [
       "<Figure size 1368x576 with 6 Axes>"
      ]
     },
     "metadata": {
      "needs_background": "light"
     },
     "output_type": "display_data"
    }
   ],
   "source": [
    "import Graphs.DistributionGraphsModule as d\n",
    "\n",
    "dist_graph_obj = d.DistributionGraphs()\n",
    "dist_graph_obj.show_2x3_graphs(df, df_churn_yes, df_churn_no, \"MonthlyCharge\")"
   ]
  },
  {
   "cell_type": "markdown",
   "metadata": {},
   "source": [
    "## Transform data\n",
    "Get dummy variables from categorical data"
   ]
  },
  {
   "cell_type": "code",
   "execution_count": 7,
   "metadata": {},
   "outputs": [
    {
     "name": "stdout",
     "output_type": "stream",
     "text": [
      "\n",
      "Categorical Columns\n",
      "['Area', 'Marital', 'Gender', 'Churn', 'Techie', 'Contract', 'Port_modem', 'Tablet', 'InternetService', 'Phone', 'Multiple', 'OnlineSecurity', 'OnlineBackup', 'DeviceProtection', 'TechSupport', 'StreamingTV', 'StreamingMovies', 'PaperlessBilling', 'PaymentMethod']\n",
      "\n",
      "Numerical Columns\n",
      "['Population', 'Children', 'Age', 'Income', 'Outage_sec_perweek', 'Email', 'Contacts', 'Yearly_equip_failure', 'Tenure', 'MonthlyCharge', 'Bandwidth_GB_Year']\n",
      "\n",
      "Transforming init\n",
      "\n",
      "Got Dummy variables\n",
      "['Area_Suburban', 'Area_Urban', 'Marital_Married', 'Marital_Never_Married', 'Marital_Separated', 'Marital_Widowed', 'Gender_Male', 'Gender_Nonbinary', 'Churn_Yes', 'Techie_Yes', 'Contract_One_year', 'Contract_Two_Year', 'Port_modem_Yes', 'Tablet_Yes', 'InternetService_Fiber_Optic', 'InternetService_None', 'Phone_Yes', 'Multiple_Yes', 'OnlineSecurity_Yes', 'OnlineBackup_Yes', 'DeviceProtection_Yes', 'TechSupport_Yes', 'StreamingTV_Yes', 'StreamingMovies_Yes', 'PaperlessBilling_Yes', 'PaymentMethod_Credit_Card_automatic', 'PaymentMethod_Electronic_Check', 'PaymentMethod_Mailed_Check']\n",
      "           Area_Suburban  Area_Urban  Marital_Married  Marital_Never_Married  \\\n",
      "CaseOrder                                                                      \n",
      "1                      0           1                0                      0   \n",
      "2                      0           1                1                      0   \n",
      "3                      0           1                0                      0   \n",
      "4                      1           0                1                      0   \n",
      "5                      1           0                0                      0   \n",
      "\n",
      "           Marital_Separated  Marital_Widowed  Gender_Male  Gender_Nonbinary  \\\n",
      "CaseOrder                                                                      \n",
      "1                          0                1            1                 0   \n",
      "2                          0                0            0                 0   \n",
      "3                          0                1            0                 0   \n",
      "4                          0                0            1                 0   \n",
      "5                          1                0            1                 0   \n",
      "\n",
      "           Churn_Yes  Techie_Yes  ...  OnlineSecurity_Yes  OnlineBackup_Yes  \\\n",
      "CaseOrder                         ...                                         \n",
      "1                  0           0  ...                   1                 1   \n",
      "2                  1           1  ...                   1                 0   \n",
      "3                  0           1  ...                   0                 0   \n",
      "4                  0           1  ...                   1                 0   \n",
      "5                  1           0  ...                   0                 0   \n",
      "\n",
      "           DeviceProtection_Yes  TechSupport_Yes  StreamingTV_Yes  \\\n",
      "CaseOrder                                                           \n",
      "1                             0                0                0   \n",
      "2                             0                0                1   \n",
      "3                             0                0                0   \n",
      "4                             0                0                1   \n",
      "5                             0                1                1   \n",
      "\n",
      "           StreamingMovies_Yes  PaperlessBilling_Yes  \\\n",
      "CaseOrder                                              \n",
      "1                            1                     1   \n",
      "2                            1                     1   \n",
      "3                            1                     1   \n",
      "4                            0                     1   \n",
      "5                            0                     0   \n",
      "\n",
      "           PaymentMethod_Credit_Card_automatic  \\\n",
      "CaseOrder                                        \n",
      "1                                            1   \n",
      "2                                            0   \n",
      "3                                            1   \n",
      "4                                            0   \n",
      "5                                            0   \n",
      "\n",
      "           PaymentMethod_Electronic_Check  PaymentMethod_Mailed_Check  \n",
      "CaseOrder                                                              \n",
      "1                                       0                           0  \n",
      "2                                       0                           0  \n",
      "3                                       0                           0  \n",
      "4                                       0                           1  \n",
      "5                                       0                           1  \n",
      "\n",
      "[5 rows x 28 columns]\n",
      "\n",
      "Complete details in df_with_dummies.txt file\n"
     ]
    },
    {
     "data": {
      "text/html": [
       "<div>\n",
       "<style scoped>\n",
       "    .dataframe tbody tr th:only-of-type {\n",
       "        vertical-align: middle;\n",
       "    }\n",
       "\n",
       "    .dataframe tbody tr th {\n",
       "        vertical-align: top;\n",
       "    }\n",
       "\n",
       "    .dataframe thead th {\n",
       "        text-align: right;\n",
       "    }\n",
       "</style>\n",
       "<table border=\"1\" class=\"dataframe\">\n",
       "  <thead>\n",
       "    <tr style=\"text-align: right;\">\n",
       "      <th></th>\n",
       "      <th>Population</th>\n",
       "      <th>Area</th>\n",
       "      <th>Children</th>\n",
       "      <th>Age</th>\n",
       "      <th>Income</th>\n",
       "      <th>Marital</th>\n",
       "      <th>Gender</th>\n",
       "      <th>Churn</th>\n",
       "      <th>Outage_sec_perweek</th>\n",
       "      <th>Email</th>\n",
       "      <th>...</th>\n",
       "      <th>OnlineSecurity_Yes</th>\n",
       "      <th>OnlineBackup_Yes</th>\n",
       "      <th>DeviceProtection_Yes</th>\n",
       "      <th>TechSupport_Yes</th>\n",
       "      <th>StreamingTV_Yes</th>\n",
       "      <th>StreamingMovies_Yes</th>\n",
       "      <th>PaperlessBilling_Yes</th>\n",
       "      <th>PaymentMethod_Credit_Card_automatic</th>\n",
       "      <th>PaymentMethod_Electronic_Check</th>\n",
       "      <th>PaymentMethod_Mailed_Check</th>\n",
       "    </tr>\n",
       "    <tr>\n",
       "      <th>CaseOrder</th>\n",
       "      <th></th>\n",
       "      <th></th>\n",
       "      <th></th>\n",
       "      <th></th>\n",
       "      <th></th>\n",
       "      <th></th>\n",
       "      <th></th>\n",
       "      <th></th>\n",
       "      <th></th>\n",
       "      <th></th>\n",
       "      <th></th>\n",
       "      <th></th>\n",
       "      <th></th>\n",
       "      <th></th>\n",
       "      <th></th>\n",
       "      <th></th>\n",
       "      <th></th>\n",
       "      <th></th>\n",
       "      <th></th>\n",
       "      <th></th>\n",
       "      <th></th>\n",
       "    </tr>\n",
       "  </thead>\n",
       "  <tbody>\n",
       "    <tr>\n",
       "      <th>1</th>\n",
       "      <td>38</td>\n",
       "      <td>Urban</td>\n",
       "      <td>0</td>\n",
       "      <td>68</td>\n",
       "      <td>28561.99</td>\n",
       "      <td>Widowed</td>\n",
       "      <td>Male</td>\n",
       "      <td>No</td>\n",
       "      <td>7.978323</td>\n",
       "      <td>10</td>\n",
       "      <td>...</td>\n",
       "      <td>1</td>\n",
       "      <td>1</td>\n",
       "      <td>0</td>\n",
       "      <td>0</td>\n",
       "      <td>0</td>\n",
       "      <td>1</td>\n",
       "      <td>1</td>\n",
       "      <td>1</td>\n",
       "      <td>0</td>\n",
       "      <td>0</td>\n",
       "    </tr>\n",
       "    <tr>\n",
       "      <th>2</th>\n",
       "      <td>10446</td>\n",
       "      <td>Urban</td>\n",
       "      <td>1</td>\n",
       "      <td>27</td>\n",
       "      <td>21704.77</td>\n",
       "      <td>Married</td>\n",
       "      <td>Female</td>\n",
       "      <td>Yes</td>\n",
       "      <td>11.699080</td>\n",
       "      <td>12</td>\n",
       "      <td>...</td>\n",
       "      <td>1</td>\n",
       "      <td>0</td>\n",
       "      <td>0</td>\n",
       "      <td>0</td>\n",
       "      <td>1</td>\n",
       "      <td>1</td>\n",
       "      <td>1</td>\n",
       "      <td>0</td>\n",
       "      <td>0</td>\n",
       "      <td>0</td>\n",
       "    </tr>\n",
       "    <tr>\n",
       "      <th>3</th>\n",
       "      <td>3735</td>\n",
       "      <td>Urban</td>\n",
       "      <td>4</td>\n",
       "      <td>50</td>\n",
       "      <td>9609.57</td>\n",
       "      <td>Widowed</td>\n",
       "      <td>Female</td>\n",
       "      <td>No</td>\n",
       "      <td>10.752800</td>\n",
       "      <td>9</td>\n",
       "      <td>...</td>\n",
       "      <td>0</td>\n",
       "      <td>0</td>\n",
       "      <td>0</td>\n",
       "      <td>0</td>\n",
       "      <td>0</td>\n",
       "      <td>1</td>\n",
       "      <td>1</td>\n",
       "      <td>1</td>\n",
       "      <td>0</td>\n",
       "      <td>0</td>\n",
       "    </tr>\n",
       "    <tr>\n",
       "      <th>4</th>\n",
       "      <td>13863</td>\n",
       "      <td>Suburban</td>\n",
       "      <td>1</td>\n",
       "      <td>48</td>\n",
       "      <td>18925.23</td>\n",
       "      <td>Married</td>\n",
       "      <td>Male</td>\n",
       "      <td>No</td>\n",
       "      <td>14.913540</td>\n",
       "      <td>15</td>\n",
       "      <td>...</td>\n",
       "      <td>1</td>\n",
       "      <td>0</td>\n",
       "      <td>0</td>\n",
       "      <td>0</td>\n",
       "      <td>1</td>\n",
       "      <td>0</td>\n",
       "      <td>1</td>\n",
       "      <td>0</td>\n",
       "      <td>0</td>\n",
       "      <td>1</td>\n",
       "    </tr>\n",
       "    <tr>\n",
       "      <th>5</th>\n",
       "      <td>11352</td>\n",
       "      <td>Suburban</td>\n",
       "      <td>0</td>\n",
       "      <td>83</td>\n",
       "      <td>40074.19</td>\n",
       "      <td>Separated</td>\n",
       "      <td>Male</td>\n",
       "      <td>Yes</td>\n",
       "      <td>8.147417</td>\n",
       "      <td>16</td>\n",
       "      <td>...</td>\n",
       "      <td>0</td>\n",
       "      <td>0</td>\n",
       "      <td>0</td>\n",
       "      <td>1</td>\n",
       "      <td>1</td>\n",
       "      <td>0</td>\n",
       "      <td>0</td>\n",
       "      <td>0</td>\n",
       "      <td>0</td>\n",
       "      <td>1</td>\n",
       "    </tr>\n",
       "  </tbody>\n",
       "</table>\n",
       "<p>5 rows × 58 columns</p>\n",
       "</div>"
      ],
      "text/plain": [
       "           Population      Area  Children  Age    Income    Marital  Gender  \\\n",
       "CaseOrder                                                                     \n",
       "1                  38     Urban         0   68  28561.99    Widowed    Male   \n",
       "2               10446     Urban         1   27  21704.77    Married  Female   \n",
       "3                3735     Urban         4   50   9609.57    Widowed  Female   \n",
       "4               13863  Suburban         1   48  18925.23    Married    Male   \n",
       "5               11352  Suburban         0   83  40074.19  Separated    Male   \n",
       "\n",
       "          Churn  Outage_sec_perweek  Email  ...  OnlineSecurity_Yes  \\\n",
       "CaseOrder                                   ...                       \n",
       "1            No            7.978323     10  ...                   1   \n",
       "2           Yes           11.699080     12  ...                   1   \n",
       "3            No           10.752800      9  ...                   0   \n",
       "4            No           14.913540     15  ...                   1   \n",
       "5           Yes            8.147417     16  ...                   0   \n",
       "\n",
       "           OnlineBackup_Yes DeviceProtection_Yes TechSupport_Yes  \\\n",
       "CaseOrder                                                          \n",
       "1                         1                    0               0   \n",
       "2                         0                    0               0   \n",
       "3                         0                    0               0   \n",
       "4                         0                    0               0   \n",
       "5                         0                    0               1   \n",
       "\n",
       "          StreamingTV_Yes StreamingMovies_Yes PaperlessBilling_Yes  \\\n",
       "CaseOrder                                                            \n",
       "1                       0                   1                    1   \n",
       "2                       1                   1                    1   \n",
       "3                       0                   1                    1   \n",
       "4                       1                   0                    1   \n",
       "5                       1                   0                    0   \n",
       "\n",
       "          PaymentMethod_Credit_Card_automatic PaymentMethod_Electronic_Check  \\\n",
       "CaseOrder                                                                      \n",
       "1                                           1                              0   \n",
       "2                                           0                              0   \n",
       "3                                           1                              0   \n",
       "4                                           0                              0   \n",
       "5                                           0                              0   \n",
       "\n",
       "          PaymentMethod_Mailed_Check  \n",
       "CaseOrder                             \n",
       "1                                  0  \n",
       "2                                  0  \n",
       "3                                  0  \n",
       "4                                  1  \n",
       "5                                  1  \n",
       "\n",
       "[5 rows x 58 columns]"
      ]
     },
     "execution_count": 7,
     "metadata": {},
     "output_type": "execute_result"
    }
   ],
   "source": [
    "import TransformModule\n",
    "\n",
    "categorical_columns_list = import_obj.get_categorical_columns_list(df)\n",
    "numerical_columns_list = import_obj.get_numerical_columns_list(df)\n",
    "\n",
    "transform_obj = TransformModule.Transforming(df)\n",
    "transform_obj.categorical_columns_to_dummy(categorical_columns_list)\n",
    "df = transform_obj._df\n",
    "df.head()"
   ]
  },
  {
   "cell_type": "markdown",
   "metadata": {},
   "source": [
    "## Sampling Data\n",
    "75% Trainig sample , 25% Test sample"
   ]
  },
  {
   "cell_type": "code",
   "execution_count": 8,
   "metadata": {},
   "outputs": [
    {
     "name": "stdout",
     "output_type": "stream",
     "text": [
      "\n",
      "Categorical Columns\n",
      "['Area', 'Marital', 'Gender', 'Churn', 'Techie', 'Contract', 'Port_modem', 'Tablet', 'InternetService', 'Phone', 'Multiple', 'OnlineSecurity', 'OnlineBackup', 'DeviceProtection', 'TechSupport', 'StreamingTV', 'StreamingMovies', 'PaperlessBilling', 'PaymentMethod']\n",
      "\n",
      "Numerical Columns\n",
      "['Population', 'Children', 'Age', 'Income', 'Outage_sec_perweek', 'Email', 'Contacts', 'Yearly_equip_failure', 'Tenure', 'MonthlyCharge', 'Bandwidth_GB_Year', 'Area_Suburban', 'Area_Urban', 'Marital_Married', 'Marital_Never_Married', 'Marital_Separated', 'Marital_Widowed', 'Gender_Male', 'Gender_Nonbinary', 'Churn_Yes', 'Techie_Yes', 'Contract_One_year', 'Contract_Two_Year', 'Port_modem_Yes', 'Tablet_Yes', 'InternetService_Fiber_Optic', 'InternetService_None', 'Phone_Yes', 'Multiple_Yes', 'OnlineSecurity_Yes', 'OnlineBackup_Yes', 'DeviceProtection_Yes', 'TechSupport_Yes', 'StreamingTV_Yes', 'StreamingMovies_Yes', 'PaperlessBilling_Yes', 'PaymentMethod_Credit_Card_automatic', 'PaymentMethod_Electronic_Check', 'PaymentMethod_Mailed_Check']\n",
      "\n",
      "Sampling init\n",
      "x_train: (7000, 38)\n",
      "y_train: (7000,)\n",
      "x_test: (3000, 38)\n",
      "y_test: (3000,)\n"
     ]
    }
   ],
   "source": [
    "import SamplingModule\n",
    "\n",
    "categorical_columns_list = import_obj.get_categorical_columns_list(df)\n",
    "numerical_columns_list = import_obj.get_numerical_columns_list(df)\n",
    "\n",
    "sample_obj = SamplingModule.Sampling()   \n",
    "df_filtered = import_obj.filter_df_by_columns(df, numerical_columns_list)\n",
    "target = 'MonthlyCharge'\n",
    "stratif_by = 'Churn_Yes'\n",
    "x_train, x_test, y_train, y_test = sample_obj.stratified_sampling(df_filtered, target, stratif_by)"
   ]
  },
  {
   "cell_type": "markdown",
   "metadata": {},
   "source": [
    "## Linear Regression"
   ]
  },
  {
   "cell_type": "code",
   "execution_count": 9,
   "metadata": {},
   "outputs": [
    {
     "name": "stdout",
     "output_type": "stream",
     "text": [
      "\n",
      "LinearRegression init\n",
      "\n",
      "formula =  MonthlyCharge ~ Population + Children + Age + Income + Outage_sec_perweek + Email + Contacts + Yearly_equip_failure + Tenure + Bandwidth_GB_Year + Area_Suburban + Area_Urban + Marital_Married + Marital_Never_Married + Marital_Separated + Marital_Widowed + Gender_Male + Gender_Nonbinary + Churn_Yes + Techie_Yes + Contract_One_year + Contract_Two_Year + Port_modem_Yes + Tablet_Yes + InternetService_Fiber_Optic + InternetService_None + Phone_Yes + Multiple_Yes + OnlineSecurity_Yes + OnlineBackup_Yes + DeviceProtection_Yes + TechSupport_Yes + StreamingTV_Yes + StreamingMovies_Yes + PaperlessBilling_Yes + PaymentMethod_Credit_Card_automatic + PaymentMethod_Electronic_Check + PaymentMethod_Mailed_Check + 0\n",
      "\n",
      "R-squared =  0.9992548715186094\n",
      "R-squared adjusted =  0.9992508044570907\n",
      "MSE =  23.733142439223503\n",
      "RSE =  23.61105139495205\n",
      "MRSE =  4.858426224639804\n",
      "RSE =  4.871667316147882\n",
      "\n",
      "Model summary saved on model_summary.txt\n"
     ]
    }
   ],
   "source": [
    "import Models.LinearRegressionModel as model\n",
    "linearRegression_obj = model.LinearRegression()\n",
    "numeric_columns = numerical_columns_list\n",
    "numeric_columns.remove(target)\n",
    "train_df = x_train.join(y_train)\n",
    "linearRegression_obj.multiple_linear_regression(target, numeric_columns, train_df)"
   ]
  },
  {
   "cell_type": "markdown",
   "metadata": {},
   "source": [
    "## Feature Selection"
   ]
  },
  {
   "cell_type": "code",
   "execution_count": 10,
   "metadata": {},
   "outputs": [
    {
     "name": "stderr",
     "output_type": "stream",
     "text": [
      "/Users/dayanaviana/opt/anaconda3/lib/python3.8/site-packages/sklearn/linear_model/_coordinate_descent.py:530: ConvergenceWarning: Objective did not converge. You might want to increase the number of iterations. Duality gap: 312664.12736336724, tolerance: 1285.0855493406336\n",
      "  model = cd_fast.enet_coordinate_descent(\n"
     ]
    },
    {
     "data": {
      "image/png": "[encoded data removed]",
      "text/plain": [
       "<Figure size 1440x576 with 1 Axes>"
      ]
     },
     "metadata": {
      "needs_background": "light"
     },
     "output_type": "display_data"
    }
   ],
   "source": [
    "x = x_train\n",
    "y = y_train\n",
    "candidates_columns = numeric_columns\n",
    "linearRegression_obj.lasso_for_feature(x, y, candidates_columns)"
   ]
  },
  {
   "cell_type": "markdown",
   "metadata": {},
   "source": [
    "having a model that is too performant is not always a good thing. For instance, it can be a marker of overfitting: the model corresponds too closely to a particular set of data, and may therefore fail to predict future observations reliably. \n",
    "\n",
    "https://easystats.github.io/parameters/articles/parameters_selection.html"
   ]
  },
  {
   "cell_type": "markdown",
   "metadata": {},
   "source": [
    "## Multiple Linear Regression (Refined)"
   ]
  },
  {
   "cell_type": "code",
   "execution_count": 11,
   "metadata": {},
   "outputs": [
    {
     "name": "stdout",
     "output_type": "stream",
     "text": [
      "\n",
      "formula =  MonthlyCharge ~ InternetService_Fiber_Optic + Multiple_Yes + OnlineBackup_Yes + TechSupport_Yes + StreamingTV_Yes + StreamingMovies_Yes + 0\n",
      "\n",
      "R-squared =  0.958659205023577\n",
      "R-squared adjusted =  0.9586237396575692\n",
      "MSE =  1310.7241355120993\n",
      "RSE =  1309.9749362348741\n",
      "MRSE =  36.18840501709994\n",
      "RSE =  36.20392431093761\n",
      "\n",
      "Model summary saved on model_summary.txt\n"
     ]
    }
   ],
   "source": [
    "formula =  \"MonthlyCharge ~ InternetService_Fiber_Optic + Multiple_Yes + OnlineBackup_Yes + TechSupport_Yes + StreamingTV_Yes + StreamingMovies_Yes + 0\"\n",
    "linearRegression_obj.multiple_linear_regression_by_formula(formula, train_df)"
   ]
  },
  {
   "cell_type": "markdown",
   "metadata": {},
   "source": [
    "### Removing TechSupport_Yes to observe if model improves"
   ]
  },
  {
   "cell_type": "markdown",
   "metadata": {},
   "source": [
    "R-squared (Coefficient of deternination): How well the linear regression line fits the observed values [0-1] (larger is better)\n",
    "The difference between predicted and observed values is typically about RSE#"
   ]
  },
  {
   "cell_type": "code",
   "execution_count": 12,
   "metadata": {},
   "outputs": [
    {
     "name": "stdout",
     "output_type": "stream",
     "text": [
      "\n",
      "formula =  MonthlyCharge ~ InternetService_Fiber_Optic + Multiple_Yes + OnlineBackup_Yes + StreamingTV_Yes + StreamingMovies_Yes + 0\n",
      "\n",
      "R-squared =  0.9473324501259128\n",
      "R-squared adjusted =  0.947294803557025\n",
      "MSE =  1669.604079077955\n",
      "RSE =  1668.888329972887\n",
      "MRSE =  40.846193271047326\n",
      "RSE =  40.86078901683073\n",
      "\n",
      "Model summary saved on model_summary.txt\n"
     ]
    }
   ],
   "source": [
    "formula =  \"MonthlyCharge ~ InternetService_Fiber_Optic + Multiple_Yes + OnlineBackup_Yes + StreamingTV_Yes + StreamingMovies_Yes + 0\"\n",
    "linearRegression_obj.multiple_linear_regression_by_formula(formula, train_df)"
   ]
  },
  {
   "cell_type": "markdown",
   "metadata": {},
   "source": [
    "## Correlations\n",
    "### The independent variables are not too highly correlated with each other"
   ]
  },
  {
   "cell_type": "code",
   "execution_count": 13,
   "metadata": {},
   "outputs": [
    {
     "data": {
      "text/html": [
       "<div>\n",
       "<style scoped>\n",
       "    .dataframe tbody tr th:only-of-type {\n",
       "        vertical-align: middle;\n",
       "    }\n",
       "\n",
       "    .dataframe tbody tr th {\n",
       "        vertical-align: top;\n",
       "    }\n",
       "\n",
       "    .dataframe thead th {\n",
       "        text-align: right;\n",
       "    }\n",
       "</style>\n",
       "<table border=\"1\" class=\"dataframe\">\n",
       "  <thead>\n",
       "    <tr style=\"text-align: right;\">\n",
       "      <th></th>\n",
       "      <th>InternetService_Fiber_Optic</th>\n",
       "      <th>Multiple_Yes</th>\n",
       "      <th>OnlineBackup_Yes</th>\n",
       "      <th>TechSupport_Yes</th>\n",
       "      <th>StreamingTV_Yes</th>\n",
       "      <th>StreamingMovies_Yes</th>\n",
       "    </tr>\n",
       "  </thead>\n",
       "  <tbody>\n",
       "    <tr>\n",
       "      <th>InternetService_Fiber_Optic</th>\n",
       "      <td>1.000000</td>\n",
       "      <td>0.009210</td>\n",
       "      <td>0.001925</td>\n",
       "      <td>-0.026211</td>\n",
       "      <td>-0.005118</td>\n",
       "      <td>0.002211</td>\n",
       "    </tr>\n",
       "    <tr>\n",
       "      <th>Multiple_Yes</th>\n",
       "      <td>0.009210</td>\n",
       "      <td>1.000000</td>\n",
       "      <td>-0.002566</td>\n",
       "      <td>-0.010360</td>\n",
       "      <td>0.003097</td>\n",
       "      <td>0.004691</td>\n",
       "    </tr>\n",
       "    <tr>\n",
       "      <th>OnlineBackup_Yes</th>\n",
       "      <td>0.001925</td>\n",
       "      <td>-0.002566</td>\n",
       "      <td>1.000000</td>\n",
       "      <td>-0.002802</td>\n",
       "      <td>-0.008043</td>\n",
       "      <td>0.001434</td>\n",
       "    </tr>\n",
       "    <tr>\n",
       "      <th>TechSupport_Yes</th>\n",
       "      <td>-0.026211</td>\n",
       "      <td>-0.010360</td>\n",
       "      <td>-0.002802</td>\n",
       "      <td>1.000000</td>\n",
       "      <td>-0.003047</td>\n",
       "      <td>-0.013533</td>\n",
       "    </tr>\n",
       "    <tr>\n",
       "      <th>StreamingTV_Yes</th>\n",
       "      <td>-0.005118</td>\n",
       "      <td>0.003097</td>\n",
       "      <td>-0.008043</td>\n",
       "      <td>-0.003047</td>\n",
       "      <td>1.000000</td>\n",
       "      <td>-0.010516</td>\n",
       "    </tr>\n",
       "    <tr>\n",
       "      <th>StreamingMovies_Yes</th>\n",
       "      <td>0.002211</td>\n",
       "      <td>0.004691</td>\n",
       "      <td>0.001434</td>\n",
       "      <td>-0.013533</td>\n",
       "      <td>-0.010516</td>\n",
       "      <td>1.000000</td>\n",
       "    </tr>\n",
       "  </tbody>\n",
       "</table>\n",
       "</div>"
      ],
      "text/plain": [
       "                             InternetService_Fiber_Optic  Multiple_Yes  \\\n",
       "InternetService_Fiber_Optic                     1.000000      0.009210   \n",
       "Multiple_Yes                                    0.009210      1.000000   \n",
       "OnlineBackup_Yes                                0.001925     -0.002566   \n",
       "TechSupport_Yes                                -0.026211     -0.010360   \n",
       "StreamingTV_Yes                                -0.005118      0.003097   \n",
       "StreamingMovies_Yes                             0.002211      0.004691   \n",
       "\n",
       "                             OnlineBackup_Yes  TechSupport_Yes  \\\n",
       "InternetService_Fiber_Optic          0.001925        -0.026211   \n",
       "Multiple_Yes                        -0.002566        -0.010360   \n",
       "OnlineBackup_Yes                     1.000000        -0.002802   \n",
       "TechSupport_Yes                     -0.002802         1.000000   \n",
       "StreamingTV_Yes                     -0.008043        -0.003047   \n",
       "StreamingMovies_Yes                  0.001434        -0.013533   \n",
       "\n",
       "                             StreamingTV_Yes  StreamingMovies_Yes  \n",
       "InternetService_Fiber_Optic        -0.005118             0.002211  \n",
       "Multiple_Yes                        0.003097             0.004691  \n",
       "OnlineBackup_Yes                   -0.008043             0.001434  \n",
       "TechSupport_Yes                    -0.003047            -0.013533  \n",
       "StreamingTV_Yes                     1.000000            -0.010516  \n",
       "StreamingMovies_Yes                -0.010516             1.000000  "
      ]
     },
     "execution_count": 13,
     "metadata": {},
     "output_type": "execute_result"
    }
   ],
   "source": [
    "columns_list = [\"InternetService_Fiber_Optic\",\"Multiple_Yes\",\"OnlineBackup_Yes\",\"TechSupport_Yes\",\"StreamingTV_Yes\",\"StreamingMovies_Yes\"]\n",
    "selected_columns =  import_obj.filter_df_by_columns(df, columns_list)\n",
    "selected_columns.corr()"
   ]
  },
  {
   "cell_type": "markdown",
   "metadata": {},
   "source": [
    "## Correlation Graph"
   ]
  },
  {
   "cell_type": "code",
   "execution_count": 14,
   "metadata": {},
   "outputs": [
    {
     "name": "stdout",
     "output_type": "stream",
     "text": [
      "Scatterplot init\n"
     ]
    },
    {
     "data": {
      "image/png": "[encoded data removed]",
      "text/plain": [
       "<Figure size 720x432 with 1 Axes>"
      ]
     },
     "metadata": {
      "needs_background": "light"
     },
     "output_type": "display_data"
    },
    {
     "data": {
      "text/plain": [
       "<Figure size 432x288 with 0 Axes>"
      ]
     },
     "metadata": {},
     "output_type": "display_data"
    }
   ],
   "source": [
    "import Graphs.MyScatterplot as scatter\n",
    "scatterplot_obj = scatter.Scatterplot()\n",
    "scatterplot_obj.show_graph(df, \"OnlineBackup_Yes\", \"MonthlyCharge\")"
   ]
  },
  {
   "cell_type": "markdown",
   "metadata": {},
   "source": [
    "## Predict"
   ]
  },
  {
   "cell_type": "code",
   "execution_count": 15,
   "metadata": {},
   "outputs": [
    {
     "name": "stdout",
     "output_type": "stream",
     "text": [
      "CaseOrder\n",
      "789     117.297991\n",
      "5367    214.231164\n",
      "323     192.532197\n",
      "4420    138.700779\n",
      "2613    138.404601\n",
      "           ...    \n",
      "5552    129.105097\n",
      "8614    182.975988\n",
      "7751    214.231164\n",
      "9750    117.297991\n",
      "7626     75.530385\n",
      "Length: 3000, dtype: float64\n"
     ]
    }
   ],
   "source": [
    "\n",
    "# explanatory_data = x_test\n",
    "y_predicted = linearRegression_obj._model.predict(x_test)\n",
    "print(y_predicted)\n",
    "\n",
    "# test_data = x_test.assign(prediction=y_predicted)\n",
    "# print(test_data)"
   ]
  },
  {
   "cell_type": "markdown",
   "metadata": {},
   "source": [
    "## Residuals\n",
    "ε → Residuals or Error term"
   ]
  },
  {
   "cell_type": "code",
   "execution_count": 21,
   "metadata": {},
   "outputs": [
    {
     "name": "stdout",
     "output_type": "stream",
     "text": [
      "Max: 120.004928\n",
      "Min: -68.62237634951316\n",
      "Mean: 17.44\n",
      "Median: 13.54\n",
      "Mode: [-6.32558581]\n",
      "Variance: 1398.77\n",
      "St. Dev: 37.40\n"
     ]
    },
    {
     "data": {
      "text/plain": [
       "Text(0.5, 1.0, 'Residual Plot')"
      ]
     },
     "execution_count": 21,
     "metadata": {},
     "output_type": "execute_result"
    },
    {
     "data": {
      "image/png": "[encoded data removed]",
      "text/plain": [
       "<Figure size 432x288 with 1 Axes>"
      ]
     },
     "metadata": {
      "needs_background": "light"
     },
     "output_type": "display_data"
    }
   ],
   "source": [
    "import seaborn as sns\n",
    "import matplotlib.pyplot as plt \n",
    "\n",
    "residuals = y_test - y_predicted\n",
    "\n",
    "summaryStatistics_obj.get_series_summary(residuals)\n",
    "\n",
    "sns.residplot(x=y_predicted, y=residuals, lowess=True, color='darkorange')\n",
    "plt.xlabel(\"Fitted values\")\n",
    "plt.ylabel(\"Residuals\")\n",
    "plt.title(\"Residual Plot\")\n"
   ]
  },
  {
   "cell_type": "markdown",
   "metadata": {},
   "source": [
    "From the above residual plot, we could infer that the residuals didn’t form any pattern. So, the residuals are independent of each other.\n",
    "\n",
    "And also, the residuals have constant variance. Variance doesn’t seem to increase/decrease constantly with the y_predict value.\n",
    "\n",
    "https://medium.com/mlearning-ai/everything-to-know-about-residuals-in-linear-regression-42747d419266"
   ]
  },
  {
   "cell_type": "markdown",
   "metadata": {},
   "source": [
    "## Q-Q plot → quantile-quantile plot\n",
    "To check whether the residuals are normally distributed from Q-Q plot,distplot\n",
    "\n",
    "If the residuals are normally distributed, then the Q-Q plot of residuals will be a straight line\n"
   ]
  },
  {
   "cell_type": "code",
   "execution_count": 18,
   "metadata": {},
   "outputs": [
    {
     "data": {
      "text/plain": [
       "Text(0.5, 1.0, 'qqplot')"
      ]
     },
     "execution_count": 18,
     "metadata": {},
     "output_type": "execute_result"
    },
    {
     "data": {
      "image/png": "[encoded data removed]",
      "text/plain": [
       "<Figure size 432x288 with 1 Axes>"
      ]
     },
     "metadata": {
      "needs_background": "light"
     },
     "output_type": "display_data"
    }
   ],
   "source": [
    "from scipy import stats\n",
    "import statsmodels.api as sm\n",
    "\n",
    "residual = linearRegression_obj._model.resid\n",
    "\n",
    "probplot=sm.ProbPlot(residual,stats.norm,fit=True)\n",
    "fig=probplot.qqplot(line='45')\n",
    "plt.title('qqplot')"
   ]
  },
  {
   "cell_type": "markdown",
   "metadata": {},
   "source": [
    "# Scale-location plot"
   ]
  },
  {
   "cell_type": "code",
   "execution_count": 19,
   "metadata": {},
   "outputs": [
    {
     "data": {
      "text/plain": [
       "Text(0, 0.5, 'Sqrt of abs val of stdzed residuals')"
      ]
     },
     "execution_count": 19,
     "metadata": {},
     "output_type": "execute_result"
    },
    {
     "data": {
      "image/png": "[encoded data removed]",
      "text/plain": [
       "<Figure size 432x288 with 1 Axes>"
      ]
     },
     "metadata": {
      "needs_background": "light"
     },
     "output_type": "display_data"
    }
   ],
   "source": [
    "import numpy as np\n",
    "model = linearRegression_obj._model\n",
    "# Extract normalized residuals from the model\n",
    "model_norm_residuals = model.get_influence().resid_studentized_internal\n",
    "# Square roo of the absolute value to standardize them\n",
    "model_norm_residuals_abs_sqrt = np.sqrt(np.abs(model_norm_residuals))\n",
    "sns.regplot(x=model.fittedvalues, y=model_norm_residuals_abs_sqrt, ci=None, lowess=True)\n",
    "plt.xlabel(\"Fitted values\")\n",
    "plt.ylabel(\"Sqrt of abs val of stdzed residuals\")"
   ]
  },
  {
   "cell_type": "code",
   "execution_count": null,
   "metadata": {},
   "outputs": [
    {
     "name": "stderr",
     "output_type": "stream",
     "text": [
      "/Users/dayanaviana/opt/anaconda3/lib/python3.8/site-packages/seaborn/distributions.py:2557: FutureWarning: `distplot` is a deprecated function and will be removed in a future version. Please adapt your code to use either `displot` (a figure-level function with similar flexibility) or `histplot` (an axes-level function for histograms).\n",
      "  warnings.warn(msg, FutureWarning)\n"
     ]
    },
    {
     "data": {
      "text/plain": [
       "<AxesSubplot:ylabel='Density'>"
      ]
     },
     "execution_count": 20,
     "metadata": {},
     "output_type": "execute_result"
    },
    {
     "data": {
      "image/png": "[encoded data removed]",
      "text/plain": [
       "<Figure size 432x288 with 1 Axes>"
      ]
     },
     "metadata": {
      "needs_background": "light"
     },
     "output_type": "display_data"
    }
   ],
   "source": [
    "sns.distplot(residual,color='darkorange')\n"
   ]
  }
 ],
 "metadata": {
  "interpreter": {
   "hash": "59a567c1ad30066296faa170cba2decc783c48aa8e2893eb4e12e8ad966ca860"
  },
  "kernelspec": {
   "display_name": "Python 3.8.8 ('base')",
   "language": "python",
   "name": "python3"
  },
  "language_info": {
   "codemirror_mode": {
    "name": "ipython",
    "version": 3
   },
   "file_extension": ".py",
   "mimetype": "text/x-python",
   "name": "python",
   "nbconvert_exporter": "python",
   "pygments_lexer": "ipython3",
   "version": "3.8.8"
  },
  "orig_nbformat": 4
 },
 "nbformat": 4,
 "nbformat_minor": 2
}
