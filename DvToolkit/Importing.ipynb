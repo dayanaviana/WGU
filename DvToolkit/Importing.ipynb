{
 "cells": [
  {
   "cell_type": "code",
   "execution_count": 18,
   "metadata": {},
   "outputs": [],
   "source": [
    "import pandas as pd\n",
    "\n",
    "class Importing:\n",
    "    \n",
    "    def __init__(self):\n",
    "        # self._df = None\n",
    "        print('Importing init')\n",
    "        \n",
    "    @staticmethod\n",
    "    def import_from_google(docId):\n",
    "        #churn_clean_altered.csv\n",
    "        # docId= \"1-WjyGAwXhgkEMSGk1PHKMjIASkVgn-YO\"\n",
    "        googleDriveFile = \"https://docs.google.com/uc?id=\"+docId+\"&export=download\"\n",
    "        # import into data frame\n",
    "        return pd.read_csv(googleDriveFile, index_col=0)\n",
    "\n",
    "    def _show_columns_list(self, df):\n",
    "        print(df.columns.tolist())\n",
    "\n",
    "    def _get_columns_list(self, df):\n",
    "        return df.columns.tolist()\n",
    "    \n",
    "    def import_from_url(self, url):\n",
    "        # import into data frame\n",
    "        df = pd.read_csv(url, index_col=0)\n",
    "        print('Imported')\n",
    "        self._show_columns_list(df)\n",
    "        return df\n",
    "\n",
    "    def get_categorical_columns_list(self, df):\n",
    "        df = df.select_dtypes(include='object')\n",
    "        print('\\nCategorical Columns')\n",
    "        self._show_columns_list(df)\n",
    "        return self._get_columns_list(df)\n",
    "\n",
    "    def get_numerical_columns_list(self, df):\n",
    "        df = df.select_dtypes(include=['int64','float64','uint8'])\n",
    "        print('\\nNumerical Columns')\n",
    "        self._show_columns_list(df)\n",
    "        return self._get_columns_list(df)\n",
    "\n",
    "    @staticmethod\n",
    "    def filter_df_by_columns(df, columns_list):\n",
    "        #Select columns\n",
    "        df_filtered = df.loc[:, columns_list]\n",
    "        return df_filtered\n",
    "\n"
   ]
  },
  {
   "cell_type": "code",
   "execution_count": 19,
   "metadata": {},
   "outputs": [],
   "source": [
    "# if __name__ == '__main__':\n",
    "#     # df1 = Importing.import_from_google(\"1-WjyGAwXhgkEMSGk1PHKMjIASkVgn-YO\")\n",
    "\n",
    "#     url = \"https://raw.githubusercontent.com/dayanaviana/WGU/main/datasources/churn_clean.csv\"\n",
    "#     df2 = Importing().import_from_url(url)"
   ]
  }
 ],
 "metadata": {
  "interpreter": {
   "hash": "59a567c1ad30066296faa170cba2decc783c48aa8e2893eb4e12e8ad966ca860"
  },
  "kernelspec": {
   "display_name": "Python 3.8.8 ('base')",
   "language": "python",
   "name": "python3"
  },
  "language_info": {
   "codemirror_mode": {
    "name": "ipython",
    "version": 3
   },
   "file_extension": ".py",
   "mimetype": "text/x-python",
   "name": "python",
   "nbconvert_exporter": "python",
   "pygments_lexer": "ipython3",
   "version": "3.8.8"
  },
  "orig_nbformat": 4
 },
 "nbformat": 4,
 "nbformat_minor": 2
}
