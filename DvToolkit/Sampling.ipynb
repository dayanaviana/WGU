{
 "cells": [
  {
   "cell_type": "code",
   "execution_count": 18,
   "metadata": {},
   "outputs": [],
   "source": [
    "import numpy as np\n",
    "\n",
    "class Sampling:\n",
    "    '''\n",
    "        Sampling data\n",
    "    '''\n",
    "    \n",
    "    def __init__(self):\n",
    "        print('\\nSampling init')\n",
    "\n",
    "    @staticmethod\n",
    "    def ramdom_sampling(df):\n",
    "        '''\n",
    "            Syntax: DataFrame.sample(n=None, frac=None, replace=False, weights=None, random_state=None, axis=None)\n",
    "            Parameters:\n",
    "            n: int value, Number of random rows to generate.\n",
    "            frac: Float value, Returns (float value * length of data frame values ). frac cannot be used with n.\n",
    "            replace: Boolean value, return sample with replacement if True.\n",
    "            random_state: int value or numpy.random.RandomState, optional. if set to a particular integer, will return same rows as sample in every iteration.\n",
    "            axis: 0 or ‘row’ for Rows and 1 or ‘column’ for Columns.\n",
    "        '''\n",
    "        rows = round(df.size * 0.75)\n",
    "        sample_data = df.sample(n=rows, random_state=42)\n",
    "        return sample_data\n",
    "\n",
    "    @staticmethod\n",
    "    def stratified_sampling(df, target: str, stratif_by: str):\n",
    "        ''' Return (x_train, x_test, y_train, y_test)'''\n",
    "        y = df[target]\n",
    "        x_predictors = df.drop(target, axis=1)\n",
    "        split_by = df[stratif_by]\n",
    "        from sklearn.model_selection import train_test_split\n",
    "        x_train, x_test, y_train, y_test = train_test_split(x_predictors, y, test_size=0.3, random_state=42, stratify=split_by)\n",
    "        print(x_train.shape)\n",
    "        print(y_train.shape)\n",
    "        print(x_test.shape)\n",
    "        print(y_test.shape)\n",
    "        return x_train, x_test, y_train, y_test"
   ]
  },
  {
   "cell_type": "code",
   "execution_count": 7,
   "metadata": {},
   "outputs": [],
   "source": [
    "# ! pip install sklearn\n",
    "# import sklearn\n",
    "# print (sklearn.__version__)"
   ]
  }
 ],
 "metadata": {
  "interpreter": {
   "hash": "59a567c1ad30066296faa170cba2decc783c48aa8e2893eb4e12e8ad966ca860"
  },
  "kernelspec": {
   "display_name": "Python 3.8.8 ('base')",
   "language": "python",
   "name": "python3"
  },
  "language_info": {
   "codemirror_mode": {
    "name": "ipython",
    "version": 3
   },
   "file_extension": ".py",
   "mimetype": "text/x-python",
   "name": "python",
   "nbconvert_exporter": "python",
   "pygments_lexer": "ipython3",
   "version": "3.8.8"
  },
  "orig_nbformat": 4
 },
 "nbformat": 4,
 "nbformat_minor": 2
}
