{
 "cells": [
  {
   "cell_type": "code",
   "execution_count": 150,
   "metadata": {},
   "outputs": [],
   "source": [
    "import pandas as pd\n",
    "\n",
    "class Cleaning:\n",
    "    '''\n",
    "        Treating dataset\n",
    "    '''\n",
    "    \n",
    "    def __init__(self, df):\n",
    "        self._df = df\n",
    "        print('\\nCleaning init')\n",
    "    \n",
    "    def remove_columns(self, listOfColumns):\n",
    "        ''' axis = 1 -> columns '''\n",
    "        self._df = self._df.drop(listOfColumns, axis=1)\n",
    "        print('Columns Removed.')\n",
    "        self._show_info()\n",
    "        \n",
    "    def remove_lines(self, listOfLines):\n",
    "        ''' axis = 0 -> lines '''\n",
    "        self._df = self._df.drop(listOfLines, axis=0)\n",
    "        print('Rows Removed.')\n",
    "\n",
    "    # df_test.fillna(df_test.mean())\n",
    "\n",
    "    def fix_column_type_to_numeric(self, column_name: str):\n",
    "        '''Valores que estão reconhecidos de forma errada '''\n",
    "        self._df[column_name] = pd.to_numeric(self._df[column_name], errors=\"coerce\")\n",
    "\n",
    "    def delete_empty_columns(self):\n",
    "        ''' Delete column if all values are null\n",
    "        axis = 1 -> columns '''\n",
    "        self._df = self._df.dropna(how=\"all\", axis=1)\n",
    "\n",
    "    def delete_empty_lines(self):\n",
    "        ''' Delete line if any column is null\n",
    "        axis = 0 -> lines '''\n",
    "        self._df = self._df.dropna(how=\"any\", axis=0)\n",
    "\n",
    "    def _show_columns_list(self):\n",
    "            print(self._df.columns.tolist())\n",
    "            \n",
    "    def _show_info(self):\n",
    "        self._show_columns_list()\n",
    "        # print(self._df.info())\n",
    "        import io\n",
    "        buffer = io.StringIO()\n",
    "        self._df.info(buf=buffer)\n",
    "        s = buffer.getvalue()\n",
    "        with open(\"df_info.txt\", \"w\",\n",
    "                encoding=\"utf-8\") as f:  \n",
    "            f.write(s)\n",
    "        # print('\\nDF first line\\n')\n",
    "        # print(self._df.iloc[0])\n",
    "        print('\\nComplete details in df_info.txt file')\n",
    "\n",
    "        \n"
   ]
  },
  {
   "cell_type": "code",
   "execution_count": 151,
   "metadata": {},
   "outputs": [],
   "source": [
    "# if __name__ == '__main__':\n",
    "#     %run Importing.ipynb\n",
    "    \n",
    "#     url = \"https://raw.githubusercontent.com/dayanaviana/WGU/main/datasources/churn_clean.csv\"\n",
    "#     df = Importing().import_from_url(url)\n",
    "    \n",
    "#     myCleaning = Cleaning(df)\n",
    "#     list_to_remove = [\"Customer_id\",\"Interaction\",\"UID\",\"State\",\"TimeZone\",\"City\",\"County\",\"Zip\",\"Lat\",\"Lng\",\"Job\",\"Item1\",\"Item2\",\"Item3\",\"Item4\",\"Item5\",\"Item6\",\"Item7\",\"Item8\"]\n",
    "#     myCleaning.remove_columns(list_to_remove)\n",
    "   \n",
    "\n",
    "\n"
   ]
  },
  {
   "cell_type": "code",
   "execution_count": 152,
   "metadata": {},
   "outputs": [],
   "source": [
    "# pip install import-ipynb\n",
    "# ! pip install ipynb"
   ]
  }
 ],
 "metadata": {
  "interpreter": {
   "hash": "59a567c1ad30066296faa170cba2decc783c48aa8e2893eb4e12e8ad966ca860"
  },
  "kernelspec": {
   "display_name": "Python 3.8.8 ('base')",
   "language": "python",
   "name": "python3"
  },
  "language_info": {
   "codemirror_mode": {
    "name": "ipython",
    "version": 3
   },
   "file_extension": ".py",
   "mimetype": "text/x-python",
   "name": "python",
   "nbconvert_exporter": "python",
   "pygments_lexer": "ipython3",
   "version": "3.8.8"
  },
  "orig_nbformat": 4
 },
 "nbformat": 4,
 "nbformat_minor": 2
}
