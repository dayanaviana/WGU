{
 "cells": [
  {
   "cell_type": "code",
   "execution_count": 33,
   "metadata": {},
   "outputs": [],
   "source": [
    "import pandas as pd\n",
    "\n",
    "class MyImport:\n",
    "    \n",
    "    def __init__(self):\n",
    "        self.df = None\n",
    "        print('MyImport init')\n",
    "        \n",
    "    @staticmethod\n",
    "    def import_from_google(docId):\n",
    "        #churn_clean_altered.csv\n",
    "        # docId= \"1-WjyGAwXhgkEMSGk1PHKMjIASkVgn-YO\"\n",
    "        googleDriveFile = \"https://docs.google.com/uc?id=\"+docId+\"&export=download\"\n",
    "\n",
    "        # import into data frame\n",
    "        return pd.read_csv(googleDriveFile, index_col=0)\n",
    "\n",
    "    def import_from_url(url):\n",
    "        # import into data frame\n",
    "        return pd.read_csv(url, index_col=0)\n"
   ]
  },
  {
   "cell_type": "code",
   "execution_count": 34,
   "metadata": {},
   "outputs": [
    {
     "name": "stdout",
     "output_type": "stream",
     "text": [
      "Imported\n",
      "          Customer_id                           Interaction  \\\n",
      "CaseOrder                                                     \n",
      "1             K409198  aa90260b-4141-4a24-8e36-b04ce1f4f77b   \n",
      "2             S120509  fb76459f-c047-4a9d-8af9-e0f7d4ac2524   \n",
      "3             K191035  344d114c-3736-4be5-98f7-c72c281e2d35   \n",
      "4              D90850  abfa2b40-2d43-4994-b15a-989b8c79e311   \n",
      "5             K662701  68a861fd-0d20-4e51-a587-8a90407ee574   \n",
      "\n",
      "                                        UID         City State  \\\n",
      "CaseOrder                                                        \n",
      "1          e885b299883d4f9fb18e39c75155d990  Point Baker    AK   \n",
      "2          f2de8bef964785f41a2959829830fb8a  West Branch    MI   \n",
      "3          f1784cfa9f6d92ae816197eb175d3c71      Yamhill    OR   \n",
      "4          dc8a365077241bb5cd5ccd305136b05e      Del Mar    CA   \n",
      "5          aabb64a116e83fdc4befc1fbab1663f9    Needville    TX   \n",
      "\n",
      "                          County    Zip       Lat        Lng  Population  ...  \\\n",
      "CaseOrder                                                                 ...   \n",
      "1          Prince of Wales-Hyder  99927  56.25100 -133.37571          38  ...   \n",
      "2                         Ogemaw  48661  44.32893  -84.24080       10446  ...   \n",
      "3                        Yamhill  97148  45.35589 -123.24657        3735  ...   \n",
      "4                      San Diego  92014  32.96687 -117.24798       13863  ...   \n",
      "5                      Fort Bend  77461  29.38012  -95.80673       11352  ...   \n",
      "\n",
      "          MonthlyCharge Bandwidth_GB_Year Item1  Item2  Item3  Item4 Item5  \\\n",
      "CaseOrder                                                                    \n",
      "1            172.455519        904.536110     5      5      5      3     4   \n",
      "2            242.632554        800.982766     3      4      3      3     4   \n",
      "3            159.947583       2054.706961     4      4      2      4     4   \n",
      "4            119.956840       2164.579412     4      4      4      2     5   \n",
      "5            149.948316        271.493436     4      4      4      3     4   \n",
      "\n",
      "          Item6 Item7  Item8  \n",
      "CaseOrder                     \n",
      "1             4     3      4  \n",
      "2             3     4      4  \n",
      "3             3     3      3  \n",
      "4             4     3      3  \n",
      "5             4     4      5  \n",
      "\n",
      "[5 rows x 49 columns]\n"
     ]
    }
   ],
   "source": [
    "if __name__ == '__main__':\n",
    "    # df1 = MyImport.from_google(\"1-WjyGAwXhgkEMSGk1PHKMjIASkVgn-YO\")\n",
    "\n",
    "    url = \"https://raw.githubusercontent.com/dayanaviana/WGU/main/datasources/churn_clean.csv\"\n",
    "    df2 = MyImport.from_url(url)\n",
    "    print('Imported')\n",
    "    print(df2.head())\n",
    "    \n"
   ]
  }
 ],
 "metadata": {
  "interpreter": {
   "hash": "59a567c1ad30066296faa170cba2decc783c48aa8e2893eb4e12e8ad966ca860"
  },
  "kernelspec": {
   "display_name": "Python 3.8.8 ('base')",
   "language": "python",
   "name": "python3"
  },
  "language_info": {
   "codemirror_mode": {
    "name": "ipython",
    "version": 3
   },
   "file_extension": ".py",
   "mimetype": "text/x-python",
   "name": "python",
   "nbconvert_exporter": "python",
   "pygments_lexer": "ipython3",
   "version": "3.8.8"
  },
  "orig_nbformat": 4
 },
 "nbformat": 4,
 "nbformat_minor": 2
}
