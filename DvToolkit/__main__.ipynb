{
 "cells": [
  {
   "cell_type": "code",
   "execution_count": null,
   "metadata": {},
   "outputs": [],
   "source": [
    "if __name__ == '__main__':\n",
    "    %run Importing.ipynb\n",
    "    %run Cleaning.ipynb\n",
    "    %run Transforming.ipynb\n",
    "    %run Sampling.ipynb\n",
    "    %run Models/LinearRegression.ipynb"
   ]
  }
 ],
 "metadata": {
  "language_info": {
   "name": "python"
  },
  "orig_nbformat": 4
 },
 "nbformat": 4,
 "nbformat_minor": 2
}
