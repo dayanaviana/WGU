{
 "cells": [
  {
   "cell_type": "code",
   "execution_count": 3,
   "metadata": {},
   "outputs": [],
   "source": [
    "import pandas as pd\n",
    "\n",
    "class Transforming:\n",
    "    '''\n",
    "        Transforming data\n",
    "    '''\n",
    "    \n",
    "    def __init__(self, df):\n",
    "        self._df = df\n",
    "        print('\\nTransforming init')\n",
    "\n",
    "    def categorical_columns_to_dummy(self, categorical_columns_list):\n",
    "        #Select columns\n",
    "        df_filtered = self._df.loc[:, categorical_columns_list]\n",
    "        # X = df[['Gender','Marital']]\n",
    "        df_dummies = pd.get_dummies(data=df_filtered, drop_first=True).rename(columns=lambda x:x.replace(\" \", \"_\").replace(\"(\",\"\").replace(\")\",\"\"))\n",
    "        print('\\nGot Dummy variables')\n",
    "        self.__show_columns_list(df_dummies)\n",
    "        print(df_dummies.head())\n",
    "        self._df = self._df.join(df_dummies)\n",
    "        self.__show_info()\n",
    "\n",
    "    def __show_columns_list(self, df):\n",
    "            print(df.columns.tolist())\n",
    "            \n",
    "    def __show_info(self):\n",
    "        import io\n",
    "        buffer = io.StringIO()\n",
    "        self._df.info(buf=buffer)\n",
    "        s = buffer.getvalue()\n",
    "        with open(\"df_with_dummies.txt\", \"w\",\n",
    "                encoding=\"utf-8\") as f:  \n",
    "            f.write(s)\n",
    "        # print('\\nDF first line\\n')\n",
    "        # print(self._df.iloc[0])\n",
    "        print('\\nComplete details in df_with_dummies.txt file')"
   ]
  },
  {
   "cell_type": "code",
   "execution_count": null,
   "metadata": {},
   "outputs": [],
   "source": []
  }
 ],
 "metadata": {
  "interpreter": {
   "hash": "59a567c1ad30066296faa170cba2decc783c48aa8e2893eb4e12e8ad966ca860"
  },
  "kernelspec": {
   "display_name": "Python 3.8.8 ('base')",
   "language": "python",
   "name": "python3"
  },
  "language_info": {
   "codemirror_mode": {
    "name": "ipython",
    "version": 3
   },
   "file_extension": ".py",
   "mimetype": "text/x-python",
   "name": "python",
   "nbconvert_exporter": "python",
   "pygments_lexer": "ipython3",
   "version": "3.8.8"
  },
  "orig_nbformat": 4
 },
 "nbformat": 4,
 "nbformat_minor": 2
}
