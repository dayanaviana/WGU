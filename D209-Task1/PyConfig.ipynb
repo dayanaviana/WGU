{
 "cells": [
  {
   "cell_type": "code",
   "execution_count": null,
   "metadata": {},
   "outputs": [],
   "source": [
    "# pip install pandas\n",
    "# pip install matplotlib\n",
    "# pip install scikit-learn\n",
    "# pip install seaborn"
   ]
  },
  {
   "cell_type": "code",
   "execution_count": 6,
   "metadata": {},
   "outputs": [],
   "source": [
    "## Print all lines in a cell\n",
    "from IPython.core.interactiveshell import InteractiveShell\n",
    "InteractiveShell.ast_node_interactivity = \"all\""
   ]
  },
  {
   "cell_type": "code",
   "execution_count": 8,
   "metadata": {},
   "outputs": [
    {
     "data": {
      "text/plain": [
       "'MacOS-Tmobile'"
      ]
     },
     "execution_count": 8,
     "metadata": {},
     "output_type": "execute_result"
    },
    {
     "data": {
      "text/plain": [
       "('Pyhton version:', '3.11.1')"
      ]
     },
     "execution_count": 8,
     "metadata": {},
     "output_type": "execute_result"
    },
    {
     "data": {
      "text/plain": [
       "('Pandas version:', '2.1.4')"
      ]
     },
     "execution_count": 8,
     "metadata": {},
     "output_type": "execute_result"
    },
    {
     "data": {
      "text/plain": [
       "('Matplotlib version:', '3.8.2')"
      ]
     },
     "execution_count": 8,
     "metadata": {},
     "output_type": "execute_result"
    },
    {
     "data": {
      "text/plain": [
       "('Scikit-Learn version:', '1.3.2')"
      ]
     },
     "execution_count": 8,
     "metadata": {},
     "output_type": "execute_result"
    },
    {
     "data": {
      "text/plain": [
       "('Seaborn version:', '0.13.0')"
      ]
     },
     "execution_count": 8,
     "metadata": {},
     "output_type": "execute_result"
    }
   ],
   "source": [
    "('MacOS-Tmobile')\n",
    "\n",
    "from platform import python_version\n",
    "(\"Pyhton version:\", python_version())\n",
    "\n",
    "import pandas as pd\n",
    "(\"Pandas version:\", pd.__version__ )\n",
    "\n",
    "import matplotlib \n",
    "(\"Matplotlib version:\", matplotlib.__version__ )\n",
    "\n",
    "import sklearn\n",
    "(\"Scikit-Learn version:\", sklearn.__version__ )\n",
    "\n",
    "import seaborn as sn\n",
    "(\"Seaborn version:\", sn.__version__ )"
   ]
  },
  {
   "cell_type": "code",
   "execution_count": 7,
   "metadata": {},
   "outputs": [
    {
     "data": {
      "text/plain": [
       "'USB-DAY-WIN11PRO'"
      ]
     },
     "execution_count": 7,
     "metadata": {},
     "output_type": "execute_result"
    },
    {
     "data": {
      "text/plain": [
       "('Pyhton version:', '3.11.1')"
      ]
     },
     "execution_count": 7,
     "metadata": {},
     "output_type": "execute_result"
    },
    {
     "data": {
      "text/plain": [
       "('Pandas version:', '2.1.4')"
      ]
     },
     "execution_count": 7,
     "metadata": {},
     "output_type": "execute_result"
    },
    {
     "data": {
      "text/plain": [
       "('Matplotlib version:', '3.8.2')"
      ]
     },
     "execution_count": 7,
     "metadata": {},
     "output_type": "execute_result"
    },
    {
     "data": {
      "text/plain": [
       "('Scikit-Learn version:', '1.3.2')"
      ]
     },
     "execution_count": 7,
     "metadata": {},
     "output_type": "execute_result"
    },
    {
     "name": "stderr",
     "output_type": "stream",
     "text": [
      "Matplotlib is building the font cache; this may take a moment.\n"
     ]
    },
    {
     "data": {
      "text/plain": [
       "('Seaborn version:', '0.13.0')"
      ]
     },
     "execution_count": 7,
     "metadata": {},
     "output_type": "execute_result"
    }
   ],
   "source": [
    "('USB-DAY-WIN11PRO')\n",
    "\n",
    "from platform import python_version\n",
    "(\"Pyhton version:\", python_version())\n",
    "\n",
    "import pandas as pd\n",
    "(\"Pandas version:\", pd.__version__ )\n",
    "\n",
    "import matplotlib \n",
    "(\"Matplotlib version:\", matplotlib.__version__ )\n",
    "\n",
    "import sklearn\n",
    "(\"Scikit-Learn version:\", sklearn.__version__ )\n",
    "\n",
    "import seaborn as sn\n",
    "(\"Seaborn version:\", sn.__version__ )"
   ]
  }
 ],
 "metadata": {
  "kernelspec": {
   "display_name": "Python 3",
   "language": "python",
   "name": "python3"
  },
  "language_info": {
   "codemirror_mode": {
    "name": "ipython",
    "version": 3
   },
   "file_extension": ".py",
   "mimetype": "text/x-python",
   "name": "python",
   "nbconvert_exporter": "python",
   "pygments_lexer": "ipython3",
   "version": "3.11.1"
  }
 },
 "nbformat": 4,
 "nbformat_minor": 2
}
