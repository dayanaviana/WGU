{
 "cells": [
  {
   "cell_type": "markdown",
   "metadata": {},
   "source": [
    "## Import Data\n",
    "Importing churn dataset"
   ]
  },
  {
   "cell_type": "code",
   "execution_count": 2,
   "metadata": {},
   "outputs": [
    {
     "name": "stdout",
     "output_type": "stream",
     "text": [
      "Importing init\n",
      "Imported\n",
      "['Population', 'Rural', 'Children', 'Age', 'Income', 'Churn', 'Outage_sec_perweek', 'Email', 'Contacts', 'Yearly_equip_failure', 'Techie', 'Contract_Monthly', 'Port_modem', 'Tablet', 'InternetService_Fiber', 'InternetService_DSL', 'Phone', 'Multiple', 'OnlineSecurity', 'OnlineBackup', 'DeviceProtection', 'TechSupport', 'StreamingTV', 'StreamingMovies', 'PaperlessBilling', 'PaymentMethod_Auto', 'Tenure', 'MonthlyCharge', 'Bandwidth_GB_Year']\n"
     ]
    },
    {
     "data": {
      "text/html": [
       "<div>\n",
       "<style scoped>\n",
       "    .dataframe tbody tr th:only-of-type {\n",
       "        vertical-align: middle;\n",
       "    }\n",
       "\n",
       "    .dataframe tbody tr th {\n",
       "        vertical-align: top;\n",
       "    }\n",
       "\n",
       "    .dataframe thead th {\n",
       "        text-align: right;\n",
       "    }\n",
       "</style>\n",
       "<table border=\"1\" class=\"dataframe\">\n",
       "  <thead>\n",
       "    <tr style=\"text-align: right;\">\n",
       "      <th></th>\n",
       "      <th>Population</th>\n",
       "      <th>Rural</th>\n",
       "      <th>Children</th>\n",
       "      <th>Age</th>\n",
       "      <th>Income</th>\n",
       "      <th>Churn</th>\n",
       "      <th>Outage_sec_perweek</th>\n",
       "      <th>Email</th>\n",
       "      <th>Contacts</th>\n",
       "      <th>Yearly_equip_failure</th>\n",
       "      <th>...</th>\n",
       "      <th>OnlineBackup</th>\n",
       "      <th>DeviceProtection</th>\n",
       "      <th>TechSupport</th>\n",
       "      <th>StreamingTV</th>\n",
       "      <th>StreamingMovies</th>\n",
       "      <th>PaperlessBilling</th>\n",
       "      <th>PaymentMethod_Auto</th>\n",
       "      <th>Tenure</th>\n",
       "      <th>MonthlyCharge</th>\n",
       "      <th>Bandwidth_GB_Year</th>\n",
       "    </tr>\n",
       "    <tr>\n",
       "      <th>CaseOrder</th>\n",
       "      <th></th>\n",
       "      <th></th>\n",
       "      <th></th>\n",
       "      <th></th>\n",
       "      <th></th>\n",
       "      <th></th>\n",
       "      <th></th>\n",
       "      <th></th>\n",
       "      <th></th>\n",
       "      <th></th>\n",
       "      <th></th>\n",
       "      <th></th>\n",
       "      <th></th>\n",
       "      <th></th>\n",
       "      <th></th>\n",
       "      <th></th>\n",
       "      <th></th>\n",
       "      <th></th>\n",
       "      <th></th>\n",
       "      <th></th>\n",
       "      <th></th>\n",
       "    </tr>\n",
       "  </thead>\n",
       "  <tbody>\n",
       "    <tr>\n",
       "      <th>1</th>\n",
       "      <td>38</td>\n",
       "      <td>0</td>\n",
       "      <td>0</td>\n",
       "      <td>68</td>\n",
       "      <td>28561.99</td>\n",
       "      <td>0</td>\n",
       "      <td>7.978323</td>\n",
       "      <td>10</td>\n",
       "      <td>0</td>\n",
       "      <td>1</td>\n",
       "      <td>...</td>\n",
       "      <td>1</td>\n",
       "      <td>0</td>\n",
       "      <td>0</td>\n",
       "      <td>0</td>\n",
       "      <td>1</td>\n",
       "      <td>1</td>\n",
       "      <td>1</td>\n",
       "      <td>6.795513</td>\n",
       "      <td>172.455519</td>\n",
       "      <td>904.536110</td>\n",
       "    </tr>\n",
       "    <tr>\n",
       "      <th>2</th>\n",
       "      <td>10446</td>\n",
       "      <td>0</td>\n",
       "      <td>1</td>\n",
       "      <td>27</td>\n",
       "      <td>21704.77</td>\n",
       "      <td>1</td>\n",
       "      <td>11.699080</td>\n",
       "      <td>12</td>\n",
       "      <td>0</td>\n",
       "      <td>1</td>\n",
       "      <td>...</td>\n",
       "      <td>0</td>\n",
       "      <td>0</td>\n",
       "      <td>0</td>\n",
       "      <td>1</td>\n",
       "      <td>1</td>\n",
       "      <td>1</td>\n",
       "      <td>1</td>\n",
       "      <td>1.156681</td>\n",
       "      <td>242.632554</td>\n",
       "      <td>800.982766</td>\n",
       "    </tr>\n",
       "    <tr>\n",
       "      <th>3</th>\n",
       "      <td>3735</td>\n",
       "      <td>0</td>\n",
       "      <td>4</td>\n",
       "      <td>50</td>\n",
       "      <td>9609.57</td>\n",
       "      <td>0</td>\n",
       "      <td>10.752800</td>\n",
       "      <td>9</td>\n",
       "      <td>0</td>\n",
       "      <td>1</td>\n",
       "      <td>...</td>\n",
       "      <td>0</td>\n",
       "      <td>0</td>\n",
       "      <td>0</td>\n",
       "      <td>0</td>\n",
       "      <td>1</td>\n",
       "      <td>1</td>\n",
       "      <td>1</td>\n",
       "      <td>15.754144</td>\n",
       "      <td>159.947583</td>\n",
       "      <td>2054.706961</td>\n",
       "    </tr>\n",
       "    <tr>\n",
       "      <th>4</th>\n",
       "      <td>13863</td>\n",
       "      <td>0</td>\n",
       "      <td>1</td>\n",
       "      <td>48</td>\n",
       "      <td>18925.23</td>\n",
       "      <td>0</td>\n",
       "      <td>14.913540</td>\n",
       "      <td>15</td>\n",
       "      <td>2</td>\n",
       "      <td>0</td>\n",
       "      <td>...</td>\n",
       "      <td>0</td>\n",
       "      <td>0</td>\n",
       "      <td>0</td>\n",
       "      <td>1</td>\n",
       "      <td>0</td>\n",
       "      <td>1</td>\n",
       "      <td>0</td>\n",
       "      <td>17.087227</td>\n",
       "      <td>119.956840</td>\n",
       "      <td>2164.579412</td>\n",
       "    </tr>\n",
       "    <tr>\n",
       "      <th>5</th>\n",
       "      <td>11352</td>\n",
       "      <td>0</td>\n",
       "      <td>0</td>\n",
       "      <td>83</td>\n",
       "      <td>40074.19</td>\n",
       "      <td>1</td>\n",
       "      <td>8.147417</td>\n",
       "      <td>16</td>\n",
       "      <td>2</td>\n",
       "      <td>1</td>\n",
       "      <td>...</td>\n",
       "      <td>0</td>\n",
       "      <td>0</td>\n",
       "      <td>1</td>\n",
       "      <td>1</td>\n",
       "      <td>0</td>\n",
       "      <td>0</td>\n",
       "      <td>0</td>\n",
       "      <td>1.670972</td>\n",
       "      <td>149.948316</td>\n",
       "      <td>271.493436</td>\n",
       "    </tr>\n",
       "    <tr>\n",
       "      <th>...</th>\n",
       "      <td>...</td>\n",
       "      <td>...</td>\n",
       "      <td>...</td>\n",
       "      <td>...</td>\n",
       "      <td>...</td>\n",
       "      <td>...</td>\n",
       "      <td>...</td>\n",
       "      <td>...</td>\n",
       "      <td>...</td>\n",
       "      <td>...</td>\n",
       "      <td>...</td>\n",
       "      <td>...</td>\n",
       "      <td>...</td>\n",
       "      <td>...</td>\n",
       "      <td>...</td>\n",
       "      <td>...</td>\n",
       "      <td>...</td>\n",
       "      <td>...</td>\n",
       "      <td>...</td>\n",
       "      <td>...</td>\n",
       "      <td>...</td>\n",
       "    </tr>\n",
       "    <tr>\n",
       "      <th>9996</th>\n",
       "      <td>640</td>\n",
       "      <td>1</td>\n",
       "      <td>3</td>\n",
       "      <td>23</td>\n",
       "      <td>55723.74</td>\n",
       "      <td>0</td>\n",
       "      <td>9.415935</td>\n",
       "      <td>12</td>\n",
       "      <td>2</td>\n",
       "      <td>0</td>\n",
       "      <td>...</td>\n",
       "      <td>1</td>\n",
       "      <td>1</td>\n",
       "      <td>0</td>\n",
       "      <td>0</td>\n",
       "      <td>0</td>\n",
       "      <td>0</td>\n",
       "      <td>0</td>\n",
       "      <td>68.197130</td>\n",
       "      <td>159.979400</td>\n",
       "      <td>6511.252601</td>\n",
       "    </tr>\n",
       "    <tr>\n",
       "      <th>9997</th>\n",
       "      <td>77168</td>\n",
       "      <td>1</td>\n",
       "      <td>4</td>\n",
       "      <td>48</td>\n",
       "      <td>34129.34</td>\n",
       "      <td>0</td>\n",
       "      <td>6.740547</td>\n",
       "      <td>15</td>\n",
       "      <td>2</td>\n",
       "      <td>0</td>\n",
       "      <td>...</td>\n",
       "      <td>1</td>\n",
       "      <td>1</td>\n",
       "      <td>0</td>\n",
       "      <td>1</td>\n",
       "      <td>0</td>\n",
       "      <td>0</td>\n",
       "      <td>0</td>\n",
       "      <td>61.040370</td>\n",
       "      <td>207.481100</td>\n",
       "      <td>5695.951810</td>\n",
       "    </tr>\n",
       "    <tr>\n",
       "      <th>9998</th>\n",
       "      <td>406</td>\n",
       "      <td>1</td>\n",
       "      <td>1</td>\n",
       "      <td>48</td>\n",
       "      <td>45983.43</td>\n",
       "      <td>0</td>\n",
       "      <td>6.590911</td>\n",
       "      <td>10</td>\n",
       "      <td>0</td>\n",
       "      <td>0</td>\n",
       "      <td>...</td>\n",
       "      <td>1</td>\n",
       "      <td>0</td>\n",
       "      <td>0</td>\n",
       "      <td>0</td>\n",
       "      <td>0</td>\n",
       "      <td>1</td>\n",
       "      <td>1</td>\n",
       "      <td>47.416890</td>\n",
       "      <td>169.974100</td>\n",
       "      <td>4159.305799</td>\n",
       "    </tr>\n",
       "    <tr>\n",
       "      <th>9999</th>\n",
       "      <td>35575</td>\n",
       "      <td>0</td>\n",
       "      <td>1</td>\n",
       "      <td>39</td>\n",
       "      <td>16667.58</td>\n",
       "      <td>0</td>\n",
       "      <td>12.071910</td>\n",
       "      <td>14</td>\n",
       "      <td>1</td>\n",
       "      <td>0</td>\n",
       "      <td>...</td>\n",
       "      <td>0</td>\n",
       "      <td>0</td>\n",
       "      <td>1</td>\n",
       "      <td>1</td>\n",
       "      <td>1</td>\n",
       "      <td>1</td>\n",
       "      <td>1</td>\n",
       "      <td>71.095600</td>\n",
       "      <td>252.624000</td>\n",
       "      <td>6468.456752</td>\n",
       "    </tr>\n",
       "    <tr>\n",
       "      <th>10000</th>\n",
       "      <td>12230</td>\n",
       "      <td>0</td>\n",
       "      <td>1</td>\n",
       "      <td>28</td>\n",
       "      <td>9020.92</td>\n",
       "      <td>0</td>\n",
       "      <td>11.754720</td>\n",
       "      <td>17</td>\n",
       "      <td>1</td>\n",
       "      <td>0</td>\n",
       "      <td>...</td>\n",
       "      <td>1</td>\n",
       "      <td>1</td>\n",
       "      <td>0</td>\n",
       "      <td>0</td>\n",
       "      <td>1</td>\n",
       "      <td>1</td>\n",
       "      <td>0</td>\n",
       "      <td>63.350860</td>\n",
       "      <td>217.484000</td>\n",
       "      <td>5857.586167</td>\n",
       "    </tr>\n",
       "  </tbody>\n",
       "</table>\n",
       "<p>10000 rows × 29 columns</p>\n",
       "</div>"
      ],
      "text/plain": [
       "           Population  Rural  Children  Age    Income  Churn  \\\n",
       "CaseOrder                                                      \n",
       "1                  38      0         0   68  28561.99      0   \n",
       "2               10446      0         1   27  21704.77      1   \n",
       "3                3735      0         4   50   9609.57      0   \n",
       "4               13863      0         1   48  18925.23      0   \n",
       "5               11352      0         0   83  40074.19      1   \n",
       "...               ...    ...       ...  ...       ...    ...   \n",
       "9996              640      1         3   23  55723.74      0   \n",
       "9997            77168      1         4   48  34129.34      0   \n",
       "9998              406      1         1   48  45983.43      0   \n",
       "9999            35575      0         1   39  16667.58      0   \n",
       "10000           12230      0         1   28   9020.92      0   \n",
       "\n",
       "           Outage_sec_perweek  Email  Contacts  Yearly_equip_failure  ...  \\\n",
       "CaseOrder                                                             ...   \n",
       "1                    7.978323     10         0                     1  ...   \n",
       "2                   11.699080     12         0                     1  ...   \n",
       "3                   10.752800      9         0                     1  ...   \n",
       "4                   14.913540     15         2                     0  ...   \n",
       "5                    8.147417     16         2                     1  ...   \n",
       "...                       ...    ...       ...                   ...  ...   \n",
       "9996                 9.415935     12         2                     0  ...   \n",
       "9997                 6.740547     15         2                     0  ...   \n",
       "9998                 6.590911     10         0                     0  ...   \n",
       "9999                12.071910     14         1                     0  ...   \n",
       "10000               11.754720     17         1                     0  ...   \n",
       "\n",
       "           OnlineBackup  DeviceProtection  TechSupport  StreamingTV  \\\n",
       "CaseOrder                                                             \n",
       "1                     1                 0            0            0   \n",
       "2                     0                 0            0            1   \n",
       "3                     0                 0            0            0   \n",
       "4                     0                 0            0            1   \n",
       "5                     0                 0            1            1   \n",
       "...                 ...               ...          ...          ...   \n",
       "9996                  1                 1            0            0   \n",
       "9997                  1                 1            0            1   \n",
       "9998                  1                 0            0            0   \n",
       "9999                  0                 0            1            1   \n",
       "10000                 1                 1            0            0   \n",
       "\n",
       "           StreamingMovies  PaperlessBilling  PaymentMethod_Auto     Tenure  \\\n",
       "CaseOrder                                                                     \n",
       "1                        1                 1                   1   6.795513   \n",
       "2                        1                 1                   1   1.156681   \n",
       "3                        1                 1                   1  15.754144   \n",
       "4                        0                 1                   0  17.087227   \n",
       "5                        0                 0                   0   1.670972   \n",
       "...                    ...               ...                 ...        ...   \n",
       "9996                     0                 0                   0  68.197130   \n",
       "9997                     0                 0                   0  61.040370   \n",
       "9998                     0                 1                   1  47.416890   \n",
       "9999                     1                 1                   1  71.095600   \n",
       "10000                    1                 1                   0  63.350860   \n",
       "\n",
       "           MonthlyCharge  Bandwidth_GB_Year  \n",
       "CaseOrder                                    \n",
       "1             172.455519         904.536110  \n",
       "2             242.632554         800.982766  \n",
       "3             159.947583        2054.706961  \n",
       "4             119.956840        2164.579412  \n",
       "5             149.948316         271.493436  \n",
       "...                  ...                ...  \n",
       "9996          159.979400        6511.252601  \n",
       "9997          207.481100        5695.951810  \n",
       "9998          169.974100        4159.305799  \n",
       "9999          252.624000        6468.456752  \n",
       "10000         217.484000        5857.586167  \n",
       "\n",
       "[10000 rows x 29 columns]"
      ]
     },
     "execution_count": 2,
     "metadata": {},
     "output_type": "execute_result"
    }
   ],
   "source": [
    "import ImportModule \n",
    "import_obj = ImportModule.Importing()\n",
    "\n",
    "filePath = \"https://raw.githubusercontent.com/dayanaviana/WGU/main/datasources/churn_D208-1.csv\"\n",
    "df = import_obj.import_File(filePath)\n",
    "df"
   ]
  },
  {
   "cell_type": "code",
   "execution_count": 3,
   "metadata": {},
   "outputs": [
    {
     "name": "stdout",
     "output_type": "stream",
     "text": [
      "<class 'pandas.core.frame.DataFrame'>\n",
      "Int64Index: 10000 entries, 1 to 10000\n",
      "Data columns (total 29 columns):\n",
      " #   Column                 Non-Null Count  Dtype  \n",
      "---  ------                 --------------  -----  \n",
      " 0   Population             10000 non-null  int64  \n",
      " 1   Rural                  10000 non-null  int64  \n",
      " 2   Children               10000 non-null  int64  \n",
      " 3   Age                    10000 non-null  int64  \n",
      " 4   Income                 10000 non-null  float64\n",
      " 5   Churn                  10000 non-null  int64  \n",
      " 6   Outage_sec_perweek     10000 non-null  float64\n",
      " 7   Email                  10000 non-null  int64  \n",
      " 8   Contacts               10000 non-null  int64  \n",
      " 9   Yearly_equip_failure   10000 non-null  int64  \n",
      " 10  Techie                 10000 non-null  int64  \n",
      " 11  Contract_Monthly       10000 non-null  int64  \n",
      " 12  Port_modem             10000 non-null  int64  \n",
      " 13  Tablet                 10000 non-null  int64  \n",
      " 14  InternetService_Fiber  10000 non-null  int64  \n",
      " 15  InternetService_DSL    10000 non-null  int64  \n",
      " 16  Phone                  10000 non-null  int64  \n",
      " 17  Multiple               10000 non-null  int64  \n",
      " 18  OnlineSecurity         10000 non-null  int64  \n",
      " 19  OnlineBackup           10000 non-null  int64  \n",
      " 20  DeviceProtection       10000 non-null  int64  \n",
      " 21  TechSupport            10000 non-null  int64  \n",
      " 22  StreamingTV            10000 non-null  int64  \n",
      " 23  StreamingMovies        10000 non-null  int64  \n",
      " 24  PaperlessBilling       10000 non-null  int64  \n",
      " 25  PaymentMethod_Auto     10000 non-null  int64  \n",
      " 26  Tenure                 10000 non-null  float64\n",
      " 27  MonthlyCharge          10000 non-null  float64\n",
      " 28  Bandwidth_GB_Year      10000 non-null  float64\n",
      "dtypes: float64(5), int64(24)\n",
      "memory usage: 2.3 MB\n"
     ]
    }
   ],
   "source": [
    "df.info()"
   ]
  },
  {
   "cell_type": "markdown",
   "metadata": {},
   "source": [
    "# Data Preparation"
   ]
  },
  {
   "cell_type": "code",
   "execution_count": 4,
   "metadata": {},
   "outputs": [
    {
     "name": "stdout",
     "output_type": "stream",
     "text": [
      "<class 'pandas.core.frame.DataFrame'>\n",
      "Int64Index: 10000 entries, 1 to 10000\n",
      "Data columns (total 29 columns):\n",
      " #   Column                 Non-Null Count  Dtype  \n",
      "---  ------                 --------------  -----  \n",
      " 0   Population             10000 non-null  int64  \n",
      " 1   Rural                  10000 non-null  object \n",
      " 2   Children               10000 non-null  int64  \n",
      " 3   Age                    10000 non-null  int64  \n",
      " 4   Income                 10000 non-null  float64\n",
      " 5   Churn                  10000 non-null  object \n",
      " 6   Outage_sec_perweek     10000 non-null  float64\n",
      " 7   Email                  10000 non-null  int64  \n",
      " 8   Contacts               10000 non-null  int64  \n",
      " 9   Yearly_equip_failure   10000 non-null  int64  \n",
      " 10  Techie                 10000 non-null  object \n",
      " 11  Contract_Monthly       10000 non-null  object \n",
      " 12  Port_modem             10000 non-null  object \n",
      " 13  Tablet                 10000 non-null  object \n",
      " 14  InternetService_Fiber  10000 non-null  object \n",
      " 15  InternetService_DSL    10000 non-null  object \n",
      " 16  Phone                  10000 non-null  object \n",
      " 17  Multiple               10000 non-null  object \n",
      " 18  OnlineSecurity         10000 non-null  object \n",
      " 19  OnlineBackup           10000 non-null  object \n",
      " 20  DeviceProtection       10000 non-null  object \n",
      " 21  TechSupport            10000 non-null  object \n",
      " 22  StreamingTV            10000 non-null  object \n",
      " 23  StreamingMovies        10000 non-null  object \n",
      " 24  PaperlessBilling       10000 non-null  object \n",
      " 25  PaymentMethod_Auto     10000 non-null  object \n",
      " 26  Tenure                 10000 non-null  float64\n",
      " 27  MonthlyCharge          10000 non-null  float64\n",
      " 28  Bandwidth_GB_Year      10000 non-null  float64\n",
      "dtypes: float64(5), int64(6), object(18)\n",
      "memory usage: 2.3+ MB\n",
      "\n",
      "Complete details in df_info.txt file\n"
     ]
    }
   ],
   "source": [
    "# convert Dtype from 'int64' to 'object'\n",
    "df['Rural'] = df['Rural'].astype('object')\n",
    "df['Churn'] = df['Churn'].astype('object')\n",
    "df['Techie'] = df['Techie'].astype('object')\n",
    "df['Contract_Monthly'] = df['Contract_Monthly'].astype('object')\n",
    "df['Port_modem'] = df['Port_modem'].astype('object')\n",
    "df['Tablet'] = df['Tablet'].astype('object')\n",
    "df['InternetService_Fiber'] = df['InternetService_Fiber'].astype('object')\n",
    "df['InternetService_DSL'] = df['InternetService_DSL'].astype('object')\n",
    "df['Phone'] = df['Phone'].astype('object')\n",
    "df['Multiple'] = df['Multiple'].astype('object')\n",
    "df['OnlineSecurity'] = df['OnlineSecurity'].astype('object')\n",
    "df['OnlineBackup'] = df['OnlineBackup'].astype('object')\n",
    "df['DeviceProtection'] = df['DeviceProtection'].astype('object')\n",
    "df['TechSupport'] = df['TechSupport'].astype('object')\n",
    "df['StreamingTV'] = df['StreamingTV'].astype('object')\n",
    "df['StreamingMovies'] = df['StreamingMovies'].astype('object')\n",
    "df['PaperlessBilling'] = df['PaperlessBilling'].astype('object')\n",
    "df['PaymentMethod_Auto'] = df['PaymentMethod_Auto'].astype('object')\n",
    "\n",
    "df.info()\n",
    "\n",
    "import io\n",
    "buffer = io.StringIO()\n",
    "df.info(buf=buffer)\n",
    "s = buffer.getvalue()\n",
    "with open(\"df_info.txt\", \"w\",\n",
    "        encoding=\"utf-8\") as f:  \n",
    "    f.write(s)\n",
    "print('\\nComplete details in df_info.txt file')"
   ]
  },
  {
   "cell_type": "markdown",
   "metadata": {},
   "source": [
    "# Summary Statistics"
   ]
  },
  {
   "cell_type": "code",
   "execution_count": 5,
   "metadata": {},
   "outputs": [
    {
     "data": {
      "text/html": [
       "<div>\n",
       "<style scoped>\n",
       "    .dataframe tbody tr th:only-of-type {\n",
       "        vertical-align: middle;\n",
       "    }\n",
       "\n",
       "    .dataframe tbody tr th {\n",
       "        vertical-align: top;\n",
       "    }\n",
       "\n",
       "    .dataframe thead th {\n",
       "        text-align: right;\n",
       "    }\n",
       "</style>\n",
       "<table border=\"1\" class=\"dataframe\">\n",
       "  <thead>\n",
       "    <tr style=\"text-align: right;\">\n",
       "      <th></th>\n",
       "      <th>Population</th>\n",
       "      <th>Children</th>\n",
       "      <th>Age</th>\n",
       "      <th>Income</th>\n",
       "      <th>Outage_sec_perweek</th>\n",
       "      <th>Email</th>\n",
       "      <th>Contacts</th>\n",
       "      <th>Yearly_equip_failure</th>\n",
       "      <th>Tenure</th>\n",
       "      <th>MonthlyCharge</th>\n",
       "      <th>Bandwidth_GB_Year</th>\n",
       "    </tr>\n",
       "  </thead>\n",
       "  <tbody>\n",
       "    <tr>\n",
       "      <th>count</th>\n",
       "      <td>10000.000000</td>\n",
       "      <td>10000.0000</td>\n",
       "      <td>10000.000000</td>\n",
       "      <td>10000.000000</td>\n",
       "      <td>10000.000000</td>\n",
       "      <td>10000.000000</td>\n",
       "      <td>10000.000000</td>\n",
       "      <td>10000.000000</td>\n",
       "      <td>10000.000000</td>\n",
       "      <td>10000.000000</td>\n",
       "      <td>10000.000000</td>\n",
       "    </tr>\n",
       "    <tr>\n",
       "      <th>mean</th>\n",
       "      <td>9756.562400</td>\n",
       "      <td>2.0877</td>\n",
       "      <td>53.078400</td>\n",
       "      <td>39806.926771</td>\n",
       "      <td>10.001848</td>\n",
       "      <td>12.016000</td>\n",
       "      <td>0.994200</td>\n",
       "      <td>0.398000</td>\n",
       "      <td>34.526188</td>\n",
       "      <td>172.624816</td>\n",
       "      <td>3392.341550</td>\n",
       "    </tr>\n",
       "    <tr>\n",
       "      <th>std</th>\n",
       "      <td>14432.698671</td>\n",
       "      <td>2.1472</td>\n",
       "      <td>20.698882</td>\n",
       "      <td>28199.916702</td>\n",
       "      <td>2.976019</td>\n",
       "      <td>3.025898</td>\n",
       "      <td>0.988466</td>\n",
       "      <td>0.635953</td>\n",
       "      <td>26.443063</td>\n",
       "      <td>42.943094</td>\n",
       "      <td>2185.294852</td>\n",
       "    </tr>\n",
       "    <tr>\n",
       "      <th>min</th>\n",
       "      <td>0.000000</td>\n",
       "      <td>0.0000</td>\n",
       "      <td>18.000000</td>\n",
       "      <td>348.670000</td>\n",
       "      <td>0.099747</td>\n",
       "      <td>1.000000</td>\n",
       "      <td>0.000000</td>\n",
       "      <td>0.000000</td>\n",
       "      <td>1.000259</td>\n",
       "      <td>79.978860</td>\n",
       "      <td>155.506715</td>\n",
       "    </tr>\n",
       "    <tr>\n",
       "      <th>25%</th>\n",
       "      <td>738.000000</td>\n",
       "      <td>0.0000</td>\n",
       "      <td>35.000000</td>\n",
       "      <td>19224.717500</td>\n",
       "      <td>8.018214</td>\n",
       "      <td>10.000000</td>\n",
       "      <td>0.000000</td>\n",
       "      <td>0.000000</td>\n",
       "      <td>7.917694</td>\n",
       "      <td>139.979239</td>\n",
       "      <td>1236.470827</td>\n",
       "    </tr>\n",
       "    <tr>\n",
       "      <th>50%</th>\n",
       "      <td>2910.500000</td>\n",
       "      <td>1.0000</td>\n",
       "      <td>53.000000</td>\n",
       "      <td>33170.605000</td>\n",
       "      <td>10.018560</td>\n",
       "      <td>12.000000</td>\n",
       "      <td>1.000000</td>\n",
       "      <td>0.000000</td>\n",
       "      <td>35.430507</td>\n",
       "      <td>167.484700</td>\n",
       "      <td>3279.536903</td>\n",
       "    </tr>\n",
       "    <tr>\n",
       "      <th>75%</th>\n",
       "      <td>13168.000000</td>\n",
       "      <td>3.0000</td>\n",
       "      <td>71.000000</td>\n",
       "      <td>53246.170000</td>\n",
       "      <td>11.969485</td>\n",
       "      <td>14.000000</td>\n",
       "      <td>2.000000</td>\n",
       "      <td>1.000000</td>\n",
       "      <td>61.479795</td>\n",
       "      <td>200.734725</td>\n",
       "      <td>5586.141370</td>\n",
       "    </tr>\n",
       "    <tr>\n",
       "      <th>max</th>\n",
       "      <td>111850.000000</td>\n",
       "      <td>10.0000</td>\n",
       "      <td>89.000000</td>\n",
       "      <td>258900.700000</td>\n",
       "      <td>21.207230</td>\n",
       "      <td>23.000000</td>\n",
       "      <td>7.000000</td>\n",
       "      <td>6.000000</td>\n",
       "      <td>71.999280</td>\n",
       "      <td>290.160419</td>\n",
       "      <td>7158.981530</td>\n",
       "    </tr>\n",
       "  </tbody>\n",
       "</table>\n",
       "</div>"
      ],
      "text/plain": [
       "          Population    Children           Age         Income  \\\n",
       "count   10000.000000  10000.0000  10000.000000   10000.000000   \n",
       "mean     9756.562400      2.0877     53.078400   39806.926771   \n",
       "std     14432.698671      2.1472     20.698882   28199.916702   \n",
       "min         0.000000      0.0000     18.000000     348.670000   \n",
       "25%       738.000000      0.0000     35.000000   19224.717500   \n",
       "50%      2910.500000      1.0000     53.000000   33170.605000   \n",
       "75%     13168.000000      3.0000     71.000000   53246.170000   \n",
       "max    111850.000000     10.0000     89.000000  258900.700000   \n",
       "\n",
       "       Outage_sec_perweek         Email      Contacts  Yearly_equip_failure  \\\n",
       "count        10000.000000  10000.000000  10000.000000          10000.000000   \n",
       "mean            10.001848     12.016000      0.994200              0.398000   \n",
       "std              2.976019      3.025898      0.988466              0.635953   \n",
       "min              0.099747      1.000000      0.000000              0.000000   \n",
       "25%              8.018214     10.000000      0.000000              0.000000   \n",
       "50%             10.018560     12.000000      1.000000              0.000000   \n",
       "75%             11.969485     14.000000      2.000000              1.000000   \n",
       "max             21.207230     23.000000      7.000000              6.000000   \n",
       "\n",
       "             Tenure  MonthlyCharge  Bandwidth_GB_Year  \n",
       "count  10000.000000   10000.000000       10000.000000  \n",
       "mean      34.526188     172.624816        3392.341550  \n",
       "std       26.443063      42.943094        2185.294852  \n",
       "min        1.000259      79.978860         155.506715  \n",
       "25%        7.917694     139.979239        1236.470827  \n",
       "50%       35.430507     167.484700        3279.536903  \n",
       "75%       61.479795     200.734725        5586.141370  \n",
       "max       71.999280     290.160419        7158.981530  "
      ]
     },
     "execution_count": 5,
     "metadata": {},
     "output_type": "execute_result"
    }
   ],
   "source": [
    "df.describe()"
   ]
  },
  {
   "cell_type": "code",
   "execution_count": 6,
   "metadata": {},
   "outputs": [
    {
     "data": {
      "text/html": [
       "<div>\n",
       "<style scoped>\n",
       "    .dataframe tbody tr th:only-of-type {\n",
       "        vertical-align: middle;\n",
       "    }\n",
       "\n",
       "    .dataframe tbody tr th {\n",
       "        vertical-align: top;\n",
       "    }\n",
       "\n",
       "    .dataframe thead th {\n",
       "        text-align: right;\n",
       "    }\n",
       "</style>\n",
       "<table border=\"1\" class=\"dataframe\">\n",
       "  <thead>\n",
       "    <tr style=\"text-align: right;\">\n",
       "      <th></th>\n",
       "      <th>Rural</th>\n",
       "      <th>Churn</th>\n",
       "      <th>Techie</th>\n",
       "      <th>Contract_Monthly</th>\n",
       "      <th>Port_modem</th>\n",
       "      <th>Tablet</th>\n",
       "      <th>InternetService_Fiber</th>\n",
       "      <th>InternetService_DSL</th>\n",
       "      <th>Phone</th>\n",
       "      <th>Multiple</th>\n",
       "      <th>OnlineSecurity</th>\n",
       "      <th>OnlineBackup</th>\n",
       "      <th>DeviceProtection</th>\n",
       "      <th>TechSupport</th>\n",
       "      <th>StreamingTV</th>\n",
       "      <th>StreamingMovies</th>\n",
       "      <th>PaperlessBilling</th>\n",
       "      <th>PaymentMethod_Auto</th>\n",
       "    </tr>\n",
       "  </thead>\n",
       "  <tbody>\n",
       "    <tr>\n",
       "      <th>count</th>\n",
       "      <td>10000</td>\n",
       "      <td>10000</td>\n",
       "      <td>10000</td>\n",
       "      <td>10000</td>\n",
       "      <td>10000</td>\n",
       "      <td>10000</td>\n",
       "      <td>10000</td>\n",
       "      <td>10000</td>\n",
       "      <td>10000</td>\n",
       "      <td>10000</td>\n",
       "      <td>10000</td>\n",
       "      <td>10000</td>\n",
       "      <td>10000</td>\n",
       "      <td>10000</td>\n",
       "      <td>10000</td>\n",
       "      <td>10000</td>\n",
       "      <td>10000</td>\n",
       "      <td>10000</td>\n",
       "    </tr>\n",
       "    <tr>\n",
       "      <th>unique</th>\n",
       "      <td>2</td>\n",
       "      <td>2</td>\n",
       "      <td>2</td>\n",
       "      <td>2</td>\n",
       "      <td>2</td>\n",
       "      <td>2</td>\n",
       "      <td>2</td>\n",
       "      <td>2</td>\n",
       "      <td>2</td>\n",
       "      <td>2</td>\n",
       "      <td>2</td>\n",
       "      <td>2</td>\n",
       "      <td>2</td>\n",
       "      <td>2</td>\n",
       "      <td>2</td>\n",
       "      <td>2</td>\n",
       "      <td>2</td>\n",
       "      <td>2</td>\n",
       "    </tr>\n",
       "    <tr>\n",
       "      <th>top</th>\n",
       "      <td>0</td>\n",
       "      <td>0</td>\n",
       "      <td>0</td>\n",
       "      <td>1</td>\n",
       "      <td>0</td>\n",
       "      <td>0</td>\n",
       "      <td>0</td>\n",
       "      <td>0</td>\n",
       "      <td>1</td>\n",
       "      <td>0</td>\n",
       "      <td>0</td>\n",
       "      <td>0</td>\n",
       "      <td>0</td>\n",
       "      <td>0</td>\n",
       "      <td>0</td>\n",
       "      <td>0</td>\n",
       "      <td>1</td>\n",
       "      <td>0</td>\n",
       "    </tr>\n",
       "    <tr>\n",
       "      <th>freq</th>\n",
       "      <td>6673</td>\n",
       "      <td>7350</td>\n",
       "      <td>8321</td>\n",
       "      <td>5456</td>\n",
       "      <td>5166</td>\n",
       "      <td>7009</td>\n",
       "      <td>5592</td>\n",
       "      <td>6537</td>\n",
       "      <td>9067</td>\n",
       "      <td>5392</td>\n",
       "      <td>6424</td>\n",
       "      <td>5494</td>\n",
       "      <td>5614</td>\n",
       "      <td>6250</td>\n",
       "      <td>5071</td>\n",
       "      <td>5110</td>\n",
       "      <td>5882</td>\n",
       "      <td>5688</td>\n",
       "    </tr>\n",
       "  </tbody>\n",
       "</table>\n",
       "</div>"
      ],
      "text/plain": [
       "        Rural  Churn  Techie  Contract_Monthly  Port_modem  Tablet  \\\n",
       "count   10000  10000   10000             10000       10000   10000   \n",
       "unique      2      2       2                 2           2       2   \n",
       "top         0      0       0                 1           0       0   \n",
       "freq     6673   7350    8321              5456        5166    7009   \n",
       "\n",
       "        InternetService_Fiber  InternetService_DSL  Phone  Multiple  \\\n",
       "count                   10000                10000  10000     10000   \n",
       "unique                      2                    2      2         2   \n",
       "top                         0                    0      1         0   \n",
       "freq                     5592                 6537   9067      5392   \n",
       "\n",
       "        OnlineSecurity  OnlineBackup  DeviceProtection  TechSupport  \\\n",
       "count            10000         10000             10000        10000   \n",
       "unique               2             2                 2            2   \n",
       "top                  0             0                 0            0   \n",
       "freq              6424          5494              5614         6250   \n",
       "\n",
       "        StreamingTV  StreamingMovies  PaperlessBilling  PaymentMethod_Auto  \n",
       "count         10000            10000             10000               10000  \n",
       "unique            2                2                 2                   2  \n",
       "top               0                0                 1                   0  \n",
       "freq           5071             5110              5882                5688  "
      ]
     },
     "execution_count": 6,
     "metadata": {},
     "output_type": "execute_result"
    }
   ],
   "source": [
    "categorical_summary = df.describe(include='object')\n",
    "categorical_summary.to_csv(\"univariate_categorical_summary.csv\")\n",
    "categorical_summary\n"
   ]
  },
  {
   "cell_type": "markdown",
   "metadata": {},
   "source": [
    "# Distributions"
   ]
  },
  {
   "cell_type": "code",
   "execution_count": 7,
   "metadata": {},
   "outputs": [
    {
     "name": "stdout",
     "output_type": "stream",
     "text": [
      "\n",
      "Summary Statistics init\n",
      "MonthlyCharge\n",
      "Max: 290.160419\n",
      "Min: 79.97886\n",
      "Mean: 172.62\n",
      "Median: 167.48\n",
      "Mode: [179.9476]\n",
      "Variance: 1843.92\n",
      "St. Dev: 42.94\n",
      "\n",
      "Churn YES\n",
      "MonthlyCharge\n",
      "Max: 290.160419\n",
      "Min: 92.45514\n",
      "Mean: 199.30\n",
      "Median: 200.12\n",
      "Mode: [240.1149]\n",
      "Variance: 1702.42\n",
      "St. Dev: 41.26\n",
      "\n",
      "Churn NO\n",
      "MonthlyCharge\n",
      "Max: 290.1604\n",
      "Min: 79.97886\n",
      "Mean: 163.01\n",
      "Median: 159.96\n",
      "Mode: [112.4551]\n",
      "Variance: 1546.02\n",
      "St. Dev: 39.32\n",
      "\n",
      "Distribution Graphs init\n",
      "\n",
      "\n"
     ]
    },
    {
     "data": {
      "image/png": "[encoded data removed]",
      "text/plain": [
       "<Figure size 1368x576 with 6 Axes>"
      ]
     },
     "metadata": {
      "needs_background": "light"
     },
     "output_type": "display_data"
    }
   ],
   "source": [
    "df_churn_yes = df.loc[df[\"Churn\"]==1]\n",
    "df_churn_no = df.loc[df[\"Churn\"]==0]\n",
    "\n",
    "import SummaryStatisticsModule as s\n",
    "summaryStatistics_obj = s.SummaryStatistics()\n",
    "summaryStatistics_obj.get_df_summary(df, \"MonthlyCharge\")\n",
    "\n",
    "print(\"\\nChurn YES\")\n",
    "summaryStatistics_obj.get_df_summary(df_churn_yes, \"MonthlyCharge\")\n",
    "print(\"\\nChurn NO\")\n",
    "summaryStatistics_obj.get_df_summary(df_churn_no, \"MonthlyCharge\")\n",
    "\n",
    "import Graphs.DistributionGraphsModule as d\n",
    "dist_graph_obj = d.DistributionGraphs()\n",
    "dist_graph_obj.show_2x3_graphs(df, df_churn_yes, df_churn_no, \"MonthlyCharge\")"
   ]
  },
  {
   "cell_type": "markdown",
   "metadata": {},
   "source": [
    "# Sampling Data\n",
    "75% Trainig sample , 25% Test sample"
   ]
  },
  {
   "cell_type": "code",
   "execution_count": 8,
   "metadata": {},
   "outputs": [
    {
     "name": "stdout",
     "output_type": "stream",
     "text": [
      "x_train: (7000, 28)\n",
      "y_train: (7000,)\n",
      "x_test: (3000, 28)\n",
      "y_test: (3000,)\n"
     ]
    }
   ],
   "source": [
    "target = 'MonthlyCharge'\n",
    "Y = df[target]\n",
    "X = df.drop(target, axis=1) #Predictors\n",
    "split_by = df['Churn']\n",
    "from sklearn.model_selection import train_test_split\n",
    "x_train, x_test, y_train, y_test = train_test_split(X, Y, test_size=0.3, random_state=42, stratify=split_by)\n",
    "print('x_train:', x_train.shape)\n",
    "print('y_train:', y_train.shape)\n",
    "print('x_test:', x_test.shape)\n",
    "print('y_test:', y_test.shape)"
   ]
  },
  {
   "cell_type": "markdown",
   "metadata": {},
   "source": [
    "## Linear Regression"
   ]
  },
  {
   "cell_type": "code",
   "execution_count": 9,
   "metadata": {},
   "outputs": [
    {
     "data": {
      "text/plain": [
       "Index(['Population', 'Rural', 'Children', 'Age', 'Income', 'Churn',\n",
       "       'Outage_sec_perweek', 'Email', 'Contacts', 'Yearly_equip_failure',\n",
       "       'Techie', 'Contract_Monthly', 'Port_modem', 'Tablet',\n",
       "       'InternetService_Fiber', 'InternetService_DSL', 'Phone', 'Multiple',\n",
       "       'OnlineSecurity', 'OnlineBackup', 'DeviceProtection', 'TechSupport',\n",
       "       'StreamingTV', 'StreamingMovies', 'PaperlessBilling',\n",
       "       'PaymentMethod_Auto', 'Tenure', 'Bandwidth_GB_Year'],\n",
       "      dtype='object')"
      ]
     },
     "execution_count": 9,
     "metadata": {},
     "output_type": "execute_result"
    }
   ],
   "source": [
    "X.columns"
   ]
  },
  {
   "cell_type": "code",
   "execution_count": 10,
   "metadata": {},
   "outputs": [
    {
     "name": "stdout",
     "output_type": "stream",
     "text": [
      "\n",
      "LinearRegression init\n",
      "\n",
      "formula =  MonthlyCharge ~ Population + Rural + Children + Age + Income + Churn + Outage_sec_perweek + Email + Contacts + Yearly_equip_failure + Techie + Contract_Monthly + Port_modem + Tablet + InternetService_Fiber + InternetService_DSL + Phone + Multiple + OnlineSecurity + OnlineBackup + DeviceProtection + TechSupport + StreamingTV + StreamingMovies + PaperlessBilling + PaymentMethod_Auto + Tenure + Bandwidth_GB_Year + 0\n",
      "\n",
      "R-squared =  0.9730402295704353\n",
      "R-squared adjusted =  0.9729319418682365\n",
      "MSE =  49.69962902391985\n",
      "RSE =  49.50787566815453\n",
      "MRSE =  7.035178075985055\n",
      "RSE =  7.049796381734713\n",
      "\n",
      "Model summary saved on model_summary.txt\n"
     ]
    }
   ],
   "source": [
    "import Models.LinearRegressionModel as model\n",
    "linearRegression_obj = model.LinearRegression()\n",
    "model_columns = X.columns\n",
    "train_df = x_train.join(y_train)\n",
    "linearRegression_obj.multiple_linear_regression(target, model_columns, train_df)"
   ]
  },
  {
   "cell_type": "markdown",
   "metadata": {},
   "source": [
    "## Feature Selection"
   ]
  },
  {
   "cell_type": "code",
   "execution_count": 12,
   "metadata": {},
   "outputs": [
    {
     "name": "stdout",
     "output_type": "stream",
     "text": [
      "LASSO Graph\n"
     ]
    },
    {
     "name": "stderr",
     "output_type": "stream",
     "text": [
      "/Users/dayanaviana/opt/anaconda3/lib/python3.8/site-packages/sklearn/linear_model/_coordinate_descent.py:530: ConvergenceWarning: Objective did not converge. You might want to increase the number of iterations. Duality gap: 306526.4662225564, tolerance: 1285.0855493406336\n",
      "  model = cd_fast.enet_coordinate_descent(\n"
     ]
    },
    {
     "data": {
      "image/png": "[encoded data removed]",
      "text/plain": [
       "<Figure size 1440x576 with 1 Axes>"
      ]
     },
     "metadata": {
      "needs_background": "light"
     },
     "output_type": "display_data"
    }
   ],
   "source": [
    "print('LASSO Graph')\n",
    "x = x_train\n",
    "y = y_train\n",
    "candidates_columns = model_columns\n",
    "linearRegression_obj.lasso_for_feature(x, y, candidates_columns)"
   ]
  },
  {
   "cell_type": "markdown",
   "metadata": {},
   "source": [
    "having a model that is too performant is not always a good thing. \n",
    "For instance, it can be a marker of overfitting: the model corresponds \n",
    "too closely to a particular set of data, and may therefore fail to \n",
    "predict future observations reliably. \n",
    "\n",
    "https://easystats.github.io/parameters/articles/parameters_selection.html"
   ]
  },
  {
   "cell_type": "markdown",
   "metadata": {},
   "source": [
    "## Clean Data\n",
    "Removing columns not relevant for this analysis."
   ]
  },
  {
   "cell_type": "code",
   "execution_count": 13,
   "metadata": {},
   "outputs": [
    {
     "data": {
      "text/html": [
       "<div>\n",
       "<style scoped>\n",
       "    .dataframe tbody tr th:only-of-type {\n",
       "        vertical-align: middle;\n",
       "    }\n",
       "\n",
       "    .dataframe tbody tr th {\n",
       "        vertical-align: top;\n",
       "    }\n",
       "\n",
       "    .dataframe thead th {\n",
       "        text-align: right;\n",
       "    }\n",
       "</style>\n",
       "<table border=\"1\" class=\"dataframe\">\n",
       "  <thead>\n",
       "    <tr style=\"text-align: right;\">\n",
       "      <th></th>\n",
       "      <th>MonthlyCharge</th>\n",
       "      <th>Churn</th>\n",
       "      <th>InternetService_Fiber</th>\n",
       "      <th>InternetService_DSL</th>\n",
       "      <th>Multiple</th>\n",
       "      <th>OnlineBackup</th>\n",
       "      <th>DeviceProtection</th>\n",
       "      <th>TechSupport</th>\n",
       "      <th>StreamingTV</th>\n",
       "      <th>StreamingMovies</th>\n",
       "      <th>Tenure</th>\n",
       "      <th>Children</th>\n",
       "    </tr>\n",
       "    <tr>\n",
       "      <th>CaseOrder</th>\n",
       "      <th></th>\n",
       "      <th></th>\n",
       "      <th></th>\n",
       "      <th></th>\n",
       "      <th></th>\n",
       "      <th></th>\n",
       "      <th></th>\n",
       "      <th></th>\n",
       "      <th></th>\n",
       "      <th></th>\n",
       "      <th></th>\n",
       "      <th></th>\n",
       "    </tr>\n",
       "  </thead>\n",
       "  <tbody>\n",
       "    <tr>\n",
       "      <th>1</th>\n",
       "      <td>172.455519</td>\n",
       "      <td>0</td>\n",
       "      <td>1</td>\n",
       "      <td>0</td>\n",
       "      <td>0</td>\n",
       "      <td>1</td>\n",
       "      <td>0</td>\n",
       "      <td>0</td>\n",
       "      <td>0</td>\n",
       "      <td>1</td>\n",
       "      <td>6.795513</td>\n",
       "      <td>0</td>\n",
       "    </tr>\n",
       "    <tr>\n",
       "      <th>2</th>\n",
       "      <td>242.632554</td>\n",
       "      <td>1</td>\n",
       "      <td>1</td>\n",
       "      <td>0</td>\n",
       "      <td>1</td>\n",
       "      <td>0</td>\n",
       "      <td>0</td>\n",
       "      <td>0</td>\n",
       "      <td>1</td>\n",
       "      <td>1</td>\n",
       "      <td>1.156681</td>\n",
       "      <td>1</td>\n",
       "    </tr>\n",
       "    <tr>\n",
       "      <th>3</th>\n",
       "      <td>159.947583</td>\n",
       "      <td>0</td>\n",
       "      <td>0</td>\n",
       "      <td>1</td>\n",
       "      <td>1</td>\n",
       "      <td>0</td>\n",
       "      <td>0</td>\n",
       "      <td>0</td>\n",
       "      <td>0</td>\n",
       "      <td>1</td>\n",
       "      <td>15.754144</td>\n",
       "      <td>4</td>\n",
       "    </tr>\n",
       "    <tr>\n",
       "      <th>4</th>\n",
       "      <td>119.956840</td>\n",
       "      <td>0</td>\n",
       "      <td>0</td>\n",
       "      <td>1</td>\n",
       "      <td>0</td>\n",
       "      <td>0</td>\n",
       "      <td>0</td>\n",
       "      <td>0</td>\n",
       "      <td>1</td>\n",
       "      <td>0</td>\n",
       "      <td>17.087227</td>\n",
       "      <td>1</td>\n",
       "    </tr>\n",
       "    <tr>\n",
       "      <th>5</th>\n",
       "      <td>149.948316</td>\n",
       "      <td>1</td>\n",
       "      <td>1</td>\n",
       "      <td>0</td>\n",
       "      <td>0</td>\n",
       "      <td>0</td>\n",
       "      <td>0</td>\n",
       "      <td>1</td>\n",
       "      <td>1</td>\n",
       "      <td>0</td>\n",
       "      <td>1.670972</td>\n",
       "      <td>0</td>\n",
       "    </tr>\n",
       "    <tr>\n",
       "      <th>...</th>\n",
       "      <td>...</td>\n",
       "      <td>...</td>\n",
       "      <td>...</td>\n",
       "      <td>...</td>\n",
       "      <td>...</td>\n",
       "      <td>...</td>\n",
       "      <td>...</td>\n",
       "      <td>...</td>\n",
       "      <td>...</td>\n",
       "      <td>...</td>\n",
       "      <td>...</td>\n",
       "      <td>...</td>\n",
       "    </tr>\n",
       "    <tr>\n",
       "      <th>9996</th>\n",
       "      <td>159.979400</td>\n",
       "      <td>0</td>\n",
       "      <td>0</td>\n",
       "      <td>1</td>\n",
       "      <td>1</td>\n",
       "      <td>1</td>\n",
       "      <td>1</td>\n",
       "      <td>0</td>\n",
       "      <td>0</td>\n",
       "      <td>0</td>\n",
       "      <td>68.197130</td>\n",
       "      <td>3</td>\n",
       "    </tr>\n",
       "    <tr>\n",
       "      <th>9997</th>\n",
       "      <td>207.481100</td>\n",
       "      <td>0</td>\n",
       "      <td>1</td>\n",
       "      <td>0</td>\n",
       "      <td>1</td>\n",
       "      <td>1</td>\n",
       "      <td>1</td>\n",
       "      <td>0</td>\n",
       "      <td>1</td>\n",
       "      <td>0</td>\n",
       "      <td>61.040370</td>\n",
       "      <td>4</td>\n",
       "    </tr>\n",
       "    <tr>\n",
       "      <th>9998</th>\n",
       "      <td>169.974100</td>\n",
       "      <td>0</td>\n",
       "      <td>1</td>\n",
       "      <td>0</td>\n",
       "      <td>1</td>\n",
       "      <td>1</td>\n",
       "      <td>0</td>\n",
       "      <td>0</td>\n",
       "      <td>0</td>\n",
       "      <td>0</td>\n",
       "      <td>47.416890</td>\n",
       "      <td>1</td>\n",
       "    </tr>\n",
       "    <tr>\n",
       "      <th>9999</th>\n",
       "      <td>252.624000</td>\n",
       "      <td>0</td>\n",
       "      <td>1</td>\n",
       "      <td>0</td>\n",
       "      <td>1</td>\n",
       "      <td>0</td>\n",
       "      <td>0</td>\n",
       "      <td>1</td>\n",
       "      <td>1</td>\n",
       "      <td>1</td>\n",
       "      <td>71.095600</td>\n",
       "      <td>1</td>\n",
       "    </tr>\n",
       "    <tr>\n",
       "      <th>10000</th>\n",
       "      <td>217.484000</td>\n",
       "      <td>0</td>\n",
       "      <td>1</td>\n",
       "      <td>0</td>\n",
       "      <td>1</td>\n",
       "      <td>1</td>\n",
       "      <td>1</td>\n",
       "      <td>0</td>\n",
       "      <td>0</td>\n",
       "      <td>1</td>\n",
       "      <td>63.350860</td>\n",
       "      <td>1</td>\n",
       "    </tr>\n",
       "  </tbody>\n",
       "</table>\n",
       "<p>10000 rows × 12 columns</p>\n",
       "</div>"
      ],
      "text/plain": [
       "           MonthlyCharge Churn InternetService_Fiber InternetService_DSL  \\\n",
       "CaseOrder                                                                  \n",
       "1             172.455519     0                     1                   0   \n",
       "2             242.632554     1                     1                   0   \n",
       "3             159.947583     0                     0                   1   \n",
       "4             119.956840     0                     0                   1   \n",
       "5             149.948316     1                     1                   0   \n",
       "...                  ...   ...                   ...                 ...   \n",
       "9996          159.979400     0                     0                   1   \n",
       "9997          207.481100     0                     1                   0   \n",
       "9998          169.974100     0                     1                   0   \n",
       "9999          252.624000     0                     1                   0   \n",
       "10000         217.484000     0                     1                   0   \n",
       "\n",
       "          Multiple OnlineBackup DeviceProtection TechSupport StreamingTV  \\\n",
       "CaseOrder                                                                  \n",
       "1                0            1                0           0           0   \n",
       "2                1            0                0           0           1   \n",
       "3                1            0                0           0           0   \n",
       "4                0            0                0           0           1   \n",
       "5                0            0                0           1           1   \n",
       "...            ...          ...              ...         ...         ...   \n",
       "9996             1            1                1           0           0   \n",
       "9997             1            1                1           0           1   \n",
       "9998             1            1                0           0           0   \n",
       "9999             1            0                0           1           1   \n",
       "10000            1            1                1           0           0   \n",
       "\n",
       "          StreamingMovies     Tenure  Children  \n",
       "CaseOrder                                       \n",
       "1                       1   6.795513         0  \n",
       "2                       1   1.156681         1  \n",
       "3                       1  15.754144         4  \n",
       "4                       0  17.087227         1  \n",
       "5                       0   1.670972         0  \n",
       "...                   ...        ...       ...  \n",
       "9996                    0  68.197130         3  \n",
       "9997                    0  61.040370         4  \n",
       "9998                    0  47.416890         1  \n",
       "9999                    1  71.095600         1  \n",
       "10000                   1  63.350860         1  \n",
       "\n",
       "[10000 rows x 12 columns]"
      ]
     },
     "execution_count": 13,
     "metadata": {},
     "output_type": "execute_result"
    }
   ],
   "source": [
    "df_refined = df[[\n",
    "    'MonthlyCharge',\n",
    "    \"Churn\",\n",
    "    \"InternetService_Fiber\",\n",
    "    \"InternetService_DSL\",\n",
    "    \"Multiple\",\n",
    "    \"OnlineBackup\",\n",
    "    \"DeviceProtection\",\n",
    "    \"TechSupport\",\n",
    "    \"StreamingTV\",\n",
    "    \"StreamingMovies\",\n",
    "    \"Tenure\",\n",
    "    \"Children\"]]\n",
    "df_refined  "
   ]
  },
  {
   "cell_type": "code",
   "execution_count": 14,
   "metadata": {},
   "outputs": [
    {
     "name": "stdout",
     "output_type": "stream",
     "text": [
      "x_train: (7000, 11)\n",
      "y_train: (7000,)\n",
      "x_test: (3000, 11)\n",
      "y_test: (3000,)\n"
     ]
    }
   ],
   "source": [
    "target = 'MonthlyCharge'\n",
    "Y = df_refined[target]\n",
    "X = df_refined.drop(target, axis=1) #Predictors\n",
    "split_by = df_refined['Churn']\n",
    "from sklearn.model_selection import train_test_split\n",
    "x_train, x_test, y_train, y_test = train_test_split(X, Y, test_size=0.3, random_state=42, stratify=split_by)\n",
    "print('x_train:', x_train.shape)\n",
    "print('y_train:', y_train.shape)\n",
    "print('x_test:', x_test.shape)\n",
    "print('y_test:', y_test.shape)"
   ]
  },
  {
   "cell_type": "markdown",
   "metadata": {},
   "source": [
    "## Multiple Linear Regression (Refined 1)"
   ]
  },
  {
   "cell_type": "code",
   "execution_count": 15,
   "metadata": {},
   "outputs": [
    {
     "name": "stdout",
     "output_type": "stream",
     "text": [
      "\n",
      "formula =  MonthlyCharge ~ Churn + InternetService_Fiber + InternetService_DSL + Multiple + OnlineBackup + DeviceProtection + TechSupport + StreamingTV + StreamingMovies + Tenure + Children + 0\n",
      "\n",
      "R-squared =  0.957558688008772\n",
      "R-squared adjusted =  0.9574918799904687\n",
      "MSE =  78.0491080924219\n",
      "RSE =  77.93757750069229\n",
      "MRSE =  8.826964915609802\n",
      "RSE =  8.834540627130643\n",
      "\n",
      "Model summary saved on model_summary.txt\n"
     ]
    }
   ],
   "source": [
    "model_columns = X.columns\n",
    "train_df = x_train.join(y_train)\n",
    "linearRegression_obj.multiple_linear_regression(target, model_columns, train_df)"
   ]
  },
  {
   "cell_type": "code",
   "execution_count": 16,
   "metadata": {},
   "outputs": [
    {
     "data": {
      "image/png": "[encoded data removed]",
      "text/plain": [
       "<Figure size 1440x576 with 1 Axes>"
      ]
     },
     "metadata": {
      "needs_background": "light"
     },
     "output_type": "display_data"
    }
   ],
   "source": [
    "x = x_train\n",
    "y = y_train\n",
    "candidates_columns = model_columns\n",
    "linearRegression_obj.lasso_for_feature(x, y, candidates_columns)"
   ]
  },
  {
   "cell_type": "markdown",
   "metadata": {},
   "source": [
    "### Removing features to observe if model improves"
   ]
  },
  {
   "cell_type": "markdown",
   "metadata": {},
   "source": [
    "R-squared (Coefficient of deternination): How well the linear regression line fits the observed values [0-1] (larger is better)\n",
    "The difference between predicted and observed values is typically about RSE#"
   ]
  },
  {
   "cell_type": "code",
   "execution_count": 17,
   "metadata": {},
   "outputs": [
    {
     "name": "stdout",
     "output_type": "stream",
     "text": [
      "x_train: (7000, 10)\n",
      "y_train: (7000,)\n",
      "x_test: (3000, 10)\n",
      "y_test: (3000,)\n",
      "\n",
      "formula =  MonthlyCharge ~ InternetService_Fiber + InternetService_DSL + Multiple + OnlineBackup + DeviceProtection + TechSupport + StreamingTV + StreamingMovies + 0\n",
      "\n",
      "R-squared =  0.9569009620938922\n",
      "R-squared adjusted =  0.9568516426398443\n",
      "MSE =  78.93369776640088\n",
      "RSE =  78.85474150970437\n",
      "MRSE =  8.878750564328223\n",
      "RSE =  8.884463842371181\n",
      "\n",
      "Model summary saved on model_summary.txt\n"
     ]
    }
   ],
   "source": [
    "df_refined_2 = df[[\n",
    "    'MonthlyCharge',\n",
    "    \"Churn\",\n",
    "    \"InternetService_Fiber\",\n",
    "    \"InternetService_DSL\",\n",
    "    \"Multiple\",\n",
    "    \"OnlineBackup\",\n",
    "    \"DeviceProtection\",\n",
    "    \"TechSupport\",\n",
    "    \"StreamingTV\",\n",
    "    \"StreamingMovies\",\n",
    "    \"Tenure\"\n",
    "    ]]\n",
    "df_refined_2 \n",
    "\n",
    "target = 'MonthlyCharge'\n",
    "Y = df_refined_2[target]\n",
    "X = df_refined_2.drop(target, axis=1) #Predictors\n",
    "from sklearn.model_selection import train_test_split\n",
    "x_train, x_test, y_train, y_test = train_test_split(X, Y, test_size=0.3, random_state=42)\n",
    "print('x_train:', x_train.shape)\n",
    "print('y_train:', y_train.shape)\n",
    "print('x_test:', x_test.shape)\n",
    "print('y_test:', y_test.shape)\n",
    "\n",
    "formula =  \"MonthlyCharge ~ InternetService_Fiber + InternetService_DSL + Multiple + OnlineBackup + DeviceProtection + TechSupport + StreamingTV + StreamingMovies + 0\"\n",
    "train_df = x_train.join(y_train)\n",
    "linearRegression_obj.multiple_linear_regression_by_formula(formula, train_df)"
   ]
  },
  {
   "cell_type": "code",
   "execution_count": 18,
   "metadata": {},
   "outputs": [
    {
     "data": {
      "image/png": "[encoded data removed]",
      "text/plain": [
       "<Figure size 1440x576 with 1 Axes>"
      ]
     },
     "metadata": {
      "needs_background": "light"
     },
     "output_type": "display_data"
    }
   ],
   "source": [
    "x = x_train\n",
    "y = y_train\n",
    "candidates_columns = X.columns\n",
    "linearRegression_obj.lasso_for_feature(x, y, candidates_columns)"
   ]
  },
  {
   "cell_type": "markdown",
   "metadata": {},
   "source": [
    "## Correlations"
   ]
  },
  {
   "cell_type": "code",
   "execution_count": 21,
   "metadata": {},
   "outputs": [
    {
     "name": "stdout",
     "output_type": "stream",
     "text": [
      "Scatterplot init\n"
     ]
    },
    {
     "data": {
      "image/png": "[encoded data removed]",
      "text/plain": [
       "<Figure size 720x432 with 1 Axes>"
      ]
     },
     "metadata": {
      "needs_background": "light"
     },
     "output_type": "display_data"
    },
    {
     "data": {
      "text/html": [
       "<div>\n",
       "<style scoped>\n",
       "    .dataframe tbody tr th:only-of-type {\n",
       "        vertical-align: middle;\n",
       "    }\n",
       "\n",
       "    .dataframe tbody tr th {\n",
       "        vertical-align: top;\n",
       "    }\n",
       "\n",
       "    .dataframe thead th {\n",
       "        text-align: right;\n",
       "    }\n",
       "</style>\n",
       "<table border=\"1\" class=\"dataframe\">\n",
       "  <thead>\n",
       "    <tr style=\"text-align: right;\">\n",
       "      <th></th>\n",
       "      <th>MonthlyCharge</th>\n",
       "      <th>Tenure</th>\n",
       "    </tr>\n",
       "  </thead>\n",
       "  <tbody>\n",
       "    <tr>\n",
       "      <th>MonthlyCharge</th>\n",
       "      <td>1.000000</td>\n",
       "      <td>-0.003337</td>\n",
       "    </tr>\n",
       "    <tr>\n",
       "      <th>Tenure</th>\n",
       "      <td>-0.003337</td>\n",
       "      <td>1.000000</td>\n",
       "    </tr>\n",
       "  </tbody>\n",
       "</table>\n",
       "</div>"
      ],
      "text/plain": [
       "               MonthlyCharge    Tenure\n",
       "MonthlyCharge       1.000000 -0.003337\n",
       "Tenure             -0.003337  1.000000"
      ]
     },
     "execution_count": 21,
     "metadata": {},
     "output_type": "execute_result"
    },
    {
     "data": {
      "text/plain": [
       "<Figure size 432x288 with 0 Axes>"
      ]
     },
     "metadata": {},
     "output_type": "display_data"
    }
   ],
   "source": [
    "import Graphs.MyScatterplot as scatter\n",
    "scatterplot_obj = scatter.Scatterplot()\n",
    "scatterplot_obj.show_graph(df, \"Tenure\", \"MonthlyCharge\")\n",
    "\n",
    "continuous_variables = df[[\n",
    "    \"MonthlyCharge\",\n",
    "    \"Tenure\",\n",
    "    ]]\n",
    "continuous_variables.corr()"
   ]
  },
  {
   "cell_type": "markdown",
   "metadata": {},
   "source": [
    "### The independent variables Tenure is not correlated with the dependent variable MonthlyCharge"
   ]
  },
  {
   "cell_type": "markdown",
   "metadata": {},
   "source": [
    "## Predict"
   ]
  },
  {
   "cell_type": "code",
   "execution_count": 22,
   "metadata": {},
   "outputs": [
    {
     "name": "stdout",
     "output_type": "stream",
     "text": [
      "CaseOrder\n",
      "6253    146.761270\n",
      "4685    256.941944\n",
      "1732    234.394652\n",
      "4743    109.892709\n",
      "4522    156.984564\n",
      "           ...    \n",
      "8015    169.756142\n",
      "1075    179.262561\n",
      "3064    179.364439\n",
      "6488    146.675267\n",
      "4706    191.949594\n",
      "Length: 3000, dtype: float64\n"
     ]
    }
   ],
   "source": [
    "\n",
    "# explanatory_data = x_test\n",
    "y_predicted = linearRegression_obj._model.predict(x_test)\n",
    "print(y_predicted)\n",
    "\n",
    "# test_data = x_test.assign(prediction=y_predicted)\n",
    "# print(test_data)"
   ]
  },
  {
   "cell_type": "markdown",
   "metadata": {},
   "source": [
    "## Residuals\n",
    "ε → Residuals or Error term"
   ]
  },
  {
   "cell_type": "code",
   "execution_count": 23,
   "metadata": {},
   "outputs": [
    {
     "name": "stdout",
     "output_type": "stream",
     "text": [
      "Max: 11.159817423915314\n",
      "Min: -9.968284714959452\n",
      "Mean: 0.11\n",
      "Median: -6.59\n",
      "Mode: [-9.41973869]\n",
      "Variance: 79.11\n",
      "St. Dev: 8.89\n"
     ]
    },
    {
     "data": {
      "text/plain": [
       "Text(0.5, 1.0, 'Residual Plot')"
      ]
     },
     "execution_count": 23,
     "metadata": {},
     "output_type": "execute_result"
    },
    {
     "data": {
      "image/png": "[encoded data removed]",
      "text/plain": [
       "<Figure size 432x288 with 1 Axes>"
      ]
     },
     "metadata": {
      "needs_background": "light"
     },
     "output_type": "display_data"
    }
   ],
   "source": [
    "import seaborn as sns\n",
    "import matplotlib.pyplot as plt \n",
    "\n",
    "residuals = y_test - y_predicted\n",
    "\n",
    "summaryStatistics_obj.get_series_summary(residuals)\n",
    "\n",
    "sns.residplot(x=y_predicted, y=residuals, lowess=True, color='darkorange')\n",
    "plt.xlabel(\"Fitted values\")\n",
    "plt.ylabel(\"Residuals\")\n",
    "plt.title(\"Residual Plot\")\n"
   ]
  },
  {
   "cell_type": "markdown",
   "metadata": {},
   "source": [
    "From the above residual plot, we could infer that the residuals form a pattern. So, the residuals are not independent of each other.\n",
    "\n",
    "And also, the residuals do not have a constant variance. Variance seem to increase/decrease with the y_predict value.\n",
    "\n",
    "https://medium.com/mlearning-ai/everything-to-know-about-residuals-in-linear-regression-42747d419266"
   ]
  },
  {
   "cell_type": "markdown",
   "metadata": {},
   "source": [
    "## Q-Q plot → quantile-quantile plot\n",
    "To check whether the residuals are normally distributed from Q-Q plot,distplot\n",
    "\n",
    "If the residuals are normally distributed, then the Q-Q plot of residuals will be a straight line\n"
   ]
  },
  {
   "cell_type": "code",
   "execution_count": 24,
   "metadata": {},
   "outputs": [
    {
     "data": {
      "text/plain": [
       "Text(0.5, 1.0, 'qqplot')"
      ]
     },
     "execution_count": 24,
     "metadata": {},
     "output_type": "execute_result"
    },
    {
     "data": {
      "image/png": "[encoded data removed]",
      "text/plain": [
       "<Figure size 432x288 with 1 Axes>"
      ]
     },
     "metadata": {
      "needs_background": "light"
     },
     "output_type": "display_data"
    }
   ],
   "source": [
    "from scipy import stats\n",
    "import statsmodels.api as sm\n",
    "\n",
    "residual = linearRegression_obj._model.resid\n",
    "\n",
    "probplot=sm.ProbPlot(residual,stats.norm,fit=True)\n",
    "fig=probplot.qqplot(line='45')\n",
    "plt.title('qqplot')"
   ]
  },
  {
   "cell_type": "markdown",
   "metadata": {},
   "source": [
    "# Scale-location plot"
   ]
  },
  {
   "cell_type": "code",
   "execution_count": 25,
   "metadata": {},
   "outputs": [
    {
     "data": {
      "text/plain": [
       "Text(0, 0.5, 'Sqrt of abs val of stdzed residuals')"
      ]
     },
     "execution_count": 25,
     "metadata": {},
     "output_type": "execute_result"
    },
    {
     "data": {
      "image/png": "[encoded data removed]",
      "text/plain": [
       "<Figure size 432x288 with 1 Axes>"
      ]
     },
     "metadata": {
      "needs_background": "light"
     },
     "output_type": "display_data"
    }
   ],
   "source": [
    "import numpy as np\n",
    "model = linearRegression_obj._model\n",
    "# Extract normalized residuals from the model\n",
    "model_norm_residuals = model.get_influence().resid_studentized_internal\n",
    "# Square roo of the absolute value to standardize them\n",
    "model_norm_residuals_abs_sqrt = np.sqrt(np.abs(model_norm_residuals))\n",
    "sns.regplot(x=model.fittedvalues, y=model_norm_residuals_abs_sqrt, ci=None, lowess=True)\n",
    "plt.xlabel(\"Fitted values\")\n",
    "plt.ylabel(\"Sqrt of abs val of stdzed residuals\")"
   ]
  },
  {
   "cell_type": "code",
   "execution_count": 26,
   "metadata": {},
   "outputs": [
    {
     "name": "stderr",
     "output_type": "stream",
     "text": [
      "/Users/dayanaviana/opt/anaconda3/lib/python3.8/site-packages/seaborn/distributions.py:2557: FutureWarning: `distplot` is a deprecated function and will be removed in a future version. Please adapt your code to use either `displot` (a figure-level function with similar flexibility) or `histplot` (an axes-level function for histograms).\n",
      "  warnings.warn(msg, FutureWarning)\n"
     ]
    },
    {
     "data": {
      "text/plain": [
       "<AxesSubplot:ylabel='Density'>"
      ]
     },
     "execution_count": 26,
     "metadata": {},
     "output_type": "execute_result"
    },
    {
     "data": {
      "image/png": "[encoded data removed]",
      "text/plain": [
       "<Figure size 432x288 with 1 Axes>"
      ]
     },
     "metadata": {
      "needs_background": "light"
     },
     "output_type": "display_data"
    }
   ],
   "source": [
    "sns.distplot(residual,color='darkorange')\n"
   ]
  }
 ],
 "metadata": {
  "interpreter": {
   "hash": "59a567c1ad30066296faa170cba2decc783c48aa8e2893eb4e12e8ad966ca860"
  },
  "kernelspec": {
   "display_name": "Python 3.8.8 ('base')",
   "language": "python",
   "name": "python3"
  },
  "language_info": {
   "codemirror_mode": {
    "name": "ipython",
    "version": 3
   },
   "file_extension": ".py",
   "mimetype": "text/x-python",
   "name": "python",
   "nbconvert_exporter": "python",
   "pygments_lexer": "ipython3",
   "version": "3.8.8"
  },
  "orig_nbformat": 4
 },
 "nbformat": 4,
 "nbformat_minor": 2
}
