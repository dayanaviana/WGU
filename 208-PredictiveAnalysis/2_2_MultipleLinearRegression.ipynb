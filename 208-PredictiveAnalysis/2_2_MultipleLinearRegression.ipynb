{
  "nbformat": 4,
  "nbformat_minor": 0,
  "metadata": {
    "colab": {
      "name": "2.2-MultipleLinearRegression.ipynb",
      "provenance": [],
      "authorship_tag": "ABX9TyOJ7bxU+fPPyBDndhO5gN0q",
      "include_colab_link": true
    },
    "kernelspec": {
      "name": "python3",
      "display_name": "Python 3"
    },
    "language_info": {
      "name": "python"
    }
  },
  "cells": [
    {
      "cell_type": "markdown",
      "metadata": {
        "id": "view-in-github",
        "colab_type": "text"
      },
      "source": [
        "<a href=\"https://colab.research.google.com/github/dayanaviana/WGU/blob/main/208-PredictiveAnalysis/2_2_MultipleLinearRegression.ipynb\" target=\"_parent\"><img src=\"https://colab.research.google.com/assets/colab-badge.svg\" alt=\"Open In Colab\"/></a>"
      ]
    },
    {
      "cell_type": "markdown",
      "source": [
        "#Import Data"
      ],
      "metadata": {
        "id": "-oOA42jnHYu6"
      }
    },
    {
      "cell_type": "code",
      "execution_count": null,
      "metadata": {
        "id": "1Mt-0Yn10ZIS"
      },
      "outputs": [],
      "source": [
        "import pandas as pd\n",
        "\n",
        "# import into data frame\n",
        "churn_data = \"https://raw.githubusercontent.com/dayanaviana/WGU/main/datasources/medical_clean.csv\"\n",
        "df = pd.read_csv(churn_data, index_col=0)"
      ]
    },
    {
      "cell_type": "markdown",
      "source": [
        "# Sample data"
      ],
      "metadata": {
        "id": "cTvFyuVU6zOp"
      }
    },
    {
      "cell_type": "code",
      "source": [
        "import numpy as np\n",
        "\n",
        "rows = 1000\n",
        "sample_data = df.sample(n=rows, random_state=42)\n",
        "print(sample_data.head())\n",
        "\n",
        "# Syntax:\n",
        "# DataFrame.sample(n=None, frac=None, replace=False, weights=None, random_state=None, axis=None)\n",
        "# Parameters:\n",
        "# n: int value, Number of random rows to generate.\n",
        "# frac: Float value, Returns (float value * length of data frame values ). frac cannot be used with n.\n",
        "# replace: Boolean value, return sample with replacement if True.\n",
        "# random_state: int value or numpy.random.RandomState, optional. if set to a particular integer, will return same rows as sample in every iteration.\n",
        "# axis: 0 or ‘row’ for Rows and 1 or ‘column’ for Columns."
      ],
      "metadata": {
        "colab": {
          "base_uri": "https://localhost:8080/"
        },
        "id": "h_sFSlky62GV",
        "outputId": "0700fbcf-1178-45cd-f339-119525f83992"
      },
      "execution_count": null,
      "outputs": [
        {
          "output_type": "stream",
          "name": "stdout",
          "text": [
            "          Customer_id                           Interaction  \\\n",
            "CaseOrder                                                     \n",
            "6253          N439637  e81f3a15-1a3a-49c4-8c5f-5e7f37447adf   \n",
            "4685          Q745749  ba1da84d-7e57-4b73-ab4d-298da6413a20   \n",
            "1732          V140884  522bafc8-ebc1-4f6e-b3fb-e433e09fff9a   \n",
            "4743          D152136  a6d819d3-6887-4725-8dbb-0ce5abbcf43d   \n",
            "4522          S850904  5ffc9f88-fe8c-496e-bd22-9c1278e26421   \n",
            "\n",
            "                                        UID                    City State  \\\n",
            "CaseOrder                                                                   \n",
            "6253       368c94387acfc235fe1c676de0661c2c                 Colbert    GA   \n",
            "4685       7eb41e8c5f8545f0e428433a9cfcccdd              Burlington    CO   \n",
            "1732       17db10486803f0ebebd061f3afbb0d38                   Ogden    KS   \n",
            "4743       03a34b0467987c1d5b699c0a6486ce38  Port Jefferson Station    NY   \n",
            "4522       5bd73a29950ae993538f6fb4800a21d9             Southbridge    MA   \n",
            "\n",
            "               County    Zip       Lat        Lng  Population  ...  \\\n",
            "CaseOrder                                                      ...   \n",
            "6253          Madison  30628  34.02972  -83.21264        6874  ...   \n",
            "4685       Kit Carson  80807  39.31882 -102.22605        5112  ...   \n",
            "1732            Riley  66517  39.11263  -96.70688        1745  ...   \n",
            "4743          Suffolk  11776  40.91361  -73.04636       24666  ...   \n",
            "4522        Worcester   1550  42.06039  -72.03377       16894  ...   \n",
            "\n",
            "           TotalCharge Additional_charges Item1  Item2  Item3  Item4 Item5  \\\n",
            "CaseOrder                                                                    \n",
            "6253       6060.700000        11244.22000     3      2      3      2     5   \n",
            "4685       3255.814455        18972.97875     4      3      4      4     4   \n",
            "1732       2844.703206        24921.47443     1      2      2      4     4   \n",
            "4743       3133.944906        24726.85707     4      3      4      3     3   \n",
            "4522       4125.009552         9005.51169     4      4      4      3     6   \n",
            "\n",
            "          Item6 Item7  Item8  \n",
            "CaseOrder                     \n",
            "6253          3     3      3  \n",
            "4685          4     3      3  \n",
            "1732          1     3      1  \n",
            "4743          4     4      3  \n",
            "4522          4     3      5  \n",
            "\n",
            "[5 rows x 49 columns]\n"
          ]
        }
      ]
    },
    {
      "cell_type": "code",
      "source": [
        "df.dtypes"
      ],
      "metadata": {
        "colab": {
          "base_uri": "https://localhost:8080/"
        },
        "id": "PAWkJh1fcthA",
        "outputId": "f8d3ae27-817d-4fe6-e82f-d20787b8a953"
      },
      "execution_count": null,
      "outputs": [
        {
          "output_type": "execute_result",
          "data": {
            "text/plain": [
              "Customer_id              object\n",
              "Interaction              object\n",
              "UID                      object\n",
              "City                     object\n",
              "State                    object\n",
              "County                   object\n",
              "Zip                       int64\n",
              "Lat                     float64\n",
              "Lng                     float64\n",
              "Population                int64\n",
              "Area                     object\n",
              "TimeZone                 object\n",
              "Job                      object\n",
              "Children                  int64\n",
              "Age                       int64\n",
              "Income                  float64\n",
              "Marital                  object\n",
              "Gender                   object\n",
              "Churn                    object\n",
              "Outage_sec_perweek      float64\n",
              "Email                     int64\n",
              "Contacts                  int64\n",
              "Yearly_equip_failure      int64\n",
              "Techie                   object\n",
              "Contract                 object\n",
              "Port_modem               object\n",
              "Tablet                   object\n",
              "InternetService          object\n",
              "Phone                    object\n",
              "Multiple                 object\n",
              "OnlineSecurity           object\n",
              "OnlineBackup             object\n",
              "DeviceProtection         object\n",
              "TechSupport              object\n",
              "StreamingTV              object\n",
              "StreamingMovies          object\n",
              "PaperlessBilling         object\n",
              "PaymentMethod            object\n",
              "Tenure                  float64\n",
              "MonthlyCharge           float64\n",
              "Bandwidth_GB_Year       float64\n",
              "Item1                     int64\n",
              "Item2                     int64\n",
              "Item3                     int64\n",
              "Item4                     int64\n",
              "Item5                     int64\n",
              "Item6                     int64\n",
              "Item7                     int64\n",
              "Item8                     int64\n",
              "dtype: object"
            ]
          },
          "metadata": {},
          "execution_count": 4
        }
      ]
    },
    {
      "cell_type": "markdown",
      "source": [
        "#Multiple Linear Regression\n"
      ],
      "metadata": {
        "id": "trN5molt1Q3X"
      }
    },
    {
      "cell_type": "code",
      "source": [
        "import matplotlib.pyplot as plt\n",
        "import seaborn as sns\n",
        "from statsmodels.formula.api import ols\n",
        "\n",
        "predictor_columns = [\n",
        "  \"Income\",\n",
        "  \"VitD_levels\",\n",
        "  \"Initial_days\",\n",
        "  # \"TotalCharge\",\n",
        "  \"Additional_charges\",\n",
        "  \"Population\",\n",
        "  \"Children\",\n",
        "  \"Age\",\n",
        "  \"Doc_visits\",\n",
        "  \"Full_meals_eaten\",\n",
        "  \"vitD_supp\",\n",
        "]\n",
        "\n",
        "y_target = \"TotalCharge\"\n",
        "x_predictors = \"\" # explanatory variables\n",
        "\n",
        "for column_name in predictor_columns:\n",
        "  x_predictors += column_name + \" + \"\n",
        "x_predictors = x_predictors[:-3] \n",
        "\n",
        "#Running a linear regression model\n",
        "# y = intercept + slope * x\n",
        "formula = y_target + \" ~ \" + x_predictors + \" + 0\" # +0 does not include a global interceptor\n",
        "print(\"Formula = \", formula)\n",
        "model = ols(formula, data=sample_data).fit()\n",
        "\n",
        "print(\"\\n\")\n",
        "\n",
        "print(\"Model =\\n\", model.params)\n",
        "# intercept, slope = model.params\n",
        "\n",
        "print(\"\\n\")\n",
        "\n",
        "# Coefficient of deternination: \n",
        "# How well the linear regression line fits the observed values (larger is better)\n",
        "print(\"R-squared = \", model.rsquared)\n",
        "\n",
        "# Adjusted coefficient of determination\n",
        "# Adds penalty when more predictors are added\n",
        "print(\"R-squared adjusted = \", model.rsquared_adj)\n",
        "\n",
        "# Mean squared error\n",
        "print(\"MSE = \", model.mse_resid)\n",
        "\n",
        "# Residual standard error:\n",
        "# The tipical sie of the residuals (smaller is better)\n",
        "sum_residuals_sq = sum(model.resid**2)#model.resid**2\n",
        "df = len(sample_data)-2\n",
        "print(\"RSE = \", sum_residuals_sq/df)#sum of residuals squared\n",
        "print(\"MRSE = \", np.sqrt(sum_residuals_sq/len(sample_data)))\n",
        "\n",
        "print(\"RSE = \", np.sqrt(model.mse_resid))\n",
        "# We typically get the X wrong by about RSE_number\n"
      ],
      "metadata": {
        "colab": {
          "base_uri": "https://localhost:8080/"
        },
        "id": "1rkdpZ6QZ8Sa",
        "outputId": "27df66cb-7b80-48fc-a44c-095743f520b9"
      },
      "execution_count": null,
      "outputs": [
        {
          "output_type": "stream",
          "name": "stderr",
          "text": [
            "/usr/local/lib/python3.7/dist-packages/statsmodels/tools/_testing.py:19: FutureWarning: pandas.util.testing is deprecated. Use the functions in the public API at pandas.testing instead.\n",
            "  import pandas.util.testing as tm\n"
          ]
        },
        {
          "output_type": "stream",
          "name": "stdout",
          "text": [
            "Formula =  TotalCharge ~ Income + VitD_levels + Initial_days + Additional_charges + Population + Children + Age + Doc_visits + Full_meals_eaten + vitD_supp + 0\n",
            "\n",
            "\n",
            "Model =\n",
            " Income                 0.001100\n",
            "VitD_levels           97.432674\n",
            "Initial_days          82.919214\n",
            "Additional_charges     0.016766\n",
            "Population             0.001858\n",
            "Children              11.702624\n",
            "Age                   -1.517244\n",
            "Doc_visits            84.302922\n",
            "Full_meals_eaten       7.971857\n",
            "vitD_supp             30.070422\n",
            "dtype: float64\n",
            "\n",
            "\n",
            "R-squared =  0.9951361751266842\n",
            "R-squared adjusted =  0.9950870455825093\n",
            "MSE =  163976.46477662819\n",
            "RSE =  162662.02417721626\n",
            "MRSE =  402.9102879412014\n",
            "RSE =  404.9400755378852\n"
          ]
        }
      ]
    },
    {
      "cell_type": "markdown",
      "source": [
        "# 2nd Run"
      ],
      "metadata": {
        "id": "BEEv8k7TGB1Z"
      }
    },
    {
      "cell_type": "code",
      "source": [
        "import matplotlib.pyplot as plt\n",
        "import seaborn as sns\n",
        "from statsmodels.formula.api import ols\n",
        "\n",
        "predictors_columns = [\n",
        "  # \"Income\",\n",
        "  \"VitD_levels\",\n",
        "  \"Initial_days\",\n",
        "  # \"TotalCharge\",\n",
        "  # \"Additional_charges\",\n",
        "  # \"Population\",\n",
        "  \"Children\",\n",
        "  # \"Age\",\n",
        "  \"Doc_visits\",\n",
        "  \"Full_meals_eaten\",\n",
        "  \"vitD_supp\",\n",
        "]\n",
        "\n",
        "y_target = \"TotalCharge\"\n",
        "x_predictors = \"\" # explanatory variables\n",
        "\n",
        "for column_name in predictors_columns:\n",
        "  x_predictors += column_name + \" + \"\n",
        "x_predictors = x_predictors[:-3] # Removes last 3 charactheres from string\n",
        "\n",
        "#Running a linear regression model\n",
        "# y = intercept + slope * x\n",
        "formula = y_target + \" ~ \" + x_predictors + \" + 0\" # +0 does not include a global interceptor\n",
        "print(\"Formula = \", formula)\n",
        "model = ols(formula, data=sample_data).fit()\n",
        "\n",
        "print(\"\\n\")\n",
        "\n",
        "print(\"Model =\\n\", model.params)\n",
        "# intercept, slope = model.params\n",
        "\n",
        "print(\"\\n\")\n",
        "\n",
        "# Coefficient of deternination: \n",
        "# How well the linear regression line fits the observed values (larger is better)\n",
        "print(\"R-squared = \", model.rsquared)\n",
        "\n",
        "# Adjusted coefficient of determination\n",
        "# Adds penalty when more predictors are added\n",
        "print(\"R-squared adjusted = \", model.rsquared_adj)\n",
        "\n",
        "# Mean squared error\n",
        "print(\"MSE = \", model.mse_resid)\n",
        "\n",
        "# Residual standard error:\n",
        "# The tipical sie of the residuals (smaller is better)\n",
        "sum_residuals_sq = sum(model.resid**2)#model.resid**2\n",
        "df = len(sample_data)-2\n",
        "print(\"RSE = \", sum_residuals_sq/df)#sum of residuals squared\n",
        "print(\"MRSE = \", np.sqrt(sum_residuals_sq/len(sample_data)))\n",
        "\n",
        "print(\"RSE = \", np.sqrt(model.mse_resid))\n",
        "# We typically get the X wrong by about RSE_number\n"
      ],
      "metadata": {
        "colab": {
          "base_uri": "https://localhost:8080/"
        },
        "id": "O-7Xgl5vF8Xt",
        "outputId": "76b80484-0f6d-47d8-9801-6ddb0f3562ed"
      },
      "execution_count": null,
      "outputs": [
        {
          "output_type": "stream",
          "name": "stdout",
          "text": [
            "Formula =  TotalCharge ~ VitD_levels + Initial_days + Children + Doc_visits + Full_meals_eaten + vitD_supp + 0\n",
            "\n",
            "\n",
            "Model =\n",
            " VitD_levels         104.905911\n",
            "Initial_days         83.250626\n",
            "Children             10.684961\n",
            "Doc_visits           95.245288\n",
            "Full_meals_eaten      8.613218\n",
            "vitD_supp            31.443497\n",
            "dtype: float64\n",
            "\n",
            "\n",
            "R-squared =  0.9948542390682067\n",
            "R-squared adjusted =  0.9948231781370289\n",
            "MSE =  172783.3958414633\n",
            "RSE =  172090.87722085623\n",
            "MRSE =  414.42332881537266\n",
            "RSE =  415.67222163799124\n"
          ]
        }
      ]
    },
    {
      "cell_type": "markdown",
      "source": [
        "# 3rd Run"
      ],
      "metadata": {
        "id": "y4mD_nstH2Nx"
      }
    },
    {
      "cell_type": "code",
      "source": [
        "import matplotlib.pyplot as plt\n",
        "import seaborn as sns\n",
        "from statsmodels.formula.api import ols\n",
        "\n",
        "predictors_columns = [\n",
        "  # \"Income\",\n",
        "  \"VitD_levels\",\n",
        "  \"Initial_days\",\n",
        "  # \"TotalCharge\",\n",
        "  # \"Additional_charges\",\n",
        "  # \"Population\",\n",
        "  # \"Children\",\n",
        "  # \"Age\",\n",
        "  \"Doc_visits\",\n",
        "  # \"Full_meals_eaten\",\n",
        "  \"vitD_supp\",\n",
        "]\n",
        "\n",
        "y_target = \"TotalCharge\"\n",
        "x_predictors = \"\" # explanatory variables\n",
        "\n",
        "for column_name in predictors_columns:\n",
        "  x_predictors += column_name + \" + \"\n",
        "x_predictors = x_predictors[:-3] # Removes last 3 charactheres from string\n",
        "\n",
        "#Running a linear regression model\n",
        "# y = intercept + slope * x\n",
        "formula = y_target + \" ~ \" + x_predictors + \" + 0\" # +0 does not include a global interceptor\n",
        "print(\"Formula = \", formula)\n",
        "model = ols(formula, data=sample_data).fit()\n",
        "\n",
        "print(\"\\n\")\n",
        "\n",
        "print(\"Model =\\n\", model.params)\n",
        "# intercept, slope = model.params\n",
        "\n",
        "print(\"\\n\")\n",
        "\n",
        "# Coefficient of deternination: \n",
        "# How well the linear regression line fits the observed values (larger is better)\n",
        "print(\"R-squared = \", model.rsquared)\n",
        "\n",
        "# Adjusted coefficient of determination\n",
        "# Adds penalty when more predictors are added\n",
        "print(\"R-squared adjusted = \", model.rsquared_adj)\n",
        "\n",
        "# Mean squared error\n",
        "print(\"MSE = \", model.mse_resid)\n",
        "\n",
        "# Residual standard error:\n",
        "# The tipical sie of the residuals (smaller is better)\n",
        "sum_residuals_sq = sum(model.resid**2)#model.resid**2\n",
        "df = len(sample_data)-2\n",
        "print(\"RSE = \", sum_residuals_sq/df)#sum of residuals squared\n",
        "print(\"MRSE = \", np.sqrt(sum_residuals_sq/len(sample_data)))\n",
        "\n",
        "print(\"RSE = \", np.sqrt(model.mse_resid))\n",
        "# We typically get the X wrong by about RSE_number\n"
      ],
      "metadata": {
        "colab": {
          "base_uri": "https://localhost:8080/"
        },
        "id": "ZveuJ3jdPdiT",
        "outputId": "3748abea-0d3b-49ac-cbbd-19dffa98d646"
      },
      "execution_count": null,
      "outputs": [
        {
          "output_type": "stream",
          "name": "stdout",
          "text": [
            "Formula =  TotalCharge ~ VitD_levels + Initial_days + Doc_visits + vitD_supp + 0\n",
            "\n",
            "\n",
            "Model =\n",
            " VitD_levels     106.181274\n",
            "Initial_days     83.307484\n",
            "Doc_visits       96.468035\n",
            "vitD_supp        31.545293\n",
            "dtype: float64\n",
            "\n",
            "\n",
            "R-squared =  0.9948348056819032\n",
            "R-squared adjusted =  0.9948140619296216\n",
            "MSE =  173087.66153085718\n",
            "RSE =  172740.79246967318\n",
            "MRSE =  415.2051431337693\n",
            "RSE =  416.03805298416773\n"
          ]
        }
      ]
    },
    {
      "cell_type": "markdown",
      "source": [
        "# Testing Model\n",
        "\n"
      ],
      "metadata": {
        "id": "ePGsMDwuQzeS"
      }
    },
    {
      "cell_type": "code",
      "source": [
        "model.predict()"
      ],
      "metadata": {
        "id": "F-tWH_IDQ19q"
      },
      "execution_count": null,
      "outputs": []
    }
  ]
}