{
  "nbformat": 4,
  "nbformat_minor": 0,
  "metadata": {
    "colab": {
      "name": "1.2-MultipleLinearRegression.ipynb",
      "provenance": [],
      "authorship_tag": "ABX9TyPE6cXB1yK+dcqKF+B3y/Q4",
      "include_colab_link": true
    },
    "kernelspec": {
      "name": "python3",
      "display_name": "Python 3"
    },
    "language_info": {
      "name": "python"
    }
  },
  "cells": [
    {
      "cell_type": "markdown",
      "metadata": {
        "id": "view-in-github",
        "colab_type": "text"
      },
      "source": [
        "<a href=\"https://colab.research.google.com/github/dayanaviana/WGU/blob/main/208-PredictiveAnalysis/1_2_MultipleLinearRegression.ipynb\" target=\"_parent\"><img src=\"https://colab.research.google.com/assets/colab-badge.svg\" alt=\"Open In Colab\"/></a>"
      ]
    },
    {
      "cell_type": "markdown",
      "source": [
        "#Import Data"
      ],
      "metadata": {
        "id": "-oOA42jnHYu6"
      }
    },
    {
      "cell_type": "code",
      "execution_count": null,
      "metadata": {
        "colab": {
          "base_uri": "https://localhost:8080/"
        },
        "id": "1Mt-0Yn10ZIS",
        "outputId": "88833a76-ffb3-4b6a-e46b-7f452f59605a"
      },
      "outputs": [
        {
          "output_type": "stream",
          "name": "stdout",
          "text": [
            "          Customer_id                           Interaction  \\\n",
            "CaseOrder                                                     \n",
            "1             K409198  aa90260b-4141-4a24-8e36-b04ce1f4f77b   \n",
            "2             S120509  fb76459f-c047-4a9d-8af9-e0f7d4ac2524   \n",
            "3             K191035  344d114c-3736-4be5-98f7-c72c281e2d35   \n",
            "4              D90850  abfa2b40-2d43-4994-b15a-989b8c79e311   \n",
            "5             K662701  68a861fd-0d20-4e51-a587-8a90407ee574   \n",
            "\n",
            "                                        UID         City State  \\\n",
            "CaseOrder                                                        \n",
            "1          e885b299883d4f9fb18e39c75155d990  Point Baker    AK   \n",
            "2          f2de8bef964785f41a2959829830fb8a  West Branch    MI   \n",
            "3          f1784cfa9f6d92ae816197eb175d3c71      Yamhill    OR   \n",
            "4          dc8a365077241bb5cd5ccd305136b05e      Del Mar    CA   \n",
            "5          aabb64a116e83fdc4befc1fbab1663f9    Needville    TX   \n",
            "\n",
            "                          County    Zip       Lat        Lng  Population  ...  \\\n",
            "CaseOrder                                                                 ...   \n",
            "1          Prince of Wales-Hyder  99927  56.25100 -133.37571          38  ...   \n",
            "2                         Ogemaw  48661  44.32893  -84.24080       10446  ...   \n",
            "3                        Yamhill  97148  45.35589 -123.24657        3735  ...   \n",
            "4                      San Diego  92014  32.96687 -117.24798       13863  ...   \n",
            "5                      Fort Bend  77461  29.38012  -95.80673       11352  ...   \n",
            "\n",
            "          MonthlyCharge Bandwidth_GB_Year Item1  Item2  Item3  Item4 Item5  \\\n",
            "CaseOrder                                                                    \n",
            "1            172.455519        904.536110     5      5      5      3     4   \n",
            "2            242.632554        800.982766     3      4      3      3     4   \n",
            "3            159.947583       2054.706961     4      4      2      4     4   \n",
            "4            119.956840       2164.579412     4      4      4      2     5   \n",
            "5            149.948316        271.493436     4      4      4      3     4   \n",
            "\n",
            "          Item6 Item7  Item8  \n",
            "CaseOrder                     \n",
            "1             4     3      4  \n",
            "2             3     4      4  \n",
            "3             3     3      3  \n",
            "4             4     3      3  \n",
            "5             4     4      5  \n",
            "\n",
            "[5 rows x 49 columns]\n"
          ]
        }
      ],
      "source": [
        "import pandas as pd\n",
        "\n",
        "# import into data frame\n",
        "churn_data = \"https://raw.githubusercontent.com/dayanaviana/WGU/main/datasources/churn_clean.csv\"\n",
        "df = pd.read_csv(churn_data, index_col=0)\n",
        "print(df.head())"
      ]
    },
    {
      "cell_type": "markdown",
      "source": [
        "# Sample data"
      ],
      "metadata": {
        "id": "cTvFyuVU6zOp"
      }
    },
    {
      "cell_type": "code",
      "source": [
        "import numpy as np\n",
        "\n",
        "rows = 1000\n",
        "sample_data = df.sample(n=rows, random_state=42)\n",
        "print(sample_data.head())\n",
        "\n",
        "# Syntax:\n",
        "# DataFrame.sample(n=None, frac=None, replace=False, weights=None, random_state=None, axis=None)\n",
        "# Parameters:\n",
        "# n: int value, Number of random rows to generate.\n",
        "# frac: Float value, Returns (float value * length of data frame values ). frac cannot be used with n.\n",
        "# replace: Boolean value, return sample with replacement if True.\n",
        "# random_state: int value or numpy.random.RandomState, optional. if set to a particular integer, will return same rows as sample in every iteration.\n",
        "# axis: 0 or ‘row’ for Rows and 1 or ‘column’ for Columns."
      ],
      "metadata": {
        "colab": {
          "base_uri": "https://localhost:8080/"
        },
        "id": "h_sFSlky62GV",
        "outputId": "5985f44f-4f0b-468c-d25f-e6ffd3f2ac5f"
      },
      "execution_count": null,
      "outputs": [
        {
          "output_type": "stream",
          "name": "stdout",
          "text": [
            "          Customer_id                           Interaction  \\\n",
            "CaseOrder                                                     \n",
            "6253          S231697  e7902b9a-7c4f-4e9f-a195-af71dd6ed55f   \n",
            "4685          O841175  ca5b5c0d-4270-44bc-8896-9cc97e19f577   \n",
            "1732          M980625  157e72d3-6e3c-42b8-bb2a-c9d81ff46d9e   \n",
            "4743           C36783  4204e941-35f9-4f29-b8dc-1c9dfc67005a   \n",
            "4522          T157033  da4eb7f1-49db-4a26-86a4-3d44a6f55a58   \n",
            "\n",
            "                                        UID         City State     County  \\\n",
            "CaseOrder                                                                   \n",
            "6253       c8956d79d1a0b5b21d8396f9022a2d8e      Atlanta    GA     Fulton   \n",
            "4685       dca68833d5ee6129eaabaeb9b48f7d23  New Meadows    ID      Adams   \n",
            "1732       941fdb93ceceeed3a3f2a901c9efa085     Stilwell    KS    Johnson   \n",
            "4743       e2b008d0c9e7f661122f9e3e32732471       Perris    CA  Riverside   \n",
            "4522       552c76f0138485928f17eecd6d86aa3c       Hamden    OH     Vinton   \n",
            "\n",
            "             Zip       Lat        Lng  Population  ... MonthlyCharge  \\\n",
            "CaseOrder                                          ...                 \n",
            "6253       30309  33.79758  -84.38664       24744  ...    137.439200   \n",
            "4685       83654  45.09727 -116.35670        1471  ...    267.664700   \n",
            "1732       66085  38.79951  -94.64960        7825  ...    245.128318   \n",
            "4743       92570  33.78520 -117.31660       60944  ...    120.004900   \n",
            "4522       45634  39.17982  -82.48627        1926  ...    147.471300   \n",
            "\n",
            "          Bandwidth_GB_Year Item1  Item2  Item3  Item4 Item5 Item6 Item7  \\\n",
            "CaseOrder                                                                  \n",
            "6253            4866.059030     1      1      2      3     3     2     3   \n",
            "4685            1716.442787     3      3      3      4     3     3     3   \n",
            "1732            1925.341061     3      2      3      5     3     4     4   \n",
            "4743             847.952907     5      4      4      2     3     4     4   \n",
            "4522            2626.362759     2      2      3      4     3     3     3   \n",
            "\n",
            "           Item8  \n",
            "CaseOrder         \n",
            "6253           3  \n",
            "4685           6  \n",
            "1732           5  \n",
            "4743           4  \n",
            "4522           1  \n",
            "\n",
            "[5 rows x 49 columns]\n"
          ]
        }
      ]
    },
    {
      "cell_type": "code",
      "source": [
        "df.dtypes"
      ],
      "metadata": {
        "colab": {
          "base_uri": "https://localhost:8080/"
        },
        "id": "PAWkJh1fcthA",
        "outputId": "f8d3ae27-817d-4fe6-e82f-d20787b8a953"
      },
      "execution_count": null,
      "outputs": [
        {
          "output_type": "execute_result",
          "data": {
            "text/plain": [
              "Customer_id              object\n",
              "Interaction              object\n",
              "UID                      object\n",
              "City                     object\n",
              "State                    object\n",
              "County                   object\n",
              "Zip                       int64\n",
              "Lat                     float64\n",
              "Lng                     float64\n",
              "Population                int64\n",
              "Area                     object\n",
              "TimeZone                 object\n",
              "Job                      object\n",
              "Children                  int64\n",
              "Age                       int64\n",
              "Income                  float64\n",
              "Marital                  object\n",
              "Gender                   object\n",
              "Churn                    object\n",
              "Outage_sec_perweek      float64\n",
              "Email                     int64\n",
              "Contacts                  int64\n",
              "Yearly_equip_failure      int64\n",
              "Techie                   object\n",
              "Contract                 object\n",
              "Port_modem               object\n",
              "Tablet                   object\n",
              "InternetService          object\n",
              "Phone                    object\n",
              "Multiple                 object\n",
              "OnlineSecurity           object\n",
              "OnlineBackup             object\n",
              "DeviceProtection         object\n",
              "TechSupport              object\n",
              "StreamingTV              object\n",
              "StreamingMovies          object\n",
              "PaperlessBilling         object\n",
              "PaymentMethod            object\n",
              "Tenure                  float64\n",
              "MonthlyCharge           float64\n",
              "Bandwidth_GB_Year       float64\n",
              "Item1                     int64\n",
              "Item2                     int64\n",
              "Item3                     int64\n",
              "Item4                     int64\n",
              "Item5                     int64\n",
              "Item6                     int64\n",
              "Item7                     int64\n",
              "Item8                     int64\n",
              "dtype: object"
            ]
          },
          "metadata": {},
          "execution_count": 4
        }
      ]
    },
    {
      "cell_type": "markdown",
      "source": [
        "# Data Manipulation"
      ],
      "metadata": {
        "id": "TqcWoc7HbEAK"
      }
    },
    {
      "cell_type": "code",
      "source": [
        "X = df[['Gender','Marital']]\n",
        "# X.dtypes\n",
        "X = pd.get_dummies(data=X, drop_first=True)\n",
        "X.head()\n",
        "\n",
        "# Divorced\n",
        "# Married\n",
        "# Never Married\n",
        "# Separated\n",
        "# Widowed"
      ],
      "metadata": {
        "colab": {
          "base_uri": "https://localhost:8080/",
          "height": 238
        },
        "id": "Wy74xYR_bH65",
        "outputId": "d71bdd04-a93b-4ed4-bbee-845c68495719"
      },
      "execution_count": null,
      "outputs": [
        {
          "output_type": "execute_result",
          "data": {
            "text/plain": [
              "           Gender_Male  Gender_Nonbinary  Marital_Married  \\\n",
              "CaseOrder                                                   \n",
              "1                    1                 0                0   \n",
              "2                    0                 0                1   \n",
              "3                    0                 0                0   \n",
              "4                    1                 0                1   \n",
              "5                    1                 0                0   \n",
              "\n",
              "           Marital_Never Married  Marital_Separated  Marital_Widowed  \n",
              "CaseOrder                                                             \n",
              "1                              0                  0                1  \n",
              "2                              0                  0                0  \n",
              "3                              0                  0                1  \n",
              "4                              0                  0                0  \n",
              "5                              0                  1                0  "
            ],
            "text/html": [
              "\n",
              "  <div id=\"df-fd9c3310-81ae-4a11-ae96-dd909e9db659\">\n",
              "    <div class=\"colab-df-container\">\n",
              "      <div>\n",
              "<style scoped>\n",
              "    .dataframe tbody tr th:only-of-type {\n",
              "        vertical-align: middle;\n",
              "    }\n",
              "\n",
              "    .dataframe tbody tr th {\n",
              "        vertical-align: top;\n",
              "    }\n",
              "\n",
              "    .dataframe thead th {\n",
              "        text-align: right;\n",
              "    }\n",
              "</style>\n",
              "<table border=\"1\" class=\"dataframe\">\n",
              "  <thead>\n",
              "    <tr style=\"text-align: right;\">\n",
              "      <th></th>\n",
              "      <th>Gender_Male</th>\n",
              "      <th>Gender_Nonbinary</th>\n",
              "      <th>Marital_Married</th>\n",
              "      <th>Marital_Never Married</th>\n",
              "      <th>Marital_Separated</th>\n",
              "      <th>Marital_Widowed</th>\n",
              "    </tr>\n",
              "    <tr>\n",
              "      <th>CaseOrder</th>\n",
              "      <th></th>\n",
              "      <th></th>\n",
              "      <th></th>\n",
              "      <th></th>\n",
              "      <th></th>\n",
              "      <th></th>\n",
              "    </tr>\n",
              "  </thead>\n",
              "  <tbody>\n",
              "    <tr>\n",
              "      <th>1</th>\n",
              "      <td>1</td>\n",
              "      <td>0</td>\n",
              "      <td>0</td>\n",
              "      <td>0</td>\n",
              "      <td>0</td>\n",
              "      <td>1</td>\n",
              "    </tr>\n",
              "    <tr>\n",
              "      <th>2</th>\n",
              "      <td>0</td>\n",
              "      <td>0</td>\n",
              "      <td>1</td>\n",
              "      <td>0</td>\n",
              "      <td>0</td>\n",
              "      <td>0</td>\n",
              "    </tr>\n",
              "    <tr>\n",
              "      <th>3</th>\n",
              "      <td>0</td>\n",
              "      <td>0</td>\n",
              "      <td>0</td>\n",
              "      <td>0</td>\n",
              "      <td>0</td>\n",
              "      <td>1</td>\n",
              "    </tr>\n",
              "    <tr>\n",
              "      <th>4</th>\n",
              "      <td>1</td>\n",
              "      <td>0</td>\n",
              "      <td>1</td>\n",
              "      <td>0</td>\n",
              "      <td>0</td>\n",
              "      <td>0</td>\n",
              "    </tr>\n",
              "    <tr>\n",
              "      <th>5</th>\n",
              "      <td>1</td>\n",
              "      <td>0</td>\n",
              "      <td>0</td>\n",
              "      <td>0</td>\n",
              "      <td>1</td>\n",
              "      <td>0</td>\n",
              "    </tr>\n",
              "  </tbody>\n",
              "</table>\n",
              "</div>\n",
              "      <button class=\"colab-df-convert\" onclick=\"convertToInteractive('df-fd9c3310-81ae-4a11-ae96-dd909e9db659')\"\n",
              "              title=\"Convert this dataframe to an interactive table.\"\n",
              "              style=\"display:none;\">\n",
              "        \n",
              "  <svg xmlns=\"http://www.w3.org/2000/svg\" height=\"24px\"viewBox=\"0 0 24 24\"\n",
              "       width=\"24px\">\n",
              "    <path d=\"M0 0h24v24H0V0z\" fill=\"none\"/>\n",
              "    <path d=\"M18.56 5.44l.94 2.06.94-2.06 2.06-.94-2.06-.94-.94-2.06-.94 2.06-2.06.94zm-11 1L8.5 8.5l.94-2.06 2.06-.94-2.06-.94L8.5 2.5l-.94 2.06-2.06.94zm10 10l.94 2.06.94-2.06 2.06-.94-2.06-.94-.94-2.06-.94 2.06-2.06.94z\"/><path d=\"M17.41 7.96l-1.37-1.37c-.4-.4-.92-.59-1.43-.59-.52 0-1.04.2-1.43.59L10.3 9.45l-7.72 7.72c-.78.78-.78 2.05 0 2.83L4 21.41c.39.39.9.59 1.41.59.51 0 1.02-.2 1.41-.59l7.78-7.78 2.81-2.81c.8-.78.8-2.07 0-2.86zM5.41 20L4 18.59l7.72-7.72 1.47 1.35L5.41 20z\"/>\n",
              "  </svg>\n",
              "      </button>\n",
              "      \n",
              "  <style>\n",
              "    .colab-df-container {\n",
              "      display:flex;\n",
              "      flex-wrap:wrap;\n",
              "      gap: 12px;\n",
              "    }\n",
              "\n",
              "    .colab-df-convert {\n",
              "      background-color: #E8F0FE;\n",
              "      border: none;\n",
              "      border-radius: 50%;\n",
              "      cursor: pointer;\n",
              "      display: none;\n",
              "      fill: #1967D2;\n",
              "      height: 32px;\n",
              "      padding: 0 0 0 0;\n",
              "      width: 32px;\n",
              "    }\n",
              "\n",
              "    .colab-df-convert:hover {\n",
              "      background-color: #E2EBFA;\n",
              "      box-shadow: 0px 1px 2px rgba(60, 64, 67, 0.3), 0px 1px 3px 1px rgba(60, 64, 67, 0.15);\n",
              "      fill: #174EA6;\n",
              "    }\n",
              "\n",
              "    [theme=dark] .colab-df-convert {\n",
              "      background-color: #3B4455;\n",
              "      fill: #D2E3FC;\n",
              "    }\n",
              "\n",
              "    [theme=dark] .colab-df-convert:hover {\n",
              "      background-color: #434B5C;\n",
              "      box-shadow: 0px 1px 3px 1px rgba(0, 0, 0, 0.15);\n",
              "      filter: drop-shadow(0px 1px 2px rgba(0, 0, 0, 0.3));\n",
              "      fill: #FFFFFF;\n",
              "    }\n",
              "  </style>\n",
              "\n",
              "      <script>\n",
              "        const buttonEl =\n",
              "          document.querySelector('#df-fd9c3310-81ae-4a11-ae96-dd909e9db659 button.colab-df-convert');\n",
              "        buttonEl.style.display =\n",
              "          google.colab.kernel.accessAllowed ? 'block' : 'none';\n",
              "\n",
              "        async function convertToInteractive(key) {\n",
              "          const element = document.querySelector('#df-fd9c3310-81ae-4a11-ae96-dd909e9db659');\n",
              "          const dataTable =\n",
              "            await google.colab.kernel.invokeFunction('convertToInteractive',\n",
              "                                                     [key], {});\n",
              "          if (!dataTable) return;\n",
              "\n",
              "          const docLinkHtml = 'Like what you see? Visit the ' +\n",
              "            '<a target=\"_blank\" href=https://colab.research.google.com/notebooks/data_table.ipynb>data table notebook</a>'\n",
              "            + ' to learn more about interactive tables.';\n",
              "          element.innerHTML = '';\n",
              "          dataTable['output_type'] = 'display_data';\n",
              "          await google.colab.output.renderOutput(dataTable, element);\n",
              "          const docLink = document.createElement('div');\n",
              "          docLink.innerHTML = docLinkHtml;\n",
              "          element.appendChild(docLink);\n",
              "        }\n",
              "      </script>\n",
              "    </div>\n",
              "  </div>\n",
              "  "
            ]
          },
          "metadata": {},
          "execution_count": 51
        }
      ]
    },
    {
      "cell_type": "markdown",
      "source": [
        "#Multiple Linear Regression\n"
      ],
      "metadata": {
        "id": "trN5molt1Q3X"
      }
    },
    {
      "cell_type": "code",
      "source": [
        "import matplotlib.pyplot as plt\n",
        "import seaborn as sns\n",
        "from statsmodels.formula.api import ols\n",
        "\n",
        "continuous_columns = [\n",
        "                  \"Income\",\n",
        "                  #\"Tenure\",\n",
        "                  \"Outage_sec_perweek\",\n",
        "                  \"MonthlyCharge\",\n",
        "                  \"Bandwidth_GB_Year\",\n",
        "                                  ]\n",
        "y_target = \"Tenure\"\n",
        "x_predictors = \"\" # explanatory variables\n",
        "\n",
        "for column_name in continuous_columns:\n",
        "  x_predictors += column_name + \" + \"\n",
        "x_predictors = x_predictors[:-3] \n",
        "\n",
        "#Running a linear regression model\n",
        "# y = intercept + slope * x\n",
        "formula = y_target + \" ~ \" + x_predictors + \" + 0\" # +0 does not include a global interceptor\n",
        "print(\"Formula = \", formula)\n",
        "model = ols(formula, data=sample_data).fit()\n",
        "\n",
        "print(\"\\n\")\n",
        "\n",
        "print(\"Model =\\n\", model.params)\n",
        "# intercept, slope = model.params\n",
        "\n",
        "print(\"\\n\")\n",
        "\n",
        "# Coefficient of deternination: \n",
        "# How well the linear regression line fits the observed values (larger is better)\n",
        "print(\"R-squared = \", model.rsquared)\n",
        "\n",
        "# Adjusted coefficient of determination\n",
        "# Adds penalty when more predictors are added\n",
        "print(\"R-squared adjusted = \", model.rsquared_adj)\n",
        "\n",
        "# Mean squared error\n",
        "print(\"MSE = \", model.mse_resid)\n",
        "\n",
        "# Residual standard error:\n",
        "# The tipical sie of the residuals (smaller is better)\n",
        "sum_residuals_sq = sum(model.resid**2)#model.resid**2\n",
        "df = len(sample_data)-2\n",
        "print(\"RSE = \", sum_residuals_sq/df)#sum of residuals squared\n",
        "print(\"MRSE = \", np.sqrt(sum_residuals_sq/len(sample_data)))\n",
        "\n",
        "print(\"RSE = \", np.sqrt(model.mse_resid))\n",
        "# We typically get the X wrong by about RSE_number\n"
      ],
      "metadata": {
        "colab": {
          "base_uri": "https://localhost:8080/"
        },
        "id": "1rkdpZ6QZ8Sa",
        "outputId": "48feda3b-208c-4dab-91eb-374925f733ff"
      },
      "execution_count": null,
      "outputs": [
        {
          "output_type": "stream",
          "name": "stdout",
          "text": [
            "Formula =  Tenure ~ Income + Outage_sec_perweek + MonthlyCharge + Bandwidth_GB_Year + 0\n",
            "\n",
            "\n",
            "Model =\n",
            " Income                0.000004\n",
            "Outage_sec_perweek    0.005550\n",
            "MonthlyCharge        -0.037656\n",
            "Bandwidth_GB_Year     0.012049\n",
            "dtype: float64\n",
            "\n",
            "\n",
            "R-squared =  0.9951885200308901\n",
            "R-squared adjusted =  0.9951691968181627\n",
            "MSE =  9.269275003222926\n",
            "RSE =  9.250699301813663\n",
            "MRSE =  3.0384532089880922\n",
            "RSE =  3.044548407107847\n"
          ]
        }
      ]
    },
    {
      "cell_type": "markdown",
      "source": [
        "## 2-way interaction (Pairwise)"
      ],
      "metadata": {
        "id": "I3dX2vUkaglx"
      }
    },
    {
      "cell_type": "code",
      "source": [
        "import matplotlib.pyplot as plt\n",
        "import seaborn as sns\n",
        "from statsmodels.formula.api import ols\n",
        "\n",
        "continuous_columns = [\n",
        "                  \"Income\",\n",
        "                  #\"Tenure\",\n",
        "                  \"Outage_sec_perweek\",\n",
        "                  \"MonthlyCharge\",\n",
        "                  \"Bandwidth_GB_Year\",\n",
        "                                  ]\n",
        "y_target = \"Tenure\"\n",
        "x_predictors = \"\" # explanatory variables\n",
        "\n",
        "for column_name in continuous_columns:\n",
        "  x_predictors += column_name + \" + \"\n",
        "x_predictors = x_predictors[:-3] \n",
        "\n",
        "\n",
        "#Running a linear regression model\n",
        "# y = intercept + slope * x\n",
        "formula = y_target + \" ~ (\" + x_predictors + \")**2 + 0\" # +0 does not include a global interceptor\n",
        "print(\"Formula = \", formula)\n",
        "model = ols(formula, data=sample_data).fit()\n",
        "\n",
        "print(\"\\n\")\n",
        "\n",
        "print(\"Model =\\n\", model.params)\n",
        "# intercept, slope = model.params\n",
        "\n",
        "print(\"\\n\")\n",
        "\n",
        "# Coefficient of deternination: \n",
        "# How well the linear regression line fits the observed values (larger is better)\n",
        "print(\"R-squared = \", model.rsquared)\n",
        "\n",
        "# Adjusted coefficient of determination\n",
        "# Adds penalty when more predictors are added\n",
        "print(\"R-squared adjusted = \", model.rsquared_adj)\n",
        "\n",
        "# Mean squared error\n",
        "print(\"MSE = \", model.mse_resid)\n",
        "\n",
        "# Residual standard error:\n",
        "# The tipical sie of the residuals (smaller is better)\n",
        "sum_residuals_sq = sum(model.resid**2)#model.resid**2\n",
        "df = len(sample_data)-2\n",
        "print(\"RSE = \", sum_residuals_sq/df)#sum of residuals squared\n",
        "print(\"MRSE = \", np.sqrt(sum_residuals_sq/len(sample_data)))\n",
        "\n",
        "print(\"RSE = \", np.sqrt(model.mse_resid))\n",
        "# We typically get the X wrong by about RSE_number\n",
        "\n"
      ],
      "metadata": {
        "colab": {
          "base_uri": "https://localhost:8080/"
        },
        "id": "MMYE0R8F1Tr3",
        "outputId": "6dd99537-548b-427d-dacb-732c148397b8"
      },
      "execution_count": null,
      "outputs": [
        {
          "output_type": "stream",
          "name": "stdout",
          "text": [
            "Formula =  Tenure ~ (Income + Outage_sec_perweek + MonthlyCharge + Bandwidth_GB_Year)**2 + 0\n",
            "\n",
            "\n",
            "Model =\n",
            " Income                                 -1.863940e-06\n",
            "Outage_sec_perweek                      5.365319e-02\n",
            "MonthlyCharge                          -3.210144e-02\n",
            "Bandwidth_GB_Year                       1.206698e-02\n",
            "Income:Outage_sec_perweek               3.781498e-07\n",
            "Income:MonthlyCharge                    3.499814e-09\n",
            "Income:Bandwidth_GB_Year               -2.272672e-11\n",
            "Outage_sec_perweek:MonthlyCharge       -7.224177e-04\n",
            "Outage_sec_perweek:Bandwidth_GB_Year    5.807571e-06\n",
            "MonthlyCharge:Bandwidth_GB_Year        -5.592399e-07\n",
            "dtype: float64\n",
            "\n",
            "\n",
            "R-squared =  0.995218077526422\n",
            "R-squared adjusted =  0.9951697752792141\n",
            "MSE =  9.268165060556575\n",
            "RSE =  9.193871152255513\n",
            "MRSE =  3.0291060413843227\n",
            "RSE =  3.0443661180213812\n"
          ]
        }
      ]
    },
    {
      "cell_type": "markdown",
      "source": [
        "## 3-way interaction"
      ],
      "metadata": {
        "id": "OXC0CqvSaMwk"
      }
    },
    {
      "cell_type": "code",
      "source": [
        "import matplotlib.pyplot as plt\n",
        "import seaborn as sns\n",
        "from statsmodels.formula.api import ols\n",
        "\n",
        "continuous_columns = [\n",
        "                  \"Income\",\n",
        "                  #\"Tenure\",\n",
        "                  \"Outage_sec_perweek\",\n",
        "                  \"MonthlyCharge\",\n",
        "                  \"Bandwidth_GB_Year\",\n",
        "                                  ]\n",
        "y_target = \"Tenure\"\n",
        "x_predictors = \"\" # explanatory variables\n",
        "\n",
        "for column_name in continuous_columns:\n",
        "  x_predictors += column_name + \" * \"\n",
        "x_predictors = x_predictors[:-3] \n",
        "\n",
        "#Running a linear regression model\n",
        "# y = intercept + slope * x\n",
        "formula = y_target + \" ~ \" + x_predictors + \" + 0\" # \"+0\" does not include a global interceptor\n",
        "print(\"Formula = \", formula)\n",
        "model = ols(formula, data=sample_data).fit()\n",
        "\n",
        "print(\"\\n\")\n",
        "\n",
        "print(\"Model =\\n\", model.params)\n",
        "# intercept, slope = model.params\n",
        "\n",
        "print(\"\\n\")\n",
        "\n",
        "# Coefficient of deternination: \n",
        "# How well the linear regression line fits the observed values (larger is better)\n",
        "print(\"R-squared = \", model.rsquared)\n",
        "\n",
        "# Adjusted coefficient of determination\n",
        "# Adds penalty when more predictors are added\n",
        "print(\"R-squared adjusted = \", model.rsquared_adj)\n",
        "\n",
        "# Mean squared error\n",
        "print(\"MSE = \", model.mse_resid)\n",
        "\n",
        "# Residual standard error:\n",
        "# The tipical sie of the residuals (smaller is better)\n",
        "sum_residuals_sq = sum(model.resid**2)#model.resid**2\n",
        "df = len(sample_data)-2\n",
        "print(\"RSE = \", sum_residuals_sq/df)#sum of residuals squared\n",
        "print(\"MRSE = \", np.sqrt(sum_residuals_sq/len(sample_data)))\n",
        "\n",
        "print(\"RSE = \", np.sqrt(model.mse_resid))\n",
        "# We typically get the X wrong by about RSE_number\n"
      ],
      "metadata": {
        "colab": {
          "base_uri": "https://localhost:8080/"
        },
        "id": "W_yZNQBqaFhR",
        "outputId": "46c2227f-1e14-4950-e7e0-9b57ce174432"
      },
      "execution_count": null,
      "outputs": [
        {
          "output_type": "stream",
          "name": "stdout",
          "text": [
            "Formula =  Tenure ~ Income * Outage_sec_perweek * MonthlyCharge * Bandwidth_GB_Year + 0\n",
            "\n",
            "\n",
            "Model =\n",
            " Income                                                      -3.276007e-05\n",
            "Outage_sec_perweek                                           8.495996e-02\n",
            "Income:Outage_sec_perweek                                    2.856646e-06\n",
            "MonthlyCharge                                               -3.748113e-02\n",
            "Income:MonthlyCharge                                         3.251048e-07\n",
            "Outage_sec_perweek:MonthlyCharge                            -3.451536e-04\n",
            "Income:Outage_sec_perweek:MonthlyCharge                     -2.919166e-08\n",
            "Bandwidth_GB_Year                                            1.281728e-02\n",
            "Income:Bandwidth_GB_Year                                    -5.915347e-09\n",
            "Outage_sec_perweek:Bandwidth_GB_Year                        -7.666500e-05\n",
            "Income:Outage_sec_perweek:Bandwidth_GB_Year                  7.929841e-10\n",
            "MonthlyCharge:Bandwidth_GB_Year                             -3.060970e-06\n",
            "Income:MonthlyCharge:Bandwidth_GB_Year                      -1.544845e-11\n",
            "Outage_sec_perweek:MonthlyCharge:Bandwidth_GB_Year           2.909316e-07\n",
            "Income:Outage_sec_perweek:MonthlyCharge:Bandwidth_GB_Year    4.418640e-13\n",
            "dtype: float64\n",
            "\n",
            "\n",
            "R-squared =  0.9868617034543905\n",
            "R-squared adjusted =  0.9866749662446052\n",
            "MSE =  9.27591665565229\n",
            "RSE =  9.155088081981464\n",
            "MRSE =  3.0227103575793532\n",
            "RSE =  3.045638956877898\n"
          ]
        }
      ]
    },
    {
      "cell_type": "code",
      "source": [
        ""
      ],
      "metadata": {
        "id": "fpRtLuHwL_Kr"
      },
      "execution_count": null,
      "outputs": []
    },
    {
      "cell_type": "markdown",
      "source": [
        "# MonthlyCharge 1st Run"
      ],
      "metadata": {
        "id": "_HB9KCAWQadV"
      }
    },
    {
      "cell_type": "code",
      "source": [
        "import matplotlib.pyplot as plt\n",
        "import seaborn as sns\n",
        "from statsmodels.formula.api import ols\n",
        "\n",
        "predictors_columns = [\n",
        "                  \"Income\",\n",
        "                  \"Tenure\",\n",
        "                  \"Outage_sec_perweek\",\n",
        "                  # \"MonthlyCharge\",\n",
        "                  \"Bandwidth_GB_Year\",\n",
        "                  \"Population\",\n",
        "                  \"Children\",\n",
        "                  \"Age\",\n",
        "                  \"Yearly_equip_failure\",\n",
        "                  \"Email\",\n",
        "                  \"Contacts\",\n",
        "                  \"Area\",\"Marital\",\n",
        "\"Churn\",\"Gender\",\"Techie\",\"InternetService\",\"Multiple\",\"OnlineBackup\",\"DeviceProtection\",\n",
        "\"StreamingTV\",\"StreamingMovies\",\"Port_modem\",\"Tablet\",\"OnlineSecurity\",\"TechSupport\",\n",
        "\"Contract\",\"PaperlessBilling\",\"PaymentMethod\",\n",
        "                                  ]\n",
        "y_target = \"MonthlyCharge\"\n",
        "x_predictors = \"\" # explanatory variables\n",
        "\n",
        "for column_name in predictors_columns:\n",
        "  x_predictors += column_name + \" + \"\n",
        "x_predictors = x_predictors[:-3] # Removes last 3 charactheres from string\n",
        "\n",
        "#Running a linear regression model\n",
        "# y = intercept + slope * x\n",
        "formula = y_target + \" ~ \" + x_predictors + \" + 0\" # +0 does not include a global interceptor\n",
        "print(\"Formula = \", formula)\n",
        "model = ols(formula, data=sample_data).fit()\n",
        "\n",
        "print(\"\\n\")\n",
        "\n",
        "print(\"Model =\\n\", model.params)\n",
        "# intercept, slope = model.params\n",
        "\n",
        "print(\"\\n\")\n",
        "\n",
        "# Coefficient of deternination: \n",
        "# How well the linear regression line fits the observed values (larger is better)\n",
        "print(\"R-squared = \", model.rsquared)\n",
        "\n",
        "# Adjusted coefficient of determination\n",
        "# Adds penalty when more predictors are added\n",
        "print(\"R-squared adjusted = \", model.rsquared_adj)\n",
        "\n",
        "# Mean squared error\n",
        "print(\"MSE = \", model.mse_resid)\n",
        "\n",
        "# Residual standard error:\n",
        "# The tipical sie of the residuals (smaller is better)\n",
        "sum_residuals_sq = sum(model.resid**2)#model.resid**2\n",
        "df = len(sample_data)-2\n",
        "print(\"RSE = \", sum_residuals_sq/df)#sum of residuals squared\n",
        "print(\"MRSE = \", np.sqrt(sum_residuals_sq/len(sample_data)))\n",
        "\n",
        "print(\"RSE = \", np.sqrt(model.mse_resid))\n",
        "# We typically get the X wrong by about RSE_number\n"
      ],
      "metadata": {
        "colab": {
          "base_uri": "https://localhost:8080/"
        },
        "id": "ZuVccabeP-ti",
        "outputId": "b8057663-4d65-4639-de07-5ae6ae7ebb4e"
      },
      "execution_count": null,
      "outputs": [
        {
          "output_type": "stream",
          "name": "stdout",
          "text": [
            "Formula =  MonthlyCharge ~ Income + Tenure + Outage_sec_perweek + Bandwidth_GB_Year + Population + Children + Age + Yearly_equip_failure + Email + Contacts + Area + Marital + Churn + Gender + Techie + InternetService + Multiple + OnlineBackup + DeviceProtection + StreamingTV + StreamingMovies + Port_modem + Tablet + OnlineSecurity + TechSupport + Contract + PaperlessBilling + PaymentMethod + 0\n",
            "\n",
            "\n",
            "Model =\n",
            " Area[Rural]                                 -88.605125\n",
            "Area[Suburban]                              -88.591964\n",
            "Area[Urban]                                 -88.374421\n",
            "Marital[T.Married]                           -0.271989\n",
            "Marital[T.Never Married]                     -0.362445\n",
            "Marital[T.Separated]                          0.058168\n",
            "Marital[T.Widowed]                           -0.490639\n",
            "Churn[T.Yes]                                  0.311647\n",
            "Gender[T.Male]                              -20.466172\n",
            "Gender[T.Nonbinary]                           5.948513\n",
            "Techie[T.Yes]                                -0.246295\n",
            "InternetService[T.Fiber Optic]              148.461713\n",
            "InternetService[T.None]                     115.743895\n",
            "Multiple[T.Yes]                              10.283749\n",
            "OnlineBackup[T.Yes]                          -6.921939\n",
            "DeviceProtection[T.Yes]                     -13.804088\n",
            "StreamingTV[T.Yes]                          -28.910394\n",
            "StreamingMovies[T.Yes]                      -13.249110\n",
            "Port_modem[T.Yes]                             0.033989\n",
            "Tablet[T.Yes]                                -0.299552\n",
            "OnlineSecurity[T.Yes]                       -20.915451\n",
            "TechSupport[T.Yes]                           11.167861\n",
            "Contract[T.One year]                          0.113785\n",
            "Contract[T.Two Year]                          0.298386\n",
            "PaperlessBilling[T.Yes]                      -0.143567\n",
            "PaymentMethod[T.Credit Card (automatic)]      0.050618\n",
            "PaymentMethod[T.Electronic Check]             0.070917\n",
            "PaymentMethod[T.Mailed Check]                 0.318697\n",
            "Income                                       -0.000004\n",
            "Tenure                                      -25.440939\n",
            "Outage_sec_perweek                            0.000026\n",
            "Bandwidth_GB_Year                             0.310586\n",
            "Population                                   -0.000006\n",
            "Children                                     -9.494250\n",
            "Age                                           1.020174\n",
            "Yearly_equip_failure                         -0.010471\n",
            "Email                                        -0.011955\n",
            "Contacts                                     -0.154471\n",
            "dtype: float64\n",
            "\n",
            "\n",
            "R-squared =  0.9954703118804613\n",
            "R-squared adjusted =  0.9952960931066329\n",
            "MSE =  8.384581696934642\n",
            "RSE =  8.082131856163446\n",
            "MRSE =  2.8400647162434733\n",
            "RSE =  2.8956142175598325\n"
          ]
        }
      ]
    },
    {
      "cell_type": "markdown",
      "source": [
        "# MonthlyCharge 2nd Run"
      ],
      "metadata": {
        "id": "BEEv8k7TGB1Z"
      }
    },
    {
      "cell_type": "code",
      "source": [
        "import matplotlib.pyplot as plt\n",
        "import seaborn as sns\n",
        "from statsmodels.formula.api import ols\n",
        "\n",
        "predictors_columns = [\n",
        "                  \"Tenure\",\n",
        "                  \"Children\",\n",
        "\"Gender\",\"InternetService\",\"Multiple\",\"OnlineBackup\",\"DeviceProtection\",\n",
        "\"StreamingTV\",\"StreamingMovies\",\"OnlineSecurity\",\"TechSupport\",\n",
        "                                  ]\n",
        "y_target = \"MonthlyCharge\"\n",
        "x_predictors = \"\" # explanatory variables\n",
        "\n",
        "for column_name in predictors_columns:\n",
        "  x_predictors += column_name + \" + \"\n",
        "x_predictors = x_predictors[:-3] # Removes last 3 charactheres from string\n",
        "\n",
        "#Running a linear regression model\n",
        "# y = intercept + slope * x\n",
        "formula = y_target + \" ~ \" + x_predictors + \" + 0\" # +0 does not include a global interceptor\n",
        "print(\"Formula = \", formula)\n",
        "model = ols(formula, data=sample_data).fit()\n",
        "\n",
        "print(\"\\n\")\n",
        "\n",
        "print(\"Model =\\n\", model.params)\n",
        "# intercept, slope = model.params\n",
        "\n",
        "print(\"\\n\")\n",
        "\n",
        "# Coefficient of deternination: \n",
        "# How well the linear regression line fits the observed values (larger is better)\n",
        "print(\"R-squared = \", model.rsquared)\n",
        "\n",
        "# Adjusted coefficient of determination\n",
        "# Adds penalty when more predictors are added\n",
        "print(\"R-squared adjusted = \", model.rsquared_adj)\n",
        "\n",
        "# Mean squared error\n",
        "print(\"MSE = \", model.mse_resid)\n",
        "\n",
        "# Residual standard error:\n",
        "# The tipical sie of the residuals (smaller is better)\n",
        "sum_residuals_sq = sum(model.resid**2)#model.resid**2\n",
        "df = len(sample_data)-2\n",
        "print(\"RSE = \", sum_residuals_sq/df)#sum of residuals squared\n",
        "print(\"MRSE = \", np.sqrt(sum_residuals_sq/len(sample_data)))\n",
        "\n",
        "print(\"RSE = \", np.sqrt(model.mse_resid))\n",
        "# We typically get the X wrong by about RSE_number\n"
      ],
      "metadata": {
        "colab": {
          "base_uri": "https://localhost:8080/"
        },
        "id": "O-7Xgl5vF8Xt",
        "outputId": "78c16fdc-c5f3-47be-c91a-7f0ece868421"
      },
      "execution_count": null,
      "outputs": [
        {
          "output_type": "stream",
          "name": "stdout",
          "text": [
            "Formula =  MonthlyCharge ~ Tenure + Children + Gender + InternetService + Multiple + OnlineBackup + DeviceProtection + StreamingTV + StreamingMovies + OnlineSecurity + TechSupport + 0\n",
            "\n",
            "\n",
            "Model =\n",
            " Gender[Female]                    84.353122\n",
            "Gender[Male]                      83.754204\n",
            "Gender[Nonbinary]                 83.311289\n",
            "InternetService[T.Fiber Optic]    20.403765\n",
            "InternetService[T.None]          -13.425721\n",
            "Multiple[T.Yes]                   32.980789\n",
            "OnlineBackup[T.Yes]               22.950731\n",
            "DeviceProtection[T.Yes]           12.258646\n",
            "StreamingTV[T.Yes]                42.190328\n",
            "StreamingMovies[T.Yes]            51.508631\n",
            "OnlineSecurity[T.Yes]              2.644356\n",
            "TechSupport[T.Yes]                12.529013\n",
            "Tenure                            -0.016030\n",
            "Children                           0.093858\n",
            "dtype: float64\n",
            "\n",
            "\n",
            "R-squared =  0.9571656077638863\n",
            "R-squared adjusted =  0.9566008541137144\n",
            "MSE =  77.35775654357768\n",
            "RSE =  76.42760315828428\n",
            "MRSE =  8.733541546930873\n",
            "RSE =  8.795325834986313\n"
          ]
        }
      ]
    },
    {
      "cell_type": "markdown",
      "source": [
        "# MonthlyCharge 3rd Run"
      ],
      "metadata": {
        "id": "y4mD_nstH2Nx"
      }
    },
    {
      "cell_type": "code",
      "source": [
        "import matplotlib.pyplot as plt\n",
        "import seaborn as sns\n",
        "from statsmodels.formula.api import ols\n",
        "\n",
        "predictors_columns = [\"InternetService\",\"Multiple\",\"OnlineBackup\",\"DeviceProtection\",\n",
        "\"StreamingTV\",\"StreamingMovies\",\"TechSupport\",\n",
        "                                  ]\n",
        "y_target = \"MonthlyCharge\"\n",
        "x_predictors = \"\" # explanatory variables\n",
        "\n",
        "for column_name in predictors_columns:\n",
        "  x_predictors += column_name + \" + \"\n",
        "x_predictors = x_predictors[:-3] # Removes last 3 charactheres from string\n",
        "\n",
        "#Running a linear regression model\n",
        "# y = intercept + slope * x\n",
        "formula = y_target + \" ~ \" + x_predictors + \" + 0\" # +0 does not include a global interceptor\n",
        "print(\"Formula = \", formula)\n",
        "model = ols(formula, data=sample_data).fit()\n",
        "\n",
        "print(\"\\n\")\n",
        "\n",
        "print(\"Model =\\n\", model.params)\n",
        "# intercept, slope = model.params\n",
        "\n",
        "print(\"\\n\")\n",
        "\n",
        "# Coefficient of deternination: \n",
        "# How well the linear regression line fits the observed values (larger is better)\n",
        "print(\"R-squared = \", model.rsquared)\n",
        "\n",
        "# Adjusted coefficient of determination\n",
        "# Adds penalty when more predictors are added\n",
        "print(\"R-squared adjusted = \", model.rsquared_adj)\n",
        "\n",
        "# Mean squared error\n",
        "print(\"MSE = \", model.mse_resid)\n",
        "\n",
        "# Residual standard error:\n",
        "# The tipical sie of the residuals (smaller is better)\n",
        "sum_residuals_sq = sum(model.resid**2)#model.resid**2\n",
        "df = len(sample_data)-2\n",
        "print(\"RSE = \", sum_residuals_sq/df)#sum of residuals squared\n",
        "print(\"MRSE = \", np.sqrt(sum_residuals_sq/len(sample_data)))\n",
        "\n",
        "print(\"RSE = \", np.sqrt(model.mse_resid))\n",
        "# We typically get the X wrong by about RSE_number\n"
      ],
      "metadata": {
        "colab": {
          "base_uri": "https://localhost:8080/"
        },
        "id": "ZveuJ3jdPdiT",
        "outputId": "37ba73bc-8463-47a0-cf11-2f02db13326c"
      },
      "execution_count": null,
      "outputs": [
        {
          "output_type": "stream",
          "name": "stdout",
          "text": [
            "Formula =  MonthlyCharge ~ InternetService + Multiple + OnlineBackup + DeviceProtection + StreamingTV + StreamingMovies + TechSupport + 0\n",
            "\n",
            "\n",
            "Model =\n",
            " InternetService[DSL]             84.796991\n",
            "InternetService[Fiber Optic]    105.208760\n",
            "InternetService[None]            71.284700\n",
            "Multiple[T.Yes]                  32.841392\n",
            "OnlineBackup[T.Yes]              22.970352\n",
            "DeviceProtection[T.Yes]          12.258028\n",
            "StreamingTV[T.Yes]               42.103257\n",
            "StreamingMovies[T.Yes]           51.391454\n",
            "TechSupport[T.Yes]               12.615963\n",
            "dtype: float64\n",
            "\n",
            "\n",
            "R-squared =  0.9560822879303803\n",
            "R-squared adjusted =  0.9557277554414227\n",
            "MSE =  78.91403036303544\n",
            "RSE =  78.36052514004817\n",
            "MRSE =  8.84329147375388\n",
            "RSE =  8.883356930971278\n"
          ]
        }
      ]
    },
    {
      "cell_type": "markdown",
      "source": [
        "# MonthlyCharge 4th Run : With Interactions"
      ],
      "metadata": {
        "id": "ePgeNe5rPOrp"
      }
    },
    {
      "cell_type": "code",
      "source": [
        "import matplotlib.pyplot as plt\n",
        "import seaborn as sns\n",
        "from statsmodels.formula.api import ols\n",
        "\n",
        "predictors_columns = [\"InternetService\",\"Multiple\",\"OnlineBackup\",\"DeviceProtection\",\n",
        "\"StreamingTV\",\"StreamingMovies\",\"TechSupport\",\n",
        "                                  ]\n",
        "y_target = \"MonthlyCharge\"\n",
        "x_predictors = \"\" # explanatory variables\n",
        "\n",
        "for column_name in predictors_columns:\n",
        "  x_predictors += column_name + \" * \"\n",
        "x_predictors = x_predictors[:-3] # Removes last 3 charactheres from string\n",
        "\n",
        "#Running a linear regression model\n",
        "# y = intercept + slope * x\n",
        "formula = y_target + \" ~ \" + x_predictors + \" + 0\" # +0 does not include a global interceptor\n",
        "print(\"Formula = \", formula)\n",
        "model = ols(formula, data=sample_data).fit()\n",
        "\n",
        "print(\"\\n\")\n",
        "\n",
        "print(\"Model =\\n\", model.params)\n",
        "# intercept, slope = model.params\n",
        "\n",
        "print(\"\\n\")\n",
        "\n",
        "# Coefficient of deternination: \n",
        "# How well the linear regression line fits the observed values (larger is better)\n",
        "print(\"R-squared = \", model.rsquared)\n",
        "\n",
        "# Adjusted coefficient of determination\n",
        "# Adds penalty when more predictors are added\n",
        "print(\"R-squared adjusted = \", model.rsquared_adj)\n",
        "\n",
        "# Mean squared error\n",
        "print(\"MSE = \", model.mse_resid)\n",
        "\n",
        "# Residual standard error:\n",
        "# The tipical sie of the residuals (smaller is better)\n",
        "sum_residuals_sq = sum(model.resid**2)#model.resid**2\n",
        "df = len(sample_data)-2\n",
        "print(\"RSE = \", sum_residuals_sq/df)#sum of residuals squared\n",
        "print(\"MRSE = \", np.sqrt(sum_residuals_sq/len(sample_data)))\n",
        "\n",
        "print(\"RSE = \", np.sqrt(model.mse_resid))\n",
        "# We typically get the X wrong by about RSE_number\n"
      ],
      "metadata": {
        "colab": {
          "base_uri": "https://localhost:8080/"
        },
        "id": "4rwGqtY0H6lH",
        "outputId": "576f8c08-fba9-4f51-f3f2-1e20abec597e"
      },
      "execution_count": null,
      "outputs": [
        {
          "output_type": "stream",
          "name": "stdout",
          "text": [
            "Formula =  MonthlyCharge ~ InternetService * Multiple * OnlineBackup * DeviceProtection * StreamingTV * StreamingMovies * TechSupport + 0\n",
            "\n",
            "\n",
            "Model =\n",
            " InternetService[DSL]                                                                                                                                        93.084562\n",
            "InternetService[Fiber Optic]                                                                                                                               113.534116\n",
            "InternetService[None]                                                                                                                                       81.237704\n",
            "Multiple[T.Yes]                                                                                                                                             32.505537\n",
            "OnlineBackup[T.Yes]                                                                                                                                         22.810473\n",
            "                                                                                                                                                              ...    \n",
            "InternetService[T.Fiber Optic]:OnlineBackup[T.Yes]:DeviceProtection[T.Yes]:StreamingTV[T.Yes]:StreamingMovies[T.Yes]:TechSupport[T.Yes]                      3.630740\n",
            "InternetService[T.None]:OnlineBackup[T.Yes]:DeviceProtection[T.Yes]:StreamingTV[T.Yes]:StreamingMovies[T.Yes]:TechSupport[T.Yes]                            -4.987460\n",
            "Multiple[T.Yes]:OnlineBackup[T.Yes]:DeviceProtection[T.Yes]:StreamingTV[T.Yes]:StreamingMovies[T.Yes]:TechSupport[T.Yes]                                     2.241132\n",
            "InternetService[T.Fiber Optic]:Multiple[T.Yes]:OnlineBackup[T.Yes]:DeviceProtection[T.Yes]:StreamingTV[T.Yes]:StreamingMovies[T.Yes]:TechSupport[T.Yes]    -10.478924\n",
            "InternetService[T.None]:Multiple[T.Yes]:OnlineBackup[T.Yes]:DeviceProtection[T.Yes]:StreamingTV[T.Yes]:StreamingMovies[T.Yes]:TechSupport[T.Yes]             0.664045\n",
            "Length: 192, dtype: float64\n",
            "\n",
            "\n",
            "R-squared =  0.9993338290647028\n",
            "R-squared adjusted =  0.9991783891798002\n",
            "MSE =  1.4644981716718612\n",
            "RSE =  1.188620760575358\n",
            "MRSE =  1.0891480703073422\n",
            "RSE =  1.2101645225637137\n"
          ]
        }
      ]
    },
    {
      "cell_type": "markdown",
      "source": [
        "# Testing Model\n",
        "\n",
        "https://colab.research.google.com/drive/1L0HQPCV4s2ceW_cYNQ5VcbH_ujwKKutF?usp=sharing\n"
      ],
      "metadata": {
        "id": "ePGsMDwuQzeS"
      }
    },
    {
      "cell_type": "code",
      "source": [
        "model.predict()"
      ],
      "metadata": {
        "id": "F-tWH_IDQ19q"
      },
      "execution_count": null,
      "outputs": []
    }
  ]
}