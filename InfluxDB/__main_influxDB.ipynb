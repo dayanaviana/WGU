{
 "cells": [
  {
   "cell_type": "code",
   "execution_count": 1,
   "metadata": {},
   "outputs": [],
   "source": [
    "# Write to InfluxDB\n",
    "import influxdb_client, os, time\n",
    "from influxdb_client import InfluxDBClient, Point, WritePrecision\n",
    "from influxdb_client.client.write_api import SYNCHRONOUS\n",
    "\n",
    "# Read from InfluxDB\n",
    "from influxdb_client import InfluxDBClient\n",
    "import pandas as pd\n",
    "import numpy as np"
   ]
  },
  {
   "cell_type": "code",
   "execution_count": 2,
   "metadata": {},
   "outputs": [],
   "source": [
    "token = \"OahENx0sQqJK0_dY7b_lgQEZQkBzqJm1AaYxFNWLQY7BReWFlP8NVKcPL2v3t0Hy3qcpN4LEx_Fa87MSm-FOAQ==\"\n",
    "org = \"porg_metrics\"\n",
    "url = \"http://10.253.85.168:8086\"\n",
    "bucket=\"porg_metrics_metricssvc\""
   ]
  },
  {
   "cell_type": "code",
   "execution_count": 3,
   "metadata": {},
   "outputs": [
    {
     "name": "stderr",
     "output_type": "stream",
     "text": [
      "/Users/dayanaviana/opt/anaconda3/lib/python3.8/site-packages/numpy/core/_asarray.py:102: VisibleDeprecationWarning: Creating an ndarray from ragged nested sequences (which is a list-or-tuple of lists-or-tuples-or ndarrays with different lengths or shapes) is deprecated. If you meant to do this, you must specify 'dtype=object' when creating the ndarray.\n",
      "  return array(a, dtype, copy=False, order=order)\n"
     ]
    },
    {
     "name": "stdout",
     "output_type": "stream",
     "text": [
      "Size= 1814\n",
      "\n",
      "\n"
     ]
    },
    {
     "ename": "AttributeError",
     "evalue": "'list' object has no attribute 'head'",
     "output_type": "error",
     "traceback": [
      "\u001b[0;31m---------------------------------------------------------------------------\u001b[0m",
      "\u001b[0;31mAttributeError\u001b[0m                            Traceback (most recent call last)",
      "\u001b[0;32m<ipython-input-3-42a81f0aa1b8>\u001b[0m in \u001b[0;36m<module>\u001b[0;34m\u001b[0m\n\u001b[1;32m     19\u001b[0m \u001b[0mprint\u001b[0m\u001b[0;34m(\u001b[0m\u001b[0;34m\"Size=\"\u001b[0m\u001b[0;34m,\u001b[0m\u001b[0mnp\u001b[0m\u001b[0;34m.\u001b[0m\u001b[0msize\u001b[0m\u001b[0;34m(\u001b[0m\u001b[0mtable\u001b[0m\u001b[0;34m)\u001b[0m\u001b[0;34m)\u001b[0m\u001b[0;34m\u001b[0m\u001b[0;34m\u001b[0m\u001b[0m\n\u001b[1;32m     20\u001b[0m \u001b[0mprint\u001b[0m\u001b[0;34m(\u001b[0m\u001b[0;34m\"\\n\"\u001b[0m\u001b[0;34m)\u001b[0m\u001b[0;34m\u001b[0m\u001b[0;34m\u001b[0m\u001b[0m\n\u001b[0;32m---> 21\u001b[0;31m \u001b[0mprint\u001b[0m\u001b[0;34m(\u001b[0m\u001b[0mtable\u001b[0m\u001b[0;34m.\u001b[0m\u001b[0mhead\u001b[0m\u001b[0;34m(\u001b[0m\u001b[0;34m)\u001b[0m\u001b[0;34m)\u001b[0m\u001b[0;34m\u001b[0m\u001b[0;34m\u001b[0m\u001b[0m\n\u001b[0m",
      "\u001b[0;31mAttributeError\u001b[0m: 'list' object has no attribute 'head'"
     ]
    }
   ],
   "source": [
    "client = influxdb_client.InfluxDBClient(url=url, token=token, org=org)\n",
    "query_api = client.query_api()\n",
    "\n",
    "query = '''\n",
    "from(bucket:\"porg_metrics_metricssvc\")\n",
    "  |> range(start:2022-07-29T00:00:00Z, stop:2022-07-29T23:59:59Z)\n",
    "  |> filter(fn: (r) =>\n",
    "    r._measurement == \"tmo_csde_metrics_vvm_authentication_success\" \n",
    "    and r.metric_type == \"counter\" \n",
    "    and r.buildVersion == \"10.0.1.783955\")\n",
    "  '''\n",
    "queryAll = '''\n",
    "from(bucket:\"porg_metrics_metricssvc\")\n",
    "  |> range(start:2022-07-29T00:00:00Z, stop:2022-07-29T23:59:59Z)\n",
    "  |> filter(fn: (r) => r.buildVersion == \"10.0.1.783955\")\n",
    "  '''\n",
    "table = query_api.query_data_frame(query=queryAll, org=org)\n",
    "\n",
    "print(\"Size=\",np.size(table))\n",
    "print(\"\\n\")\n",
    "print(table.head())"
   ]
  },
  {
   "cell_type": "code",
   "execution_count": null,
   "metadata": {},
   "outputs": [
    {
     "name": "stdout",
     "output_type": "stream",
     "text": [
      "2022-07-30\n"
     ]
    }
   ],
   "source": [
    "from datetime import date\n",
    "today = str(date.today())\n",
    "print(today)"
   ]
  },
  {
   "cell_type": "code",
   "execution_count": null,
   "metadata": {},
   "outputs": [
    {
     "data": {
      "text/plain": [
       "'2022-07-29'"
      ]
     },
     "execution_count": 108,
     "metadata": {},
     "output_type": "execute_result"
    }
   ],
   "source": [
    "from datetime import datetime, timedelta\n",
    "\n",
    "\n",
    "def yesterday(frmt='%Y-%m-%d', string=True):\n",
    "    yesterday = datetime.now() - timedelta(1)\n",
    "    if string:\n",
    "        return yesterday.strftime(frmt)\n",
    "    return yesterday\n",
    "\n",
    "yesterday()"
   ]
  },
  {
   "cell_type": "code",
   "execution_count": null,
   "metadata": {},
   "outputs": [
    {
     "name": "stdout",
     "output_type": "stream",
     "text": [
      "\n",
      "Data saved into 2022-07-29.csv file\n"
     ]
    }
   ],
   "source": [
    "fileName = yesterday() + \"_All.csv\"\n",
    "table.to_csv(fileName)\n",
    "print(f'\\nData saved into {fileName} file')"
   ]
  },
  {
   "cell_type": "code",
   "execution_count": null,
   "metadata": {},
   "outputs": [],
   "source": [
    "# Close client\n",
    "client.__del__()"
   ]
  }
 ],
 "metadata": {
  "kernelspec": {
   "display_name": "Python 3.8.8 ('base')",
   "language": "python",
   "name": "python3"
  },
  "language_info": {
   "codemirror_mode": {
    "name": "ipython",
    "version": 3
   },
   "file_extension": ".py",
   "mimetype": "text/x-python",
   "name": "python",
   "nbconvert_exporter": "python",
   "pygments_lexer": "ipython3",
   "version": "3.8.8"
  },
  "orig_nbformat": 4,
  "vscode": {
   "interpreter": {
    "hash": "59a567c1ad30066296faa170cba2decc783c48aa8e2893eb4e12e8ad966ca860"
   }
  }
 },
 "nbformat": 4,
 "nbformat_minor": 2
}
