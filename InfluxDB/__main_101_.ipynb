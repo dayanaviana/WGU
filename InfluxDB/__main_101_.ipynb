{
 "cells": [
  {
   "cell_type": "code",
   "execution_count": 21,
   "metadata": {},
   "outputs": [],
   "source": [
    "# ! pip3 install influxdb-client\n"
   ]
  },
  {
   "cell_type": "code",
   "execution_count": 22,
   "metadata": {},
   "outputs": [],
   "source": [
    "#Run this command in your terminal to save your token as an environment variable:\n",
    "# export INFLUXDB_TOKEN=eICnsnDdrrjoi67nqIg5Pl6jKykNgVFCxqjaj9s_EiI5z4Kd9KIOzR_iMiZtKWCliLuBmklM5KYTu5MVLdg3tQ=="
   ]
  },
  {
   "cell_type": "code",
   "execution_count": 23,
   "metadata": {},
   "outputs": [],
   "source": [
    "import influxdb_client, os, time\n",
    "from influxdb_client import InfluxDBClient, Point, WritePrecision\n",
    "from influxdb_client.client.write_api import SYNCHRONOUS\n",
    "\n",
    "# token = os.environ.get(\"INFLUXDB_TOKEN\")\n",
    "token = \"eICnsnDdrrjoi67nqIg5Pl6jKykNgVFCxqjaj9s_EiI5z4Kd9KIOzR_iMiZtKWCliLuBmklM5KYTu5MVLdg3tQ==\"\n",
    "org = \"dayanatsv@gmail.com\"\n",
    "url = \"https://us-central1-1.gcp.cloud2.influxdata.com\"\n",
    "\n",
    "client = influxdb_client.InfluxDBClient(url=url, token=token, org=org)\n"
   ]
  },
  {
   "cell_type": "code",
   "execution_count": 24,
   "metadata": {},
   "outputs": [],
   "source": [
    "bucket=\"py_bucket\"\n",
    "\n",
    "write_api = client.write_api(write_options=SYNCHRONOUS)\n",
    "   \n",
    "for value in range(5):\n",
    "  point = (\n",
    "    Point(\"measurement1\")\n",
    "    .tag(\"tagname1\", \"tagvalue1\")\n",
    "    .field(\"field1\", value)\n",
    "  )\n",
    "  write_api.write(bucket=bucket, org=\"dayanatsv@gmail.com\", record=point)\n",
    "  time.sleep(1) # separate points by 1 second\n"
   ]
  },
  {
   "cell_type": "code",
   "execution_count": 25,
   "metadata": {},
   "outputs": [],
   "source": [
    "# Flux query\n",
    "# from(bucket: \"py_bucket\")|> range(start: -10m)"
   ]
  },
  {
   "cell_type": "code",
   "execution_count": 26,
   "metadata": {},
   "outputs": [
    {
     "name": "stdout",
     "output_type": "stream",
     "text": [
      "FluxRecord() table: 0, {'result': '_result', 'table': 0, '_start': datetime.datetime(2022, 7, 27, 23, 50, 45, 606047, tzinfo=tzutc()), '_stop': datetime.datetime(2022, 7, 28, 0, 0, 45, 606047, tzinfo=tzutc()), '_time': datetime.datetime(2022, 7, 28, 0, 0, 39, 363569, tzinfo=tzutc()), '_value': 0, '_field': 'field1', '_measurement': 'measurement1', 'tagname1': 'tagvalue1'}\n",
      "FluxRecord() table: 0, {'result': '_result', 'table': 0, '_start': datetime.datetime(2022, 7, 27, 23, 50, 45, 606047, tzinfo=tzutc()), '_stop': datetime.datetime(2022, 7, 28, 0, 0, 45, 606047, tzinfo=tzutc()), '_time': datetime.datetime(2022, 7, 28, 0, 0, 40, 752176, tzinfo=tzutc()), '_value': 1, '_field': 'field1', '_measurement': 'measurement1', 'tagname1': 'tagvalue1'}\n",
      "FluxRecord() table: 0, {'result': '_result', 'table': 0, '_start': datetime.datetime(2022, 7, 27, 23, 50, 45, 606047, tzinfo=tzutc()), '_stop': datetime.datetime(2022, 7, 28, 0, 0, 45, 606047, tzinfo=tzutc()), '_time': datetime.datetime(2022, 7, 28, 0, 0, 41, 916773, tzinfo=tzutc()), '_value': 2, '_field': 'field1', '_measurement': 'measurement1', 'tagname1': 'tagvalue1'}\n",
      "FluxRecord() table: 0, {'result': '_result', 'table': 0, '_start': datetime.datetime(2022, 7, 27, 23, 50, 45, 606047, tzinfo=tzutc()), '_stop': datetime.datetime(2022, 7, 28, 0, 0, 45, 606047, tzinfo=tzutc()), '_time': datetime.datetime(2022, 7, 28, 0, 0, 43, 89064, tzinfo=tzutc()), '_value': 3, '_field': 'field1', '_measurement': 'measurement1', 'tagname1': 'tagvalue1'}\n",
      "FluxRecord() table: 0, {'result': '_result', 'table': 0, '_start': datetime.datetime(2022, 7, 27, 23, 50, 45, 606047, tzinfo=tzutc()), '_stop': datetime.datetime(2022, 7, 28, 0, 0, 45, 606047, tzinfo=tzutc()), '_time': datetime.datetime(2022, 7, 28, 0, 0, 44, 288720, tzinfo=tzutc()), '_value': 4, '_field': 'field1', '_measurement': 'measurement1', 'tagname1': 'tagvalue1'}\n"
     ]
    }
   ],
   "source": [
    "query_api = client.query_api()\n",
    "\n",
    "query = \"\"\"from(bucket: \"py_bucket\")\n",
    " |> range(start: -10m)\n",
    " |> filter(fn: (r) => r._measurement == \"measurement1\")\"\"\"\n",
    "tables = query_api.query(query, org=\"dayanatsv@gmail.com\")\n",
    "\n",
    "for table in tables:\n",
    "  for record in table.records:\n",
    "    print(record)\n"
   ]
  },
  {
   "cell_type": "code",
   "execution_count": 35,
   "metadata": {},
   "outputs": [
    {
     "name": "stdout",
     "output_type": "stream",
     "text": [
      "FluxRecord() table: 0, {'result': '_result', 'table': 0, '_start': datetime.datetime(2022, 7, 27, 23, 53, 53, 263801, tzinfo=tzutc()), '_stop': datetime.datetime(2022, 7, 28, 0, 3, 53, 263801, tzinfo=tzutc()), '_value': 2.0, '_field': 'field1', '_measurement': 'measurement1', 'tagname1': 'tagvalue1'}\n"
     ]
    }
   ],
   "source": [
    "query_api = client.query_api()\n",
    "\n",
    "query = \"\"\"from(bucket: \"py_bucket\")\n",
    "  |> range(start: -10m)\n",
    "  |> filter(fn: (r) => r._measurement == \"measurement1\")\n",
    "  |> mean()\"\"\"\n",
    "tables = query_api.query(query, org=\"dayanatsv@gmail.com\")\n",
    "\n",
    "for table in tables:\n",
    "    for record in table.records:\n",
    "        print(record)\n"
   ]
  }
 ],
 "metadata": {
  "kernelspec": {
   "display_name": "Python 3.8.8 ('base')",
   "language": "python",
   "name": "python3"
  },
  "language_info": {
   "codemirror_mode": {
    "name": "ipython",
    "version": 3
   },
   "file_extension": ".py",
   "mimetype": "text/x-python",
   "name": "python",
   "nbconvert_exporter": "python",
   "pygments_lexer": "ipython3",
   "version": "3.8.8"
  },
  "orig_nbformat": 4,
  "vscode": {
   "interpreter": {
    "hash": "59a567c1ad30066296faa170cba2decc783c48aa8e2893eb4e12e8ad966ca860"
   }
  }
 },
 "nbformat": 4,
 "nbformat_minor": 2
}
