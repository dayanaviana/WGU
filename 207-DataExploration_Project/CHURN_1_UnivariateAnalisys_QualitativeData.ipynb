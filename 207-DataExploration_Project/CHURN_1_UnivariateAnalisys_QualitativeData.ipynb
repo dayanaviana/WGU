{
  "cells": [
    {
      "cell_type": "markdown",
      "metadata": {
        "id": "view-in-github",
        "colab_type": "text"
      },
      "source": [
        "<a href=\"https://colab.research.google.com/github/dayanaviana/WGU/blob/main/207-DataExploration_Project/CHURN_1_UnivariateAnalisys_QualitativeData.ipynb\" target=\"_parent\"><img src=\"https://colab.research.google.com/assets/colab-badge.svg\" alt=\"Open In Colab\"/></a>"
      ]
    },
    {
      "cell_type": "markdown",
      "source": [
        "# Univariate Analisys for Qualitative Variables\n"
      ],
      "metadata": {
        "id": "HTYIUNg7bJgI"
      }
    },
    {
      "cell_type": "markdown",
      "metadata": {
        "id": "Wg1V_l_3qH2J"
      },
      "source": [
        "# Descriptive Statistics\n",
        "Describe and summarize data"
      ]
    },
    {
      "cell_type": "code",
      "execution_count": null,
      "metadata": {
        "colab": {
          "base_uri": "https://localhost:8080/",
          "height": 864
        },
        "id": "syA3xBjTUk-B",
        "outputId": "b4bf31ef-a9c5-4ae2-a247-632e3c04a91c"
      },
      "outputs": [
        {
          "output_type": "stream",
          "name": "stdout",
          "text": [
            "\n",
            "\n",
            "Churn\n",
            "Chi-square test:  Power_divergenceResult(statistic=2209.0, pvalue=0.0)\n",
            "Categories have DIFFERENT distribution\n",
            "  Category  Count  Percentage\n",
            "0       No   7350       0.735\n",
            "1      Yes   2650       0.265\n",
            "\n",
            "\n"
          ]
        },
        {
          "output_type": "display_data",
          "data": {
            "image/png": "[encoded data removed]",
            "text/plain": [
              "<Figure size 432x288 with 1 Axes>"
            ]
          },
          "metadata": {
            "needs_background": "light"
          }
        },
        {
          "output_type": "stream",
          "name": "stdout",
          "text": [
            "\n",
            "\n",
            "City\n",
            "Chi-square test:  Power_divergenceResult(statistic=11486.5144, pvalue=0.0)\n",
            "Categories have DIFFERENT distribution\n",
            "          Category  Count  Percentage\n",
            "0          Houston     34      0.0034\n",
            "1         New York     24      0.0024\n",
            "2      Springfield     23      0.0023\n",
            "3          Buffalo     23      0.0023\n",
            "4      San Antonio     22      0.0022\n",
            "...            ...    ...         ...\n",
            "6053    Cottontown      1      0.0001\n",
            "6054     San Dimas      1      0.0001\n",
            "6055     Fort Hill      1      0.0001\n",
            "6056       Webster      1      0.0001\n",
            "6057  Clarkesville      1      0.0001\n",
            "\n",
            "[6058 rows x 3 columns]\n",
            "\n",
            "\n"
          ]
        }
      ],
      "source": [
        "# Source code: \n",
        "\n",
        "from operator import index\n",
        "import pandas as pd\n",
        "from scipy import stats\n",
        "import matplotlib.pyplot as plt\n",
        "import numpy as np\n",
        "\n",
        "# import into data frame\n",
        "churn = \"https://raw.githubusercontent.com/dayanaviana/WGU/main/datasources/churn_clean.csv\"\n",
        "df = pd.read_csv(churn, index_col=0)\n",
        "\n",
        "categorical_columns_array = [\"Churn\",\"City\",\"State\",\"County\",\"Area\",\"Marital\",\n",
        "\"Gender\",\"Techie\",\"InternetService\",\"Multiple\",\"OnlineBackup\",\"DeviceProtection\",\n",
        "\"StreamingTV\",\"StreamingMovies\",\"Port_modem\",\"Tablet\",\"OnlineSecurity\",\"TechSupport\",\n",
        "\"Contract\",\"PaperlessBilling\",\"PaymentMethod\",\"TimeZone\",\"Item1\",\"Item2\",\"Item3\",\n",
        "\"Item4\",\"Item5\",\"Item6\",\"Item7\",\"Item8\",\"Job\",]\n",
        "\n",
        "for column_name in categorical_columns_array:\n",
        "  print(\"\\n\")\n",
        "  print(column_name)\n",
        "\n",
        "  sample = df.loc[:, column_name]\n",
        "  categories = np.unique(sample)\n",
        "  categories_counts = sample.value_counts()\n",
        "  percentages = df[column_name].value_counts(dropna=False, normalize=True)\n",
        "\n",
        "  #Performing Chi-square test\n",
        "  # H0: NO statistic significant difference between groups\n",
        "  # H1: Correlation exists\n",
        "  chisquareResult = stats.chisquare(categories_counts)\n",
        "  print(\"Chi-square test: \", chisquareResult)\n",
        "  statistic, pValue = chisquareResult\n",
        "\n",
        "  #Interpret p-value\n",
        "  #P-value is the probability of H0 being true\n",
        "  alpha = 0.05\n",
        "  if pValue <= alpha:\n",
        "    h0 = False # Reject H0\n",
        "  else:\n",
        "    h0 = True # Accept H0\n",
        "\n",
        "  if (h0):\n",
        "    print(\"Categories have SAME distribution\")\n",
        "  else:\n",
        "    print(\"Categories have DIFFERENT distribution\")\n",
        "  \n",
        "  # Build DF for Bar graph\n",
        "  # custom_index = ['Row'+str(i) for i in range(1, len(categories_counts.values)+1)]\n",
        "  custom_df = pd.DataFrame(categories_counts)\n",
        "  custom_df['Percentage'] = percentages\n",
        "  # Transfrom index as a column\n",
        "  custom_df.reset_index(level=0, inplace=True)\n",
        "  # Rename columns\n",
        "  custom_df.rename(columns = {list(custom_df)[0]:'Category'}, inplace=True)\n",
        "  custom_df.rename(columns = {list(custom_df)[1]:'Count'}, inplace=True)\n",
        "  print(custom_df)\n",
        "  print(\"\\n\")\n",
        "\n",
        "  # Bar Graph\n",
        "  # https://medium.com/@jb.ranchana/easy-way-to-create-stacked-bar-graphs-from-dataframe-19cc97c86fe3\n",
        "\n",
        "  bar_graph = plt.bar(x=custom_df['Category'], \n",
        "        height=custom_df['Count'],\n",
        "        color='lightseagreen', #https://matplotlib.org/3.1.0/gallery/color/named_colors.html\n",
        "        #width = 0.5\n",
        "        )\n",
        "  plt.ylabel(\"Counts\")\n",
        "  plt.xlabel(\"Category\")\n",
        "  plt.title(column_name)\n",
        "\n",
        "  # Add counts above the graph\n",
        "  for rect in bar_graph:\n",
        "      x = rect.get_x()\n",
        "      height = rect.get_height()\n",
        "      plt.text(x=rect.get_x() + rect.get_width() / 2, y=height+.10,\n",
        "      s=\"{}\".format(height),\n",
        "      ha='center', \n",
        "      va='bottom')\n",
        "\n",
        "  plt.show()\n"
      ]
    }
  ],
  "metadata": {
    "colab": {
      "name": "CHURN 1_UnivariateAnalisys_QualitativeData.ipynb",
      "provenance": [],
      "include_colab_link": true
    },
    "kernelspec": {
      "display_name": "Python 3",
      "name": "python3"
    },
    "language_info": {
      "name": "python"
    }
  },
  "nbformat": 4,
  "nbformat_minor": 0
}