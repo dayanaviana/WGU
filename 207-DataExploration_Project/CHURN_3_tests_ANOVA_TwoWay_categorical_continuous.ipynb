{
  "nbformat": 4,
  "nbformat_minor": 0,
  "metadata": {
    "colab": {
      "name": "CHURN 3_tests_ANOVA_TwoWay_categorical-continuous.ipynb",
      "provenance": [],
      "collapsed_sections": [
        "QfpGxurdEQKm",
        "vtbxHcguEEDR"
      ],
      "authorship_tag": "ABX9TyO1n0r+7tLqYSmp2LzdVFfW",
      "include_colab_link": true
    },
    "kernelspec": {
      "name": "python3",
      "display_name": "Python 3"
    },
    "language_info": {
      "name": "python"
    }
  },
  "cells": [
    {
      "cell_type": "markdown",
      "metadata": {
        "id": "view-in-github",
        "colab_type": "text"
      },
      "source": [
        "<a href=\"https://colab.research.google.com/github/dayanaviana/WGU/blob/main/207-DataExploration_Project/CHURN_3_tests_ANOVA_TwoWay_categorical_continuous.ipynb\" target=\"_parent\"><img src=\"https://colab.research.google.com/assets/colab-badge.svg\" alt=\"Open In Colab\"/></a>"
      ]
    },
    {
      "cell_type": "markdown",
      "source": [
        "# Two-Way ANOVA\n",
        "## Used to verify how does each factor explain variation in the dependent variable\n",
        "\n",
        " \n",
        "H0: A_µ != B_µ != C_µ\n",
        "\n",
        "H1: NO statistic significant difference between groups\n",
        "    \n",
        "    If p-value <= alpha: significant result, Fail to reject H0. Means are different.\n",
        "    If p-value > alpha: not significant result, Reject H0. Means are the same.\n"
      ],
      "metadata": {
        "id": "0hMzbj_PrZxI"
      }
    },
    {
      "cell_type": "markdown",
      "source": [
        "## Load dataset"
      ],
      "metadata": {
        "id": "QfpGxurdEQKm"
      }
    },
    {
      "cell_type": "code",
      "execution_count": 2,
      "metadata": {
        "id": "VYkXtGojDfBO"
      },
      "outputs": [],
      "source": [
        "#churn_clean_altered.csv\n",
        "docId= \"1-WjyGAwXhgkEMSGk1PHKMjIASkVgn-YO\"\n",
        "googleDriveFile = \"https://docs.google.com/uc?id=\"+docId+\"&export=download\"\n",
        "\n",
        "# import into data frame\n",
        "import pandas as pd\n",
        "df = pd.read_csv(googleDriveFile, index_col=0)"
      ]
    },
    {
      "cell_type": "markdown",
      "source": [
        "# ANOVA sample"
      ],
      "metadata": {
        "id": "X4yRl1dYgN-C"
      }
    },
    {
      "cell_type": "code",
      "source": [
        "import statsmodels.api as sm\n",
        "from statsmodels.formula.api import ols\n",
        "\n",
        "# Target ~ Predictor Factors\n",
        "formula = \"\"\"MonthlyCharge ~ OnlineBackup + DeviceProtection + \n",
        "              StreamingMovies + StreamingTV + Multiple + Techie\"\"\"\n",
        "\n",
        "model = ols(formula, data=df).fit()\n",
        "\n",
        "aov_table = sm.stats.anova_lm(model, typ=2)\n",
        "\n",
        "print(aov_table)"
      ],
      "metadata": {
        "colab": {
          "base_uri": "https://localhost:8080/"
        },
        "id": "Oc3ecO-DYAky",
        "outputId": "3cb549c1-ffce-40e1-d908-3fc96ba8a70b"
      },
      "execution_count": null,
      "outputs": [
        {
          "output_type": "stream",
          "name": "stdout",
          "text": [
            "                        sum_sq      df             F         PR(>F)\n",
            "OnlineBackup      1.265507e+06     1.0   4422.851831   0.000000e+00\n",
            "DeviceProtection  3.901919e+05     1.0   1363.691105  5.982011e-280\n",
            "StreamingMovies   6.819160e+06     1.0  23832.444035   0.000000e+00\n",
            "StreamingTV       4.411747e+06     1.0  15418.721022   0.000000e+00\n",
            "Multiple          2.688241e+06     1.0   9395.197818   0.000000e+00\n",
            "Techie            5.781685e+02     1.0      2.020655   1.552034e-01\n",
            "Residual          2.859290e+06  9993.0           NaN            NaN\n"
          ]
        }
      ]
    },
    {
      "cell_type": "code",
      "source": [
        "import statsmodels.api as sm\n",
        "from statsmodels.formula.api import ols\n",
        "\n",
        "# Target ~ Predictor Factors\n",
        "formula = \"\"\"Tenure ~ OnlineBackup + DeviceProtection + \n",
        "          StreamingMovies + StreamingTV + Multiple + Techie\"\"\"\n",
        "\n",
        "model = ols(formula, data=df).fit()\n",
        "\n",
        "aov_table = sm.stats.anova_lm(model, typ=2)\n",
        "\n",
        "print(aov_table)"
      ],
      "metadata": {
        "colab": {
          "base_uri": "https://localhost:8080/"
        },
        "id": "D78cJYv0YEaB",
        "outputId": "1b044dec-5066-4b7d-8045-a6556d52ac67"
      },
      "execution_count": null,
      "outputs": [
        {
          "output_type": "stream",
          "name": "stdout",
          "text": [
            "                        sum_sq      df         F    PR(>F)\n",
            "OnlineBackup      3.119827e+03     1.0  4.465545  0.034610\n",
            "DeviceProtection  5.500048e+03     1.0  7.872458  0.005029\n",
            "StreamingMovies   2.838483e+01     1.0  0.040628  0.840261\n",
            "StreamingTV       5.228466e+01     1.0  0.074837  0.784425\n",
            "Multiple          7.465318e+02     1.0  1.068543  0.301300\n",
            "Techie            6.463160e+02     1.0  0.925100  0.336163\n",
            "Residual          6.981552e+06  9993.0       NaN       NaN\n"
          ]
        }
      ]
    },
    {
      "cell_type": "code",
      "source": [
        "import statsmodels.api as sm\n",
        "from statsmodels.formula.api import ols\n",
        "\n",
        "# Target ~ Predictor Factors\n",
        "formula = \"\"\"Bandwidth_GB_Year ~ OnlineBackup + DeviceProtection\n",
        "          + StreamingMovies + StreamingTV + Multiple + Techie\"\"\"\n",
        "\n",
        "model = ols(formula, data=df).fit()\n",
        "\n",
        "aov_table = sm.stats.anova_lm(model, typ=2)\n",
        "\n",
        "print(aov_table)"
      ],
      "metadata": {
        "colab": {
          "base_uri": "https://localhost:8080/"
        },
        "id": "7q0D_swKYN8x",
        "outputId": "f0266651-aef8-45bb-a26e-8faebf1045e7"
      },
      "execution_count": null,
      "outputs": [
        {
          "output_type": "stream",
          "name": "stdout",
          "text": [
            "                        sum_sq      df          F        PR(>F)\n",
            "OnlineBackup      8.529505e+07     1.0  17.977384  2.255565e-05\n",
            "DeviceProtection  3.999462e+06     1.0   0.842955  3.585753e-01\n",
            "StreamingMovies   1.019835e+08     1.0  21.494759  3.592951e-06\n",
            "StreamingTV       1.453551e+08     1.0  30.636054  3.191172e-08\n",
            "Multiple          2.035288e+06     1.0   0.428972  5.125091e-01\n",
            "Techie            4.227684e+06     1.0   0.891056  3.452140e-01\n",
            "Residual          4.741254e+10  9993.0        NaN           NaN\n"
          ]
        }
      ]
    }
  ]
}